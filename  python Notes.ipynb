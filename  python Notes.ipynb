{
 "cells": [
  {
   "cell_type": "markdown",
   "id": "07a23765",
   "metadata": {},
   "source": [
    "# Python"
   ]
  },
  {
   "cell_type": "markdown",
   "id": "c12e7a5b",
   "metadata": {},
   "source": [
    "# what is python\n",
    "\n",
    "- python is a high level,general purpose programming language.\n",
    "\n",
    "- It is used to design web development,scripting,software development,mathematical algorithm.\n",
    "\n",
    "- Its design philosophy emphasizes code redability with the use of significant indentation.\n",
    "\n",
    "- It supports multiple programming paradigms,including structred,object-oriented and functional programming."
   ]
  },
  {
   "cell_type": "markdown",
   "id": "02ada4f3",
   "metadata": {
    "heading_collapsed": true
   },
   "source": [
    "# Basic syntax of python:\n",
    "- print():This function is used to print the values in the python.\n",
    "\n",
    "- Type():This function is used to check the datatype of the variable.\n",
    "\n",
    "- Input():This function is used to take input from user at runtime.\n",
    "\n",
    "- Datetime():This function used to check the date&time of system."
   ]
  },
  {
   "cell_type": "code",
   "execution_count": 8,
   "id": "dce38a4b",
   "metadata": {
    "hidden": true
   },
   "outputs": [
    {
     "name": "stdout",
     "output_type": "stream",
     "text": [
      "Hello world\n",
      "123\n"
     ]
    }
   ],
   "source": [
    "# using print()\n",
    "print(\"Hello world\")\n",
    "\n",
    "print(123)"
   ]
  },
  {
   "cell_type": "code",
   "execution_count": 9,
   "id": "49181d17",
   "metadata": {
    "hidden": true
   },
   "outputs": [
    {
     "name": "stdout",
     "output_type": "stream",
     "text": [
      "<class 'int'>\n",
      "<class 'str'>\n",
      "<class 'float'>\n"
     ]
    }
   ],
   "source": [
    "# using type()\n",
    "a=10\n",
    "print(type(a))\n",
    "\n",
    "b=\"python\"\n",
    "print(type(b))\n",
    "\n",
    "c=10.5\n",
    "print(type(c))"
   ]
  },
  {
   "cell_type": "code",
   "execution_count": 10,
   "id": "1862b2fb",
   "metadata": {
    "hidden": true
   },
   "outputs": [
    {
     "name": "stdout",
     "output_type": "stream",
     "text": [
      "enter the value of A: 10\n",
      "the value of A is: 10\n"
     ]
    }
   ],
   "source": [
    "# using input()\n",
    "a=input(\"enter the value of A: \")\n",
    "print(\"the value of A is:\",a)"
   ]
  },
  {
   "cell_type": "markdown",
   "id": "2525cbf9",
   "metadata": {},
   "source": [
    "# comments:\n",
    "- comments is used in python to make code readable.\n",
    "\n",
    "- comments make code easy to understand for anyone.\n",
    "\n",
    "- comments are also used when code testing is going.\n",
    "\n",
    "- comments are represented by \"#\" in python."
   ]
  },
  {
   "cell_type": "markdown",
   "id": "8d7ad0a8",
   "metadata": {},
   "source": [
    "# single line comments"
   ]
  },
  {
   "cell_type": "code",
   "execution_count": null,
   "id": "3f6b9e9a",
   "metadata": {},
   "outputs": [],
   "source": [
    "# write a program to print multiple values with multiple variables"
   ]
  },
  {
   "cell_type": "markdown",
   "id": "d32351ed",
   "metadata": {},
   "source": [
    "# multiple line comments"
   ]
  },
  {
   "cell_type": "code",
   "execution_count": null,
   "id": "8ca4a72e",
   "metadata": {},
   "outputs": [],
   "source": [
    "#   write a program to print\n",
    "#   multiple values with multiple variables-l\n",
    "\n",
    "To apply multilines commentsuse this shortcut keys == (select the lines) ctrl+/"
   ]
  },
  {
   "cell_type": "markdown",
   "id": "35a6a8ba",
   "metadata": {},
   "source": [
    "# Keywords\n",
    "- keywords are reserved words in python.we cannot use a keyword as a variable name,function name and any other identifier."
   ]
  },
  {
   "cell_type": "markdown",
   "id": "504a32c4",
   "metadata": {},
   "source": [
    "\n",
    "- Keywords in Python are predefined reserved words that have specific meanings and functionalities within the programming language. These keywords are part of the Python syntax and are used to define the structure, flow, and behavior of a program. Here are some reasons why keywords are used in Python:\n",
    "\n",
    "- 1.Syntax rules: Keywords define the basic syntax and structure of the Python language. They are used to form statements, control structures (such as if-else, loops), function definitions, and class definitions.\n",
    "\n",
    "- 2.Predefined functionality: Keywords represent built-in functionalities and operations that Python provides. These functionalities include mathematical operations, logical operations, type conversions, and more. By using keywords, developers can leverage the pre-implemented behaviors without having to write the functionality from scratch.\n",
    "\n",
    "- 3.Control flow and logic: Keywords like if, else, elif, for, while, and break are used to control the flow and logic of a program. They help in decision making, repetition, and branching, allowing programmers to create conditional and iterative behaviors.\n",
    "\n",
    "- 4.Variable and object handling: Keywords such as global, nonlocal, and del are used to handle variables and objects in Python. They allow manipulation of the scope and lifetime of variables, accessing variables from different scopes, and deleting variables or objects.\n",
    "\n",
    "- 5.Defining functions and classes: Keywords like def and class are used to define functions and classes, respectively. They indicate the start of a function or class definition and provide the necessary structure to create reusable code blocks.\n",
    "\n",
    "- 6.Exception handling: Keywords such as try, except, finally, and raise are used for exception handling in Python. They help in catching and handling runtime errors, ensuring the program gracefully handles unexpected situations.\n",
    "\n",
    "- -By using keywords, Python provides a standard set of instructions and functionalities that developers can rely on. These keywords contribute to the readability, consistency, and maintainability of Python code by following a common language syntax."
   ]
  },
  {
   "cell_type": "code",
   "execution_count": 11,
   "id": "92bbea12",
   "metadata": {},
   "outputs": [
    {
     "ename": "SyntaxError",
     "evalue": "invalid syntax (1649475634.py, line 1)",
     "output_type": "error",
     "traceback": [
      "\u001b[1;36m  File \u001b[1;32m\"C:\\Users\\sss\\AppData\\Local\\Temp\\ipykernel_20396\\1649475634.py\"\u001b[1;36m, line \u001b[1;32m1\u001b[0m\n\u001b[1;33m    and=5\u001b[0m\n\u001b[1;37m    ^\u001b[0m\n\u001b[1;31mSyntaxError\u001b[0m\u001b[1;31m:\u001b[0m invalid syntax\n"
     ]
    }
   ],
   "source": [
    "and=5\n",
    "print(and)"
   ]
  },
  {
   "cell_type": "code",
   "execution_count": 12,
   "id": "6a448729",
   "metadata": {},
   "outputs": [
    {
     "ename": "SyntaxError",
     "evalue": "cannot assign to True (1082082124.py, line 1)",
     "output_type": "error",
     "traceback": [
      "\u001b[1;36m  File \u001b[1;32m\"C:\\Users\\sss\\AppData\\Local\\Temp\\ipykernel_20396\\1082082124.py\"\u001b[1;36m, line \u001b[1;32m1\u001b[0m\n\u001b[1;33m    True=5\u001b[0m\n\u001b[1;37m    ^\u001b[0m\n\u001b[1;31mSyntaxError\u001b[0m\u001b[1;31m:\u001b[0m cannot assign to True\n"
     ]
    }
   ],
   "source": [
    "True=5\n",
    "print(True)"
   ]
  },
  {
   "cell_type": "code",
   "execution_count": 3,
   "id": "ebb70c6d",
   "metadata": {},
   "outputs": [
    {
     "name": "stdout",
     "output_type": "stream",
     "text": [
      "\n",
      "Here is a list of the Python keywords.  Enter any keyword to get more help.\n",
      "\n",
      "False               break               for                 not\n",
      "None                class               from                or\n",
      "True                continue            global              pass\n",
      "__peg_parser__      def                 if                  raise\n",
      "and                 del                 import              return\n",
      "as                  elif                in                  try\n",
      "assert              else                is                  while\n",
      "async               except              lambda              with\n",
      "await               finally             nonlocal            yield\n",
      "\n"
     ]
    }
   ],
   "source": [
    "help(\"keywords\")\n",
    " "
   ]
  },
  {
   "cell_type": "code",
   "execution_count": null,
   "id": "97ee034c",
   "metadata": {},
   "outputs": [],
   "source": []
  },
  {
   "cell_type": "code",
   "execution_count": null,
   "id": "08873ae1",
   "metadata": {},
   "outputs": [],
   "source": []
  },
  {
   "cell_type": "markdown",
   "id": "20b5ec0e",
   "metadata": {},
   "source": [
    "# Data Types\n",
    "\n",
    "- Data types are used before the variable,to know which type of values are stored in variable.\n",
    "- Data types are actually classes and variables are instance(object) of these classes."
   ]
  },
  {
   "cell_type": "markdown",
   "id": "02999534",
   "metadata": {},
   "source": [
    "# Following are the python's bulit-in data types:\n",
    "- Numeric(integer,float,complex number)\n",
    "- Boolean\n",
    "- set\n",
    "- Dictionary\n",
    "- sequence(list,tuple,string)"
   ]
  },
  {
   "cell_type": "markdown",
   "id": "2d47572d",
   "metadata": {},
   "source": [
    "# Numeric Data type"
   ]
  },
  {
   "cell_type": "code",
   "execution_count": 14,
   "id": "c997955f",
   "metadata": {},
   "outputs": [
    {
     "name": "stdout",
     "output_type": "stream",
     "text": [
      "<class 'int'>\n",
      "<class 'float'>\n",
      "<class 'complex'>\n"
     ]
    }
   ],
   "source": [
    "# integer datatype\n",
    "a=10\n",
    "print(type(a))\n",
    "\n",
    "# float datatype\n",
    "b=10.9\n",
    "print(type(b))\n",
    "\n",
    "# complex datatype\n",
    "c=2+4j\n",
    "print(type(c))"
   ]
  },
  {
   "cell_type": "markdown",
   "id": "8de8b168",
   "metadata": {},
   "source": [
    "# Boolean Datatype\n",
    "- True\n",
    "- False"
   ]
  },
  {
   "cell_type": "code",
   "execution_count": 15,
   "id": "f2ac1a83",
   "metadata": {},
   "outputs": [
    {
     "name": "stdout",
     "output_type": "stream",
     "text": [
      "<class 'bool'>\n",
      "<class 'bool'>\n"
     ]
    }
   ],
   "source": [
    "d=True\n",
    "print(type(d))\n",
    "\n",
    "e=False\n",
    "print(type(e))"
   ]
  },
  {
   "cell_type": "markdown",
   "id": "c543639c",
   "metadata": {},
   "source": [
    "# Set Data type\n",
    "- it is denoted by{}"
   ]
  },
  {
   "cell_type": "code",
   "execution_count": 16,
   "id": "81bbdc34",
   "metadata": {},
   "outputs": [
    {
     "name": "stdout",
     "output_type": "stream",
     "text": [
      "<class 'set'>\n"
     ]
    }
   ],
   "source": [
    "f={'a','b','c'}\n",
    "print(type(f))"
   ]
  },
  {
   "cell_type": "markdown",
   "id": "6a7f7f16",
   "metadata": {},
   "source": [
    "# Dictionary Data type\n",
    "- It is denoted by{}"
   ]
  },
  {
   "cell_type": "markdown",
   "id": "5b2c8027",
   "metadata": {},
   "source": [
    "# Sequence Datatype\n",
    "- list\n",
    "- tuple\n",
    "- string"
   ]
  },
  {
   "cell_type": "code",
   "execution_count": 17,
   "id": "0d201124",
   "metadata": {},
   "outputs": [
    {
     "name": "stdout",
     "output_type": "stream",
     "text": [
      "<class 'list'>\n",
      "<class 'str'>\n",
      "<class 'tuple'>\n"
     ]
    }
   ],
   "source": [
    "# list Datatype\n",
    "l1=[1,2,3,4,5]\n",
    "print(type(l1))\n",
    "\n",
    "# string datatype\n",
    "y=\"python\"\n",
    "print(type(y))\n",
    "\n",
    "# tuple datatype\n",
    "z=(1,2,3,4,5)\n",
    "print(type(z))"
   ]
  },
  {
   "cell_type": "code",
   "execution_count": null,
   "id": "adeb42ca",
   "metadata": {},
   "outputs": [],
   "source": []
  },
  {
   "cell_type": "code",
   "execution_count": null,
   "id": "760b9c3e",
   "metadata": {},
   "outputs": [],
   "source": []
  },
  {
   "cell_type": "markdown",
   "id": "20e67aa2",
   "metadata": {},
   "source": [
    "# Varibles\n",
    "\n",
    "- varables are names to store some values.\n",
    "- It can store integers,float,string,boolean,set,tuple,list and dictionary."
   ]
  },
  {
   "cell_type": "markdown",
   "id": "4ea9c2a4",
   "metadata": {},
   "source": [
    "# Rules of variables:\n",
    "\n",
    "- variables should start with alphabet only.\n",
    "- variable name should not have whitespaces.\n",
    "- we cannot use datatype name as a variable name.\n",
    "- variable names are significant."
   ]
  },
  {
   "cell_type": "markdown",
   "id": "2483494b",
   "metadata": {},
   "source": [
    "# python allows multiple variable at a time\n",
    "\n",
    "- eg: x,y,z = \"orange\",\"mango\",\"Banana\""
   ]
  },
  {
   "cell_type": "markdown",
   "id": "3bdbe81e",
   "metadata": {},
   "source": [
    "# concat variables\n",
    "- python allows you to concat the variables using \"+\" sign."
   ]
  },
  {
   "cell_type": "code",
   "execution_count": 18,
   "id": "7288b732",
   "metadata": {},
   "outputs": [
    {
     "name": "stdout",
     "output_type": "stream",
     "text": [
      "python programming\n"
     ]
    }
   ],
   "source": [
    "x = \"python\"\n",
    "y = \"programming\"\n",
    "z = x +' '+ y\n",
    "print(z)"
   ]
  },
  {
   "cell_type": "markdown",
   "id": "44d2673b",
   "metadata": {},
   "source": [
    "# printing variables\n",
    "- get input from user\n",
    "- uses of print function"
   ]
  },
  {
   "cell_type": "markdown",
   "id": "a919ea78",
   "metadata": {},
   "source": [
    "# creating variable"
   ]
  },
  {
   "cell_type": "code",
   "execution_count": 19,
   "id": "f22f5f02",
   "metadata": {},
   "outputs": [
    {
     "name": "stdout",
     "output_type": "stream",
     "text": [
      "10\n",
      "<class 'int'>\n",
      "10.5\n",
      "<class 'float'>\n",
      "python\n",
      "<class 'str'>\n",
      "[1, 2, 3, 4, 5]\n",
      "<class 'list'>\n",
      "(1, 2, 3, 4)\n",
      "<class 'tuple'>\n",
      "{'name': 'python'}\n",
      "<class 'dict'>\n"
     ]
    }
   ],
   "source": [
    "# integer value to the variable\n",
    "a=10\n",
    "print(a)\n",
    "print(type(a))\n",
    "\n",
    "# float value to the variable\n",
    "b=10.5\n",
    "print(b)\n",
    "print(type(b))\n",
    "\n",
    "# string value to the variable\n",
    "c=\"python\"\n",
    "print(c)\n",
    "print(type(c))\n",
    "\n",
    "# list store to the variable\n",
    "d=[1,2,3,4,5]\n",
    "print(d)\n",
    "print(type(d))\n",
    "\n",
    "# tuple store to the variable\n",
    "f=(1,2,3,4)\n",
    "print(f)\n",
    "print(type(f))\n",
    "\n",
    "# dictionary store to the variable\n",
    "g={\"name\":\"python\"}\n",
    "print(g)\n",
    "print(type(g))"
   ]
  },
  {
   "cell_type": "markdown",
   "id": "217d2445",
   "metadata": {},
   "source": [
    "# Type conversion"
   ]
  },
  {
   "cell_type": "code",
   "execution_count": 20,
   "id": "54865ad0",
   "metadata": {},
   "outputs": [
    {
     "name": "stdout",
     "output_type": "stream",
     "text": [
      "enter the value of A:10\n",
      "the value of A is: 10\n",
      "<class 'str'>\n"
     ]
    }
   ],
   "source": [
    "# converting from one datatype to another datatype is called tpe conversion/type casting\n",
    "a = input(\"enter the value of A:\")\n",
    "print(\"the value of A is:\",a)\n",
    "print(type(a))"
   ]
  },
  {
   "cell_type": "code",
   "execution_count": 21,
   "id": "f6ce5bd8",
   "metadata": {},
   "outputs": [
    {
     "name": "stdout",
     "output_type": "stream",
     "text": [
      "enter the value of A:10\n",
      "the value of A is: 10\n",
      "<class 'int'>\n"
     ]
    }
   ],
   "source": [
    "a = int(input(\"enter the value of A:\"))\n",
    "print(\"the value of A is:\",a)\n",
    "print(type(a))"
   ]
  },
  {
   "cell_type": "code",
   "execution_count": null,
   "id": "4a485b37",
   "metadata": {},
   "outputs": [],
   "source": []
  },
  {
   "cell_type": "code",
   "execution_count": null,
   "id": "6c2cd62f",
   "metadata": {},
   "outputs": [],
   "source": []
  },
  {
   "cell_type": "markdown",
   "id": "49426049",
   "metadata": {},
   "source": [
    "# Operators\n",
    "\n",
    "- operators are used to perform operations on variables and values in python"
   ]
  },
  {
   "cell_type": "markdown",
   "id": "e89c1c2d",
   "metadata": {},
   "source": [
    "# Types of operators\n",
    "- Arthimetic operators\n",
    "- Assignment operators\n",
    "- comparision operators\n",
    "- Logical operators\n",
    "- Identity operators\n",
    "- Membershop operators"
   ]
  },
  {
   "cell_type": "markdown",
   "id": "fe8ca388",
   "metadata": {},
   "source": [
    "# Arthimetic operators"
   ]
  },
  {
   "cell_type": "code",
   "execution_count": 22,
   "id": "3c7df006",
   "metadata": {},
   "outputs": [
    {
     "name": "stdout",
     "output_type": "stream",
     "text": [
      "answer is: 30\n"
     ]
    }
   ],
   "source": [
    "# addition operator\n",
    "x = 10\n",
    "y = 20\n",
    "z = x+y\n",
    "print(\"answer is:\",z)"
   ]
  },
  {
   "cell_type": "code",
   "execution_count": 23,
   "id": "298050b0",
   "metadata": {},
   "outputs": [
    {
     "name": "stdout",
     "output_type": "stream",
     "text": [
      "answer is: 20\n"
     ]
    }
   ],
   "source": [
    "# subtraction operator\n",
    "x = 30\n",
    "y = 10\n",
    "z = x-y\n",
    "print(\"answer is:\",z)"
   ]
  },
  {
   "cell_type": "code",
   "execution_count": 24,
   "id": "1e7fc36a",
   "metadata": {},
   "outputs": [
    {
     "name": "stdout",
     "output_type": "stream",
     "text": [
      "answer is: 200\n"
     ]
    }
   ],
   "source": [
    "# Multiplication operator\n",
    "x = 20\n",
    "y = 10\n",
    "z = x*y\n",
    "print(\"answer is:\",z)"
   ]
  },
  {
   "cell_type": "code",
   "execution_count": 25,
   "id": "54808065",
   "metadata": {},
   "outputs": [
    {
     "name": "stdout",
     "output_type": "stream",
     "text": [
      "answer is: 2.0\n"
     ]
    }
   ],
   "source": [
    "# Division\n",
    "x = 20\n",
    "y = 10\n",
    "z = x/y\n",
    "print(\"answer is:\",z)"
   ]
  },
  {
   "cell_type": "code",
   "execution_count": 26,
   "id": "0d6d70da",
   "metadata": {},
   "outputs": [
    {
     "name": "stdout",
     "output_type": "stream",
     "text": [
      "answer is: 1\n"
     ]
    }
   ],
   "source": [
    "# Modulus operator\n",
    "x = 10\n",
    "y = 3 \n",
    "z = x%y\n",
    "print(\"answer is:\",z)"
   ]
  },
  {
   "cell_type": "code",
   "execution_count": 27,
   "id": "c44a677f",
   "metadata": {},
   "outputs": [
    {
     "name": "stdout",
     "output_type": "stream",
     "text": [
      "answer is: 11\n"
     ]
    }
   ],
   "source": [
    "# increement operator\n",
    "x = 10\n",
    "z = x++1\n",
    "print(\"answer is:\",z)"
   ]
  },
  {
   "cell_type": "code",
   "execution_count": 28,
   "id": "b798c1df",
   "metadata": {},
   "outputs": [
    {
     "name": "stdout",
     "output_type": "stream",
     "text": [
      "answer is: 12\n"
     ]
    }
   ],
   "source": [
    "# decreement operator\n",
    "x = 10\n",
    "z = x--2 \n",
    "print(\"answer is:\",z)"
   ]
  },
  {
   "cell_type": "markdown",
   "id": "b5ff78d5",
   "metadata": {},
   "source": [
    "# Assignment operators"
   ]
  },
  {
   "cell_type": "code",
   "execution_count": 29,
   "id": "5279d890",
   "metadata": {},
   "outputs": [
    {
     "name": "stdout",
     "output_type": "stream",
     "text": [
      "x : 5\n"
     ]
    }
   ],
   "source": [
    "# Equal operator\n",
    "x = 5\n",
    "print(\"x :\",x)"
   ]
  },
  {
   "cell_type": "code",
   "execution_count": 30,
   "id": "11a84652",
   "metadata": {},
   "outputs": [
    {
     "name": "stdout",
     "output_type": "stream",
     "text": [
      "x : 10\n"
     ]
    }
   ],
   "source": [
    "# +=\n",
    "x = 5\n",
    "x += 5 # x=x+5\n",
    "print(\"x :\",x)"
   ]
  },
  {
   "cell_type": "code",
   "execution_count": 31,
   "id": "8eaa117e",
   "metadata": {},
   "outputs": [
    {
     "name": "stdout",
     "output_type": "stream",
     "text": [
      "x : 0\n"
     ]
    }
   ],
   "source": [
    "# -=\n",
    "x = 5\n",
    "x -= 5\n",
    "print(\"x :\",x)"
   ]
  },
  {
   "cell_type": "markdown",
   "id": "71fdeeb4",
   "metadata": {},
   "source": [
    "# Comparision operators"
   ]
  },
  {
   "cell_type": "code",
   "execution_count": 32,
   "id": "f3b161c3",
   "metadata": {},
   "outputs": [
    {
     "name": "stdout",
     "output_type": "stream",
     "text": [
      "True\n"
     ]
    }
   ],
   "source": [
    "# ==\n",
    "x = 5\n",
    "y = 5\n",
    "print(x==y)"
   ]
  },
  {
   "cell_type": "code",
   "execution_count": 33,
   "id": "245284d5",
   "metadata": {},
   "outputs": [
    {
     "name": "stdout",
     "output_type": "stream",
     "text": [
      "False\n"
     ]
    }
   ],
   "source": [
    "# !=\n",
    "x = 5\n",
    "y = 5\n",
    "print(x!=y)"
   ]
  },
  {
   "cell_type": "code",
   "execution_count": 34,
   "id": "2530851d",
   "metadata": {},
   "outputs": [
    {
     "name": "stdout",
     "output_type": "stream",
     "text": [
      "True\n"
     ]
    }
   ],
   "source": [
    "# <\n",
    "x = 4\n",
    "y = 5\n",
    "print(x<y)"
   ]
  },
  {
   "cell_type": "code",
   "execution_count": 35,
   "id": "86788d6a",
   "metadata": {},
   "outputs": [
    {
     "name": "stdout",
     "output_type": "stream",
     "text": [
      "False\n"
     ]
    }
   ],
   "source": [
    "# >\n",
    "x = 5\n",
    "y = 8\n",
    "print(x>y)"
   ]
  },
  {
   "cell_type": "code",
   "execution_count": 36,
   "id": "9ac8b982",
   "metadata": {},
   "outputs": [
    {
     "name": "stdout",
     "output_type": "stream",
     "text": [
      "True\n"
     ]
    }
   ],
   "source": [
    "# <=\n",
    "x = 3\n",
    "y = 7\n",
    "print(x<=y)"
   ]
  },
  {
   "cell_type": "code",
   "execution_count": 37,
   "id": "e19b6189",
   "metadata": {},
   "outputs": [
    {
     "name": "stdout",
     "output_type": "stream",
     "text": [
      "False\n"
     ]
    }
   ],
   "source": [
    "# >=\n",
    "x = 5\n",
    "y = 8\n",
    "print(x>=y)"
   ]
  },
  {
   "cell_type": "markdown",
   "id": "8949d323",
   "metadata": {},
   "source": [
    "# Logical operators"
   ]
  },
  {
   "cell_type": "code",
   "execution_count": 38,
   "id": "27ec3250",
   "metadata": {},
   "outputs": [
    {
     "name": "stdout",
     "output_type": "stream",
     "text": [
      "True\n"
     ]
    }
   ],
   "source": [
    "# And\n",
    "x = 5\n",
    "print(x>3 and x<6)"
   ]
  },
  {
   "cell_type": "code",
   "execution_count": 39,
   "id": "d4381af3",
   "metadata": {},
   "outputs": [
    {
     "name": "stdout",
     "output_type": "stream",
     "text": [
      "True\n"
     ]
    }
   ],
   "source": [
    "# Or\n",
    "x = 5\n",
    "print(x>6 or x<6)"
   ]
  },
  {
   "cell_type": "code",
   "execution_count": 40,
   "id": "b403a503",
   "metadata": {},
   "outputs": [
    {
     "name": "stdout",
     "output_type": "stream",
     "text": [
      "True\n"
     ]
    }
   ],
   "source": [
    "# Not\n",
    "x = 5\n",
    "print(not(x>3 and x<4))"
   ]
  },
  {
   "cell_type": "markdown",
   "id": "bf28f24e",
   "metadata": {},
   "source": [
    "# Identity operators"
   ]
  },
  {
   "cell_type": "code",
   "execution_count": 41,
   "id": "01f16743",
   "metadata": {},
   "outputs": [
    {
     "name": "stdout",
     "output_type": "stream",
     "text": [
      "True\n",
      "True\n"
     ]
    }
   ],
   "source": [
    "# is,is not\n",
    "x=['apple','mango']\n",
    "y = ['apple','mango']\n",
    "z = x\n",
    "print(x is z)\n",
    "print(y is not x)"
   ]
  },
  {
   "cell_type": "markdown",
   "id": "31dc3b8d",
   "metadata": {},
   "source": [
    "# Membership operators"
   ]
  },
  {
   "cell_type": "code",
   "execution_count": 42,
   "id": "2d2f1599",
   "metadata": {},
   "outputs": [
    {
     "name": "stdout",
     "output_type": "stream",
     "text": [
      "False\n",
      "True\n"
     ]
    }
   ],
   "source": [
    "# in,not in\n",
    "x=[\"apple\",\"mango\"]\n",
    "print(\"banana\" in x)\n",
    "print(\"banana\" not in x)"
   ]
  },
  {
   "cell_type": "markdown",
   "id": "65bbfec1",
   "metadata": {},
   "source": [
    "# operator precedence\n",
    "- which operator evaluates first can be confusing.so we have some rules for this too."
   ]
  },
  {
   "cell_type": "code",
   "execution_count": 43,
   "id": "91603d93",
   "metadata": {},
   "outputs": [
    {
     "name": "stdout",
     "output_type": "stream",
     "text": [
      "x is: 400\n"
     ]
    }
   ],
   "source": [
    "a = 20\n",
    "b = 30\n",
    "c = 40\n",
    "d = 5\n",
    "x=(a+b)*c//d  \n",
    "print(\"x is:\",x)       "
   ]
  },
  {
   "cell_type": "markdown",
   "id": "fca42de8",
   "metadata": {},
   "source": [
    "# Assignment"
   ]
  },
  {
   "cell_type": "code",
   "execution_count": 44,
   "id": "5040defe",
   "metadata": {},
   "outputs": [
    {
     "name": "stdout",
     "output_type": "stream",
     "text": [
      "Hello Python\n"
     ]
    }
   ],
   "source": [
    "# write a program to print a string \"Hello Python\"\n",
    "print(\"Hello Python\")"
   ]
  },
  {
   "cell_type": "code",
   "execution_count": 45,
   "id": "128b4d67",
   "metadata": {},
   "outputs": [
    {
     "name": "stdout",
     "output_type": "stream",
     "text": [
      "vasundhara chaitanya\n"
     ]
    }
   ],
   "source": [
    "# write a program to store one value in variable and print that variable.\n",
    "var=\"vasundhara chaitanya\"\n",
    "print(var)"
   ]
  },
  {
   "cell_type": "code",
   "execution_count": 46,
   "id": "b708bfc1",
   "metadata": {},
   "outputs": [
    {
     "name": "stdout",
     "output_type": "stream",
     "text": [
      "enter your name vasundhara chaitanya\n",
      "my name is: vasundhara chaitanya\n"
     ]
    }
   ],
   "source": [
    "# write a program to take value from the user input and print that value.\n",
    "var=input(\"enter your name \")\n",
    "print(\"my name is:\",var)"
   ]
  },
  {
   "cell_type": "code",
   "execution_count": 47,
   "id": "d5c89a27",
   "metadata": {},
   "outputs": [
    {
     "name": "stdout",
     "output_type": "stream",
     "text": [
      "the sum is: 30\n"
     ]
    }
   ],
   "source": [
    "# write a program to do a sum of two value.\n",
    "x=10\n",
    "y=20\n",
    "z=x+y\n",
    "print(\"the sum is:\",z)"
   ]
  },
  {
   "cell_type": "code",
   "execution_count": 48,
   "id": "4b318fb8",
   "metadata": {},
   "outputs": [
    {
     "name": "stdout",
     "output_type": "stream",
     "text": [
      "the value is: 2.0\n"
     ]
    }
   ],
   "source": [
    "# write a program to perform division using variables.\n",
    "x=6\n",
    "y=3 \n",
    "z=x/y\n",
    "print(\"the value is:\",z)"
   ]
  },
  {
   "cell_type": "code",
   "execution_count": 49,
   "id": "4c6de5d6",
   "metadata": {},
   "outputs": [
    {
     "name": "stdout",
     "output_type": "stream",
     "text": [
      "<class 'int'>\n",
      "<class 'float'>\n",
      "<class 'bool'>\n"
     ]
    }
   ],
   "source": [
    "# write a program to find a type of variable.\n",
    "a=10\n",
    "b=30.5\n",
    "c=True\n",
    "print(type(a))\n",
    "print(type(b))\n",
    "print(type(c))"
   ]
  },
  {
   "cell_type": "code",
   "execution_count": 50,
   "id": "217a648e",
   "metadata": {},
   "outputs": [
    {
     "name": "stdout",
     "output_type": "stream",
     "text": [
      "False\n",
      "True\n"
     ]
    }
   ],
   "source": [
    "# write a program to take two integer values from the user and check both the values are same\n",
    "x=('a','b','c')\n",
    "y=('a','b','c')\n",
    "print(x is y)\n",
    "print(x is not y)"
   ]
  },
  {
   "cell_type": "code",
   "execution_count": null,
   "id": "edd810ce",
   "metadata": {},
   "outputs": [],
   "source": []
  },
  {
   "cell_type": "code",
   "execution_count": null,
   "id": "d784de9d",
   "metadata": {},
   "outputs": [],
   "source": []
  },
  {
   "cell_type": "markdown",
   "id": "087b93a9",
   "metadata": {},
   "source": [
    "# conditional statements\n",
    "- conditional statement in python perform different computations or actions depending on whether a specific Boolean constarint evaluates to true or false.conditional statements are handled by IF statements in python. \n",
    "\n",
    "- simple if\n",
    "- if else\n",
    "- if else ladder\n",
    "- nested if\n"
   ]
  },
  {
   "cell_type": "markdown",
   "id": "ce513902",
   "metadata": {},
   "source": [
    "# simple if"
   ]
  },
  {
   "cell_type": "code",
   "execution_count": 1,
   "id": "a451507a",
   "metadata": {},
   "outputs": [
    {
     "name": "stdout",
     "output_type": "stream",
     "text": [
      "value of variable is 10\n",
      "bye\n"
     ]
    }
   ],
   "source": [
    "var=10\n",
    "if(var==10): #condition is true\n",
    "    print(\"value of variable is 10\")\n",
    "    \n",
    "print(\"bye\")    "
   ]
  },
  {
   "cell_type": "code",
   "execution_count": 3,
   "id": "03888eab",
   "metadata": {},
   "outputs": [
    {
     "name": "stdout",
     "output_type": "stream",
     "text": [
      "bye\n"
     ]
    }
   ],
   "source": [
    "a=25\n",
    "if a>=30: #condition is false\n",
    "    print(\"value of the variable is 25\")\n",
    "print(\"bye\")    "
   ]
  },
  {
   "cell_type": "markdown",
   "id": "984f167a",
   "metadata": {},
   "source": [
    "# if_else"
   ]
  },
  {
   "cell_type": "code",
   "execution_count": 2,
   "id": "4620022d",
   "metadata": {},
   "outputs": [
    {
     "name": "stdout",
     "output_type": "stream",
     "text": [
      "enter the value of A:20\n",
      "enter the value of B:30\n",
      "a is greater \n"
     ]
    }
   ],
   "source": [
    "a=int(input(\"enter the value of A:\"))\n",
    "b=int(input(\"enter the value of B:\"))\n",
    "if a>b:\n",
    "    print(\"b is greater \")\n",
    "else:\n",
    "    print(\"a is greater \")"
   ]
  },
  {
   "cell_type": "code",
   "execution_count": 6,
   "id": "af96eb6d",
   "metadata": {},
   "outputs": [
    {
     "name": "stdout",
     "output_type": "stream",
     "text": [
      "hi\n"
     ]
    }
   ],
   "source": [
    "x=25\n",
    "y=35\n",
    "if x>y:\n",
    "    print(\"hello\")\n",
    "else:\n",
    "    print(\"hi\")\n",
    "    "
   ]
  },
  {
   "cell_type": "markdown",
   "id": "7e78004f",
   "metadata": {},
   "source": [
    "# If_else ladder"
   ]
  },
  {
   "cell_type": "code",
   "execution_count": 3,
   "id": "0d2702c6",
   "metadata": {},
   "outputs": [
    {
     "name": "stdout",
     "output_type": "stream",
     "text": [
      "enter the value of p: 68\n",
      "1st class\n"
     ]
    }
   ],
   "source": [
    "# percentage greater than 70 ->Dist\n",
    "# percentage greater than 65 and less than 70 ->1st class \n",
    "# percentage greater than 60 and less than 65 ->2nd class \n",
    "# percentage greater than 55 and less than 60 ->3rd class \n",
    "# persentage less than 45 ->fail\n",
    "p = int(input(\"enter the value of p: \"))\n",
    "\n",
    "if p>=70:\n",
    "    print(\"dist\")\n",
    "elif p>=65 and p<70:\n",
    "    print(\"1st class\")\n",
    "elif p>=60 and p<65:\n",
    "    print(\"2nd class\")\n",
    "elif p>=55 and p<60:\n",
    "    print(\"3rd class\")\n",
    "else:\n",
    "    print(\"fail\")"
   ]
  },
  {
   "cell_type": "markdown",
   "id": "03c2965c",
   "metadata": {},
   "source": [
    "# Nested if"
   ]
  },
  {
   "cell_type": "code",
   "execution_count": 6,
   "id": "7be07b0d",
   "metadata": {},
   "outputs": [
    {
     "name": "stdout",
     "output_type": "stream",
     "text": [
      "enter your age: 25\n",
      "enter your weight:59\n",
      "Blood donate\n"
     ]
    }
   ],
   "source": [
    "# Age>=18\n",
    "# weight>=50\n",
    "# if both age and weight match with criteria then the user can donate the blood\n",
    "# if age is less than 18 show one msg under age\n",
    "# if age is less than 50 show one msg under weight\n",
    "# if age doesnot match then it should ask for weight\n",
    "age=int(input(\"enter your age: \"))\n",
    "\n",
    "if age>=18:\n",
    "    weg=int(input(\"enter your weight:\"))\n",
    "    if weg>=50:\n",
    "        print(\"Blood donate\")\n",
    "    else:\n",
    "        print(\"under weight\")\n",
    "else:\n",
    "    print(\"under age\")"
   ]
  },
  {
   "cell_type": "markdown",
   "id": "12ef7b24",
   "metadata": {},
   "source": [
    "# loop statements\n",
    "- Loop control statements change execution from its normal sequence. when execution leaves a scope ,all automatic objects that were created in that scope are destroyed.\n",
    "- In Python, a loop is a control structure that allows you to repeatedly execute a block of code.\n",
    "- while loop\n",
    "- for loop\n",
    "- nested loop"
   ]
  },
  {
   "cell_type": "markdown",
   "id": "3e0ae967",
   "metadata": {},
   "source": [
    "- For Loop: A for loop is used to iterate over a sequence (such as a list, tuple, string, or range) or other iterable objects. It executes a block of code for each item in the sequence.\n",
    "- While Loop: A while loop repeatedly executes a block of code as long as a specified condition is true. It's useful when you don't know in advance how many times the loop should run."
   ]
  },
  {
   "cell_type": "markdown",
   "id": "eb0ddd71",
   "metadata": {},
   "source": [
    "# while loop"
   ]
  },
  {
   "cell_type": "code",
   "execution_count": 2,
   "id": "a2592dda",
   "metadata": {},
   "outputs": [
    {
     "name": "stdout",
     "output_type": "stream",
     "text": [
      "N: 5\n",
      "sum:  5\n",
      "sum:  9\n",
      "sum:  12\n",
      "sum:  14\n",
      "sum:  15\n",
      "bye\n"
     ]
    }
   ],
   "source": [
    "# 5,9,12,14,15\n",
    "sum=0\n",
    "n = int(input(\"N: \"))\n",
    "while n>0:\n",
    "    sum=sum+n\n",
    "    n-=1\n",
    "    print(\"sum: \",sum)\n",
    "print(\"bye\")    "
   ]
  },
  {
   "cell_type": "code",
   "execution_count": 22,
   "id": "6123e629",
   "metadata": {},
   "outputs": [
    {
     "name": "stdout",
     "output_type": "stream",
     "text": [
      "N: 4\n",
      "sum:  4\n",
      "sum:  7\n",
      "sum:  9\n",
      "sum:  10\n",
      "loop error\n",
      "bye\n"
     ]
    }
   ],
   "source": [
    "sum=0\n",
    "n = int(input(\"N: \"))\n",
    "while n>0:\n",
    "    sum=sum+n\n",
    "    n-=1\n",
    "    print(\"sum: \",sum)\n",
    "else:\n",
    "    print(\"loop error\")\n",
    "print(\"bye\")"
   ]
  },
  {
   "cell_type": "markdown",
   "id": "95f8df79",
   "metadata": {},
   "source": [
    "# for loop"
   ]
  },
  {
   "cell_type": "code",
   "execution_count": 13,
   "id": "5b84b47f",
   "metadata": {},
   "outputs": [
    {
     "name": "stdout",
     "output_type": "stream",
     "text": [
      "Python = 6\n",
      "Java = 4\n",
      "Angular = 7\n",
      "Graphic = 7\n"
     ]
    }
   ],
   "source": [
    "word = [\"Python\",\"Java\",\"Angular\",\"Graphic\"]\n",
    "for i in word:\n",
    "    print(i,'=',len(i))"
   ]
  },
  {
   "cell_type": "code",
   "execution_count": 14,
   "id": "581ffcc9",
   "metadata": {},
   "outputs": [
    {
     "name": "stdout",
     "output_type": "stream",
     "text": [
      "*\n",
      "**\n",
      "***\n",
      "****\n",
      "*****\n"
     ]
    }
   ],
   "source": [
    "#range(start point,end point,step(jump))\n",
    "for i in range(1,6):\n",
    "    for j in range(i):\n",
    "        print(\"*\",end=\"\")\n",
    "    print()"
   ]
  },
  {
   "cell_type": "code",
   "execution_count": 15,
   "id": "0b6043ba",
   "metadata": {},
   "outputs": [
    {
     "name": "stdout",
     "output_type": "stream",
     "text": [
      "*****\n",
      "****\n",
      "***\n",
      "**\n",
      "*\n"
     ]
    }
   ],
   "source": [
    "for i in range(5,0,-1):\n",
    "    for j in range(i):\n",
    "        print(\"*\",end=\"\")\n",
    "    print()    "
   ]
  },
  {
   "cell_type": "code",
   "execution_count": 19,
   "id": "8966ad64",
   "metadata": {},
   "outputs": [
    {
     "name": "stdout",
     "output_type": "stream",
     "text": [
      "      \n",
      "     * \n",
      "    * * \n",
      "   * * * \n",
      "  * * * * \n",
      " * * * * * \n"
     ]
    }
   ],
   "source": [
    "n=6\n",
    "for i in range(n):\n",
    "    for j in range(n-i):\n",
    "        print(\" \",end=\"\")\n",
    "    for k in range(i):\n",
    "        print(\" * \",end=\"\")\n",
    "    print()          "
   ]
  },
  {
   "cell_type": "code",
   "execution_count": 2,
   "id": "106e2444",
   "metadata": {},
   "outputs": [
    {
     "name": "stdout",
     "output_type": "stream",
     "text": [
      "* * * * * * \n",
      " * * * * * \n",
      "  * * * * \n",
      "   * * * \n",
      "    * * \n",
      "     * \n"
     ]
    }
   ],
   "source": [
    "n=6\n",
    "for i in range(n):\n",
    "    for j in range(i):\n",
    "        print(\" \",end=\"\")\n",
    "    for k in range(n-i):\n",
    "        print(\"* \",end=\"\")\n",
    "    print()    "
   ]
  },
  {
   "cell_type": "code",
   "execution_count": 3,
   "id": "2e03943e",
   "metadata": {},
   "outputs": [
    {
     "name": "stdout",
     "output_type": "stream",
     "text": [
      "* * * * * \n",
      "* * * * * \n",
      "* * * * * \n",
      "* * * * * \n",
      "* * * * * \n"
     ]
    }
   ],
   "source": [
    "size = 5\n",
    "\n",
    "# Outer loop to iterate through rows\n",
    "for i in range(size):\n",
    "    # Inner loop to print asterisks in each column\n",
    "    for j in range(size):\n",
    "        print(\"* \", end=\"\")\n",
    "    # Move to the next line to start a new row\n",
    "    print()"
   ]
  },
  {
   "cell_type": "markdown",
   "id": "bd270abb",
   "metadata": {},
   "source": [
    "# Looping control statement\n",
    "- The loop control statement change the execution of the loop.when the execution leaves the scope,all automatic objects are gets destroyed.\n",
    "- Break statement:Terminates the loop statement and transfer execution to the statement immediatley following loop."
   ]
  },
  {
   "cell_type": "code",
   "execution_count": 24,
   "id": "3a280184",
   "metadata": {},
   "outputs": [
    {
     "name": "stdout",
     "output_type": "stream",
     "text": [
      "current letter:  p\n",
      "current letter:  y\n",
      "current letter:  t\n",
      "bye\n"
     ]
    }
   ],
   "source": [
    "for letter in 'python':\n",
    "    if letter==\"h\":\n",
    "        break\n",
    "    print(\"current letter: \",letter)\n",
    "print(\"bye\")    "
   ]
  },
  {
   "cell_type": "markdown",
   "id": "4e1e63a5",
   "metadata": {},
   "source": [
    "# continue statement\n",
    "- The continue keyword is used to end the current iteration in a for loop (or a while loop), and continues to the next iteration"
   ]
  },
  {
   "cell_type": "code",
   "execution_count": 26,
   "id": "ecc91229",
   "metadata": {},
   "outputs": [
    {
     "name": "stdout",
     "output_type": "stream",
     "text": [
      "current letter p\n",
      "current letter y\n",
      "current letter t\n",
      "current letter o\n",
      "current letter n\n",
      "bye\n"
     ]
    }
   ],
   "source": [
    "# continue statement\n",
    "for letter in 'python':\n",
    "    if letter==\"h\":\n",
    "        continue\n",
    "    print(\"current letter\",letter)\n",
    "print(\"bye\")    "
   ]
  },
  {
   "cell_type": "markdown",
   "id": "7ddc681c",
   "metadata": {},
   "source": [
    "# pass block\n",
    "- the pass statement in python is used when a statement is required syntactically but you do not want any command or code to execute "
   ]
  },
  {
   "cell_type": "code",
   "execution_count": 3,
   "id": "877ff86c",
   "metadata": {},
   "outputs": [
    {
     "name": "stdout",
     "output_type": "stream",
     "text": [
      "current letter: p\n",
      "current letter: y\n",
      "current letter: t\n",
      "pass block\n",
      "current letter: h\n",
      "current letter: o\n",
      "current letter: n\n",
      "bye\n"
     ]
    }
   ],
   "source": [
    "for letter in 'python':\n",
    "    if letter=='h':\n",
    "        pass\n",
    "        print(\"pass block\")\n",
    "    print(\"current letter:\",letter)\n",
    "print('bye')    "
   ]
  },
  {
   "cell_type": "code",
   "execution_count": null,
   "id": "c9190651",
   "metadata": {},
   "outputs": [],
   "source": []
  },
  {
   "cell_type": "code",
   "execution_count": null,
   "id": "71e8ea30",
   "metadata": {},
   "outputs": [],
   "source": []
  },
  {
   "cell_type": "markdown",
   "id": "72dd90a4",
   "metadata": {},
   "source": [
    "# String\n",
    "- string allow any datatype value to be store.\n",
    "- strings in python are surrounded by either single or double quotation marks.\n",
    "- string is the collection of charecter."
   ]
  },
  {
   "cell_type": "markdown",
   "id": "7d04ea25",
   "metadata": {},
   "source": [
    "# How to use string in python"
   ]
  },
  {
   "cell_type": "code",
   "execution_count": 32,
   "id": "1116342a",
   "metadata": {},
   "outputs": [
    {
     "name": "stdout",
     "output_type": "stream",
     "text": [
      "Hello World\n",
      "Hello World\n",
      "python is booming in market,\n",
      "python is smart launguage,\n",
      "python is used in AI,machine learing,data science\n",
      "\n"
     ]
    }
   ],
   "source": [
    "# single line quotation\n",
    "print('Hello World')\n",
    "\n",
    "# double line quotation\n",
    "print(\"Hello World\")\n",
    "\n",
    "# Multiline quotation\n",
    "a=\"\"\"python is booming in market,\n",
    "python is smart launguage,\n",
    "python is used in AI,machine learing,data science\n",
    "\"\"\"\n",
    "print(a)"
   ]
  },
  {
   "cell_type": "markdown",
   "id": "613587fe",
   "metadata": {},
   "source": [
    "# Update string"
   ]
  },
  {
   "cell_type": "code",
   "execution_count": 5,
   "id": "6bb941bc",
   "metadata": {},
   "outputs": [
    {
     "name": "stdout",
     "output_type": "stream",
     "text": [
      "Hello World!\n",
      "update string: Hello python\n"
     ]
    }
   ],
   "source": [
    "a=\"Hello World!\"\n",
    "print(a)\n",
    "print(\"update string:\",a[:6]+\"python\")"
   ]
  },
  {
   "cell_type": "markdown",
   "id": "2b29f06e",
   "metadata": {},
   "source": [
    "# string slicing"
   ]
  },
  {
   "cell_type": "code",
   "execution_count": 5,
   "id": "7d9ac4c7",
   "metadata": {},
   "outputs": [
    {
     "name": "stdout",
     "output_type": "stream",
     "text": [
      "index of 1 is: e\n",
      "index of 1 to 6 is: ello \n",
      "index value till 6 is: Hello \n",
      "last value is: dlroW olleH\n"
     ]
    }
   ],
   "source": [
    "a=\"Hello World\"\n",
    "\n",
    "# Access the value of index 1\n",
    "print(\"index of 1 is:\",a[1])\n",
    "\n",
    "# Access the value of index 1 to 6\n",
    "print(\"index of 1 to 6 is:\",a[1:6])\n",
    "\n",
    "# Access the index value till 6\n",
    "print(\"index value till 6 is:\",a[:6])\n",
    "\n",
    "# access the last value of string\n",
    "print(\"last value is:\",a[::-1]) "
   ]
  },
  {
   "cell_type": "markdown",
   "id": "067ac990",
   "metadata": {},
   "source": [
    "# string built-in functions"
   ]
  },
  {
   "cell_type": "code",
   "execution_count": 39,
   "id": "4d73b35a",
   "metadata": {},
   "outputs": [
    {
     "data": {
      "text/plain": [
       "'Hello and welcome to python'"
      ]
     },
     "execution_count": 39,
     "metadata": {},
     "output_type": "execute_result"
    }
   ],
   "source": [
    "# Capitalize():this converts first charecter into capital\n",
    "a=\"hello and welcome to python\"\n",
    "x=a.capitalize()\n",
    "x"
   ]
  },
  {
   "cell_type": "code",
   "execution_count": 6,
   "id": "ecd23095",
   "metadata": {},
   "outputs": [
    {
     "data": {
      "text/plain": [
       "'Hello And Welcome To Python'"
      ]
     },
     "execution_count": 6,
     "metadata": {},
     "output_type": "execute_result"
    }
   ],
   "source": [
    "# title():this converts first charecter into capital\n",
    "a=\"hello and welcome to python\"\n",
    "x=a.title()\n",
    "x "
   ]
  },
  {
   "cell_type": "code",
   "execution_count": 40,
   "id": "4b269844",
   "metadata": {},
   "outputs": [
    {
     "data": {
      "text/plain": [
       "'hello and welcome to python'"
      ]
     },
     "execution_count": 40,
     "metadata": {},
     "output_type": "execute_result"
    }
   ],
   "source": [
    "# casefold():this method converts all capital letters into small\n",
    "a=\"Hello And Welcome To Python\"\n",
    "x=a.casefold()\n",
    "x"
   ]
  },
  {
   "cell_type": "code",
   "execution_count": 9,
   "id": "9ab5f4ed",
   "metadata": {},
   "outputs": [
    {
     "name": "stdout",
     "output_type": "stream",
     "text": [
      "python\n"
     ]
    },
    {
     "data": {
      "text/plain": [
       "'                      python                      '"
      ]
     },
     "execution_count": 9,
     "metadata": {},
     "output_type": "execute_result"
    }
   ],
   "source": [
    "# center():this method converts string into center\n",
    "a=\"python\"\n",
    "print(a)\n",
    "x=a.center(50)\n",
    "x"
   ]
  },
  {
   "cell_type": "code",
   "execution_count": 42,
   "id": "94332b89",
   "metadata": {},
   "outputs": [
    {
     "data": {
      "text/plain": [
       "2"
      ]
     },
     "execution_count": 42,
     "metadata": {},
     "output_type": "execute_result"
    }
   ],
   "source": [
    "# count():this method count the repeated words in string\n",
    "a = \"I love python,python is a smart launguage\"\n",
    "x=a.count(\"python\")\n",
    "x"
   ]
  },
  {
   "cell_type": "code",
   "execution_count": 48,
   "id": "2dc0453a",
   "metadata": {},
   "outputs": [
    {
     "data": {
      "text/plain": [
       "'hello world'"
      ]
     },
     "execution_count": 48,
     "metadata": {},
     "output_type": "execute_result"
    }
   ],
   "source": [
    "# lower():convert the all charecters into lower\n",
    "a=\"HELLO WORLD\"\n",
    "x=a.lower()\n",
    "x"
   ]
  },
  {
   "cell_type": "code",
   "execution_count": 10,
   "id": "bf24f859",
   "metadata": {},
   "outputs": [
    {
     "data": {
      "text/plain": [
       "'HELLO WORLD'"
      ]
     },
     "execution_count": 10,
     "metadata": {},
     "output_type": "execute_result"
    }
   ],
   "source": [
    "# upper():convert the all charecters into upper\n",
    "a=\"HELLO WORLD\"\n",
    "x=a.upper()\n",
    "x"
   ]
  },
  {
   "cell_type": "markdown",
   "id": "19b4e6ab",
   "metadata": {},
   "source": [
    "# comparing string"
   ]
  },
  {
   "cell_type": "code",
   "execution_count": 44,
   "id": "0acb2105",
   "metadata": {},
   "outputs": [
    {
     "name": "stdout",
     "output_type": "stream",
     "text": [
      "True\n"
     ]
    }
   ],
   "source": [
    "str1=\"hello python\"\n",
    "str2=\"hello python\"\n",
    "result = str1==str2\n",
    "print(result)"
   ]
  },
  {
   "cell_type": "code",
   "execution_count": 13,
   "id": "9ab87d25",
   "metadata": {},
   "outputs": [
    {
     "name": "stdout",
     "output_type": "stream",
     "text": [
      "False\n"
     ]
    }
   ],
   "source": [
    "str1=\"hello python\"\n",
    "str2=\"python\"\n",
    "result= (str1==str2)\n",
    "print(result)"
   ]
  },
  {
   "cell_type": "code",
   "execution_count": 47,
   "id": "7dbf66ad",
   "metadata": {},
   "outputs": [
    {
     "name": "stdout",
     "output_type": "stream",
     "text": [
      "False\n"
     ]
    }
   ],
   "source": [
    "str1='A'\n",
    "str2='B'\n",
    "str3='C'\n",
    "result=str1<str2>str3\n",
    "print(result)"
   ]
  },
  {
   "cell_type": "markdown",
   "id": "54cf38b2",
   "metadata": {},
   "source": [
    "# Assignment"
   ]
  },
  {
   "cell_type": "code",
   "execution_count": 14,
   "id": "f3b0ef1c",
   "metadata": {},
   "outputs": [
    {
     "name": "stdout",
     "output_type": "stream",
     "text": [
      "Enter a number: 91\n",
      "91 is odd.\n"
     ]
    }
   ],
   "source": [
    "# write a program to find whether a given number(accept from the user) is even or odd and print the message to the user accordingly\n",
    "num = int(input(\"Enter a number: \"))\n",
    "\n",
    "if num % 2 == 0:\n",
    "    print(num, \"is even.\")\n",
    "else:\n",
    "    print(num, \"is odd.\") "
   ]
  },
  {
   "cell_type": "code",
   "execution_count": 55,
   "id": "25ee0a51",
   "metadata": {},
   "outputs": [
    {
     "name": "stdout",
     "output_type": "stream",
     "text": [
      "Enter a number: 5\n",
      "greater than\n"
     ]
    }
   ],
   "source": [
    "# write a program to find whether a given number(accept from the user)is greater than or less than and print the message to the\n",
    "# user accordingly.\n",
    "num = int(input(\"Enter a number: \"))\n",
    "\n",
    "if num<0:\n",
    "    print(\"Less than\")\n",
    "else:\n",
    "    print(\"greater than\")"
   ]
  },
  {
   "cell_type": "code",
   "execution_count": 58,
   "id": "6f11f776",
   "metadata": {},
   "outputs": [
    {
     "name": "stdout",
     "output_type": "stream",
     "text": [
      "Enter the value of p:98\n",
      "A grade\n"
     ]
    }
   ],
   "source": [
    "# write  a program to findout the grade of given percentage value(accept from the user) and print the message according given\n",
    "# criteria.\n",
    "# Greater than 70% print A grade message to the user.\n",
    "# Greater than 65% and less than 70% print B+ grade message to the user.\n",
    "# Greater than 60% and less than 65% print B grade message to the user.\n",
    "# Greater than 55% and less than 60% print C grade message to the user.\n",
    "# Less than 55% print Fail message to the user.\n",
    "p=int(input(\"Enter the value of p:\"))\n",
    "if p>=70:\n",
    "    print(\"A grade\")\n",
    "elif p>=65 and p<70:\n",
    "    print(\"B+ grade\")\n",
    "elif p>=60 and p<65:\n",
    "    print(\"B grade\")\n",
    "elif p>=55 and p<60:\n",
    "    print(\"c grade\")\n",
    "else:\n",
    "    print(\"fail\")"
   ]
  },
  {
   "cell_type": "code",
   "execution_count": 59,
   "id": "729091c8",
   "metadata": {},
   "outputs": [
    {
     "name": "stdout",
     "output_type": "stream",
     "text": [
      "1\n",
      "2\n",
      "3\n",
      "4\n",
      "5\n",
      "6\n",
      "7\n",
      "8\n",
      "9\n",
      "10\n"
     ]
    }
   ],
   "source": [
    "# write a program to generate 1 to 10 value using the loop.\n",
    "for i in range(1,11):\n",
    "    print(i)"
   ]
  },
  {
   "cell_type": "code",
   "execution_count": 61,
   "id": "3d7b65ba",
   "metadata": {},
   "outputs": [
    {
     "name": "stdout",
     "output_type": "stream",
     "text": [
      "10\n",
      "9\n",
      "8\n",
      "7\n",
      "6\n",
      "5\n",
      "4\n",
      "3\n",
      "2\n",
      "1\n"
     ]
    }
   ],
   "source": [
    "# write a program to generate 10 to 1 value using the loop.\n",
    "for i in range(10,0,-1):\n",
    "    print(i)"
   ]
  },
  {
   "cell_type": "code",
   "execution_count": 3,
   "id": "c8bf09d8",
   "metadata": {},
   "outputs": [
    {
     "name": "stdout",
     "output_type": "stream",
     "text": [
      "[10, 9, 8, 7, 6, 5, 4, 3, 2, 1]\n"
     ]
    }
   ],
   "source": [
    "a=[]\n",
    "for i in range(10,0,-1):\n",
    "    a.append(i)\n",
    "print(a)    "
   ]
  },
  {
   "cell_type": "code",
   "execution_count": 62,
   "id": "f2633d7b",
   "metadata": {},
   "outputs": [
    {
     "name": "stdout",
     "output_type": "stream",
     "text": [
      "*\n",
      "**\n",
      "***\n",
      "****\n",
      "*****\n"
     ]
    }
   ],
   "source": [
    "# write a program to print following program\n",
    "# *\n",
    "# **\n",
    "# ***\n",
    "# ****\n",
    "# *****\n",
    "# ******\n",
    "for i in range(1,6):\n",
    "    for j in range(i):\n",
    "        print(\"*\",end=\"\")\n",
    "    print()"
   ]
  },
  {
   "cell_type": "code",
   "execution_count": 8,
   "id": "bbf3aa28",
   "metadata": {},
   "outputs": [
    {
     "name": "stdout",
     "output_type": "stream",
     "text": [
      "1\n",
      "12\n",
      "123\n",
      "1234\n",
      "12345\n"
     ]
    }
   ],
   "source": [
    "# write a program to print following pattern\n",
    "# 1\n",
    "# 12\n",
    "# 123\n",
    "# 1234\n",
    "for i in range(1,6):\n",
    "    for j in range(1,i+1): \n",
    "        print(j,end=\"\")\n",
    "    print()    "
   ]
  },
  {
   "cell_type": "code",
   "execution_count": 18,
   "id": "9dc26310",
   "metadata": {},
   "outputs": [
    {
     "name": "stdout",
     "output_type": "stream",
     "text": [
      "12\n",
      "123\n",
      "1234\n",
      "12345\n",
      "123456\n"
     ]
    }
   ],
   "source": [
    "for i in range(1,6):\n",
    "    for j in range(1,i+2):\n",
    "        print(j,end=\"\")\n",
    "    print()"
   ]
  },
  {
   "cell_type": "code",
   "execution_count": 65,
   "id": "39431384",
   "metadata": {},
   "outputs": [
    {
     "data": {
      "text/plain": [
       "'HELLO PYTHON'"
      ]
     },
     "execution_count": 65,
     "metadata": {},
     "output_type": "execute_result"
    }
   ],
   "source": [
    "# write a program to convert this string \"hello python\" into uppercase string built-in function\n",
    "a=\"hello python\"\n",
    "a.upper()"
   ]
  },
  {
   "cell_type": "code",
   "execution_count": 1,
   "id": "0d535737",
   "metadata": {},
   "outputs": [
    {
     "data": {
      "text/plain": [
       "'hello python'"
      ]
     },
     "execution_count": 1,
     "metadata": {},
     "output_type": "execute_result"
    }
   ],
   "source": [
    "# write a program to convert this string \"HELLO PYTHON\" into lowercase string built-in function\n",
    "a=\"HELLO PYTHON\"\n",
    "a.lower()"
   ]
  },
  {
   "cell_type": "markdown",
   "id": "47363a50",
   "metadata": {},
   "source": [
    "# Lists\n",
    "- List is a collection in python,which store the data into sequence.\n",
    "- List store multiple datatype value like string,int,float,char.\n",
    "- List works on index value which start from zero.\n",
    "- list is mutable(changable at runtime)data structure."
   ]
  },
  {
   "cell_type": "markdown",
   "id": "fdebdf66",
   "metadata": {},
   "source": [
    "# creating list"
   ]
  },
  {
   "cell_type": "code",
   "execution_count": 3,
   "id": "258aea05",
   "metadata": {},
   "outputs": [
    {
     "name": "stdout",
     "output_type": "stream",
     "text": [
      "Integer list: [1, 2, 3, 4, 5, 6]\n",
      "String list: ['Apple', 'Banana', 'Mango']\n"
     ]
    }
   ],
   "source": [
    "#This list store the integer value\n",
    "l1=[1,2,3,4,5,6]\n",
    "# This list store the string value\n",
    "l2=[\"Apple\",\"Banana\",\"Mango\"]\n",
    "\n",
    "print(\"Integer list:\" ,l1)\n",
    "print(\"String list:\" ,l2)"
   ]
  },
  {
   "cell_type": "markdown",
   "id": "611ed7d8",
   "metadata": {},
   "source": [
    "# Duplicate values in list"
   ]
  },
  {
   "cell_type": "code",
   "execution_count": 4,
   "id": "e14a4207",
   "metadata": {},
   "outputs": [
    {
     "name": "stdout",
     "output_type": "stream",
     "text": [
      "Duplicate values: [1, 2, 3, 4, 3, 2, 5, 1]\n"
     ]
    }
   ],
   "source": [
    "#list will allows duplicate values also\n",
    "l1=[1,2,3,4,3,2,5,1]\n",
    "print(\"Duplicate values:\",l1)"
   ]
  },
  {
   "cell_type": "markdown",
   "id": "57a29435",
   "metadata": {},
   "source": [
    "# List constructor"
   ]
  },
  {
   "cell_type": "code",
   "execution_count": 20,
   "id": "0558d43a",
   "metadata": {},
   "outputs": [
    {
     "name": "stdout",
     "output_type": "stream",
     "text": [
      "['apple', 'mango', 'banana']\n"
     ]
    }
   ],
   "source": [
    "l1=list((\"apple\",\"mango\",\"banana\"))\n",
    "print(l1)"
   ]
  },
  {
   "cell_type": "markdown",
   "id": "242cd5c2",
   "metadata": {},
   "source": [
    "# List slicing"
   ]
  },
  {
   "cell_type": "code",
   "execution_count": 10,
   "id": "43a1fe51",
   "metadata": {},
   "outputs": [
    {
     "name": "stdout",
     "output_type": "stream",
     "text": [
      "current list: [1, 2, 3, 4, 5, 6, 7, 8, 9]\n",
      "index value 1 is: 2\n",
      "index value between 1 to 6 is: [2, 3, 4, 5, 6]\n",
      "index value till 6 is: [1, 2, 3, 4, 5, 6]\n",
      "last value from the list is: 9\n"
     ]
    }
   ],
   "source": [
    "l1=[1,2,3,4,5,6,7,8,9]\n",
    "print(\"current list:\",l1)\n",
    "\n",
    "#Access the value of index 1\n",
    "print(\"index value 1 is:\",l1[1])\n",
    "\n",
    "#Access the value between 1 to 6\n",
    "print(\"index value between 1 to 6 is:\",l1[1:6])\n",
    "\n",
    "#Access the value till 6\n",
    "print(\"index value till 6 is:\",l1[:6])\n",
    "\n",
    "#Access the value from the list\n",
    "print(\"last value from the list is:\",l1[-1])"
   ]
  },
  {
   "cell_type": "markdown",
   "id": "fa40d3a9",
   "metadata": {},
   "source": [
    "# List item changed"
   ]
  },
  {
   "cell_type": "code",
   "execution_count": 12,
   "id": "259ddba7",
   "metadata": {},
   "outputs": [
    {
     "name": "stdout",
     "output_type": "stream",
     "text": [
      "current list: ['apple', 'banana', 'mango', 'cherry', 'kiwi', 'orange']\n",
      "changed list: ['apple', 'grapes', 'watermelon', 'cherry', 'kiwi', 'orange']\n"
     ]
    }
   ],
   "source": [
    "x = [\"apple\",\"banana\",\"mango\",\"cherry\",\"kiwi\",\"orange\"]\n",
    "print(\"current list:\",x)\n",
    "\n",
    "#change the item list\n",
    "x[1:3]=[\"grapes\",\"watermelon\"]\n",
    "print(\"changed list:\",x)"
   ]
  },
  {
   "cell_type": "markdown",
   "id": "f5c977d4",
   "metadata": {},
   "source": [
    "# insert()"
   ]
  },
  {
   "cell_type": "code",
   "execution_count": 14,
   "id": "9d9396cd",
   "metadata": {},
   "outputs": [
    {
     "name": "stdout",
     "output_type": "stream",
     "text": [
      "current list: [1, 2, 3, 4, 5, 6]\n",
      "inserted list: [1, 2, 'python', 3, 4, 5, 6]\n"
     ]
    }
   ],
   "source": [
    "l1=[1,2,3,4,5,6]\n",
    "print(\"current list:\",l1)\n",
    "\n",
    "#insert the value \n",
    "l1.insert(2,\"python\")\n",
    "print(\"inserted list:\",l1)"
   ]
  },
  {
   "cell_type": "markdown",
   "id": "b5465b0c",
   "metadata": {},
   "source": [
    "# Extend()"
   ]
  },
  {
   "cell_type": "code",
   "execution_count": 24,
   "id": "ea5b2394",
   "metadata": {},
   "outputs": [
    {
     "name": "stdout",
     "output_type": "stream",
     "text": [
      "[1, 2, 3, 4, 5, 'A', 'B', 'C', 'D']\n"
     ]
    }
   ],
   "source": [
    "l1=[1,2,3,4,5]\n",
    "l2=[\"A\",\"B\",\"C\",\"D\"]\n",
    "l1.extend(l2) #extend the list l2 into l1\n",
    "print(l1)"
   ]
  },
  {
   "cell_type": "markdown",
   "id": "446c52c9",
   "metadata": {},
   "source": [
    "# remove()"
   ]
  },
  {
   "cell_type": "code",
   "execution_count": 16,
   "id": "4f080b65",
   "metadata": {},
   "outputs": [
    {
     "name": "stdout",
     "output_type": "stream",
     "text": [
      "current list: [1, 2, 3, 4, 5, 6]\n",
      "updated list: [1, 2, 4, 5, 6]\n"
     ]
    }
   ],
   "source": [
    "# remove():it removes the value from the list\n",
    "l1=[1,2,3,4,5,6]\n",
    "print(\"current list:\",l1)\n",
    "l1.remove(3) # in brackets enter the charecter which we want to delete\n",
    "print(\"updated list:\",l1)"
   ]
  },
  {
   "cell_type": "markdown",
   "id": "c9c5571d",
   "metadata": {},
   "source": [
    "# pop()"
   ]
  },
  {
   "cell_type": "code",
   "execution_count": 4,
   "id": "1ec59eec",
   "metadata": {},
   "outputs": [
    {
     "data": {
      "text/plain": [
       "[1, 3, 4, 5, 6]"
      ]
     },
     "execution_count": 4,
     "metadata": {},
     "output_type": "execute_result"
    }
   ],
   "source": [
    "# pop():this methods removes the last from value the list\n",
    "l1=[1,2,3,4,5,6]\n",
    "l1.pop(1)\n",
    "l1"
   ]
  },
  {
   "cell_type": "markdown",
   "id": "baa3d0f9",
   "metadata": {},
   "source": [
    "# del()"
   ]
  },
  {
   "cell_type": "code",
   "execution_count": 18,
   "id": "d5f82a2d",
   "metadata": {},
   "outputs": [
    {
     "data": {
      "text/plain": [
       "[1, 2, 4, 5, 6]"
      ]
     },
     "execution_count": 18,
     "metadata": {},
     "output_type": "execute_result"
    }
   ],
   "source": [
    "# del():this method is used to remove item from the index\n",
    "l1=[1,2,3,4,5,6]\n",
    "del l1[2] # in bracket enter the index position\n",
    "l1"
   ]
  },
  {
   "cell_type": "markdown",
   "id": "ed91358f",
   "metadata": {},
   "source": [
    "# clear()"
   ]
  },
  {
   "cell_type": "code",
   "execution_count": 19,
   "id": "a3f28c44",
   "metadata": {},
   "outputs": [
    {
     "data": {
      "text/plain": [
       "[]"
      ]
     },
     "execution_count": 19,
     "metadata": {},
     "output_type": "execute_result"
    }
   ],
   "source": [
    "# clear():this method clear all vales from the list\n",
    "l1=[1,2,3,4,5,6]\n",
    "l1.clear()\n",
    "l1"
   ]
  },
  {
   "cell_type": "markdown",
   "id": "7d737504",
   "metadata": {},
   "source": [
    "# Tuples\n",
    "- Tuple is collection in python.\n",
    "- Tuple is immutable(No changeable at runtime).\n",
    "- we can convert (python convert list -> tuple and tuple -> list)\n",
    "- Tuple allows multiple datatype values to be store.\n",
    "- Tuple is working on index value starting from zero. "
   ]
  },
  {
   "cell_type": "markdown",
   "id": "3563435a",
   "metadata": {},
   "source": [
    "# creating tuple"
   ]
  },
  {
   "cell_type": "code",
   "execution_count": 20,
   "id": "bbd4d00c",
   "metadata": {},
   "outputs": [
    {
     "name": "stdout",
     "output_type": "stream",
     "text": [
      "current tuple is: (1, 2, 3, 4, 'apple', 'mango')\n"
     ]
    }
   ],
   "source": [
    "# creating tuple()\n",
    "t1=(1,2,3,4,10.5,5.5,6.7,\"apple\",\"mango\")\n",
    "print(\"current tuple is:\",t1)"
   ]
  },
  {
   "cell_type": "code",
   "execution_count": 21,
   "id": "055b0c66",
   "metadata": {},
   "outputs": [
    {
     "name": "stdout",
     "output_type": "stream",
     "text": [
      "7\n"
     ]
    }
   ],
   "source": [
    "# checking the length of the tuple\n",
    "t2=(1,2,3,4,5,6,\"vasu\")\n",
    "print(len(t2))"
   ]
  },
  {
   "cell_type": "markdown",
   "id": "a937feb2",
   "metadata": {},
   "source": [
    "# tuple indexing/slicing"
   ]
  },
  {
   "cell_type": "code",
   "execution_count": 23,
   "id": "79cbe7bf",
   "metadata": {},
   "outputs": [
    {
     "name": "stdout",
     "output_type": "stream",
     "text": [
      "current tuple: (1, 2, 3, 4, 5, 6, 7, 8, 9)\n",
      "index value 1 is: 2\n",
      "index value between 1 to 6 is: (2, 3, 4, 5, 6)\n",
      "index value till 6 is: (1, 2, 3, 4, 5, 6)\n",
      "last value from the tuple is: 9\n"
     ]
    }
   ],
   "source": [
    "t1=(1,2,3,4,5,6,7,8,9)\n",
    "print(\"current tuple:\",t1)\n",
    "\n",
    "#Access the value of index 1\n",
    "print(\"index value 1 is:\",t1[1])\n",
    "\n",
    "#Access the value between 1 to 6\n",
    "print(\"index value between 1 to 6 is:\",t1[1:6])\n",
    "\n",
    "#Access the value till 6\n",
    "print(\"index value till 6 is:\",t1[:6])\n",
    "\n",
    "#Access the value from the list\n",
    "print(\"last value from the tuple is:\",t1[-1])"
   ]
  },
  {
   "cell_type": "markdown",
   "id": "43877100",
   "metadata": {},
   "source": [
    "# convert the tuple into list"
   ]
  },
  {
   "cell_type": "code",
   "execution_count": 24,
   "id": "2f637219",
   "metadata": {},
   "outputs": [
    {
     "name": "stdout",
     "output_type": "stream",
     "text": [
      "the current tuple: (1, 2, 3, 'vasundhara', 'chaitanya')\n",
      "after convert: [1, 2, 3, 'vasundhara', 'chaitanya']\n"
     ]
    }
   ],
   "source": [
    "t1=(1,2,3,'vasundhara','chaitanya')\n",
    "print(\"the current tuple:\",t1)\n",
    "l1=list(t1)\n",
    "print(\"after convert:\",l1)"
   ]
  },
  {
   "cell_type": "markdown",
   "id": "1d242735",
   "metadata": {},
   "source": [
    "# tuple constructor"
   ]
  },
  {
   "cell_type": "code",
   "execution_count": 25,
   "id": "5d80500b",
   "metadata": {},
   "outputs": [
    {
     "data": {
      "text/plain": [
       "('apple', 'mango', 'grapes')"
      ]
     },
     "execution_count": 25,
     "metadata": {},
     "output_type": "execute_result"
    }
   ],
   "source": [
    "t3=tuple((\"apple\",\"mango\",\"grapes\"))\n",
    "t3"
   ]
  },
  {
   "cell_type": "markdown",
   "id": "b5292f44",
   "metadata": {},
   "source": [
    "# add item but after converting into list"
   ]
  },
  {
   "cell_type": "code",
   "execution_count": 27,
   "id": "a97c63ca",
   "metadata": {},
   "outputs": [
    {
     "data": {
      "text/plain": [
       "(1, 2, 3, 'apple', 'mango', 'grapes')"
      ]
     },
     "execution_count": 27,
     "metadata": {},
     "output_type": "execute_result"
    }
   ],
   "source": [
    "t1=(1,2,3,\"apple\",\"mango\")\n",
    "l1=list(t1)# converting tuple into list\n",
    "l1.append(\"grapes\")\n",
    "t2=tuple(l1) # coverting list into tuple\n",
    "t2"
   ]
  },
  {
   "cell_type": "markdown",
   "id": "a13d9e20",
   "metadata": {},
   "source": [
    "# loops with tuple"
   ]
  },
  {
   "cell_type": "code",
   "execution_count": 31,
   "id": "839ab048",
   "metadata": {},
   "outputs": [
    {
     "name": "stdout",
     "output_type": "stream",
     "text": [
      "apple\n",
      "banana\n",
      "mango\n",
      "kiwi\n",
      "orange\n"
     ]
    }
   ],
   "source": [
    "# for loop with tuple\n",
    "t5=(\"apple\",\"banana\",\"mango\",\"kiwi\",\"orange\")\n",
    "for i in t5: # i is iterable\n",
    "    print(i)"
   ]
  },
  {
   "cell_type": "code",
   "execution_count": 33,
   "id": "0031379e",
   "metadata": {},
   "outputs": [
    {
     "name": "stdout",
     "output_type": "stream",
     "text": [
      "apple\n",
      "banana\n",
      "mango\n",
      "kiwi\n",
      "orange\n",
      "loop finish\n"
     ]
    }
   ],
   "source": [
    "# while loop with tuple\n",
    "t5=(\"apple\",\"banana\",\"mango\",\"kiwi\",\"orange\")\n",
    "i=0\n",
    "\n",
    "while i<len(t5):\n",
    "    print(t5[i])\n",
    "    i=i+1\n",
    "else:\n",
    "    print(\"loop finish\")"
   ]
  },
  {
   "cell_type": "markdown",
   "id": "4d154db3",
   "metadata": {},
   "source": [
    "# comparing tuples"
   ]
  },
  {
   "cell_type": "code",
   "execution_count": 27,
   "id": "95f90aaa",
   "metadata": {},
   "outputs": [
    {
     "name": "stdout",
     "output_type": "stream",
     "text": [
      "False\n",
      "True\n",
      "False\n"
     ]
    }
   ],
   "source": [
    "t1=(1,2,3)\n",
    "t2=(1,2,4)\n",
    "\n",
    "#tuple1 is equal to tuple2\n",
    "print(t1==t2)\n",
    "\n",
    "#tuple1<tuple2\n",
    "print(t1<t2)\n",
    "\n",
    "#tuple1>tuple2\n",
    "print(t1>t2)"
   ]
  },
  {
   "cell_type": "markdown",
   "id": "7a3f97fe",
   "metadata": {},
   "source": [
    "# Dictionary\n",
    "- Dictionary is a collection of python,which works on key and value pair.\n",
    "- Dictionary follows the ordered container or collection.\n",
    "- Dictionary has immutable keys but value  could be both immutable as well as mutable dependent upon what value you are storing."
   ]
  },
  {
   "cell_type": "markdown",
   "id": "36663e0b",
   "metadata": {},
   "source": [
    "# creating Dictionary"
   ]
  },
  {
   "cell_type": "code",
   "execution_count": 37,
   "id": "0367535e",
   "metadata": {},
   "outputs": [
    {
     "name": "stdout",
     "output_type": "stream",
     "text": [
      "{1: 'apple', 2: 'mango', 3: 'banana', 'A': 'B'}\n",
      "<class 'dict'>\n"
     ]
    }
   ],
   "source": [
    "d1 = {1:\"apple\",2:\"mango\",3:\"banana\",'A':'B'}\n",
    "print(d1)\n",
    "print(type(d1)) #checking datatype of d1"
   ]
  },
  {
   "cell_type": "code",
   "execution_count": 39,
   "id": "5143c339",
   "metadata": {},
   "outputs": [
    {
     "name": "stdout",
     "output_type": "stream",
     "text": [
      "{1: 'python', 2: 'java', 'fruit': ['apple', 'mango', 'banana']}\n",
      "{1: 'python', 2: 'java', 'Language': ('java', 'python', 'php')}\n"
     ]
    }
   ],
   "source": [
    "#storing a list into Dictionary on a single key\n",
    "d2={1:\"python\",2:\"java\",\"fruit\":[\"apple\",\"mango\",\"banana\"]}\n",
    "print(d2)\n",
    "\n",
    "#storing a tuple into Dictionary on a single key\n",
    "d3={1:\"python\",2:\"java\",\"Language\":(\"java\",\"python\",\"php\")}\n",
    "print(d3)"
   ]
  },
  {
   "cell_type": "markdown",
   "id": "fe47a310",
   "metadata": {},
   "source": [
    "# Access the value of Dictionary"
   ]
  },
  {
   "cell_type": "code",
   "execution_count": 52,
   "id": "f9a0cf2c",
   "metadata": {},
   "outputs": [
    {
     "name": "stdout",
     "output_type": "stream",
     "text": [
      "current dict: {1: 'apple', 2: 'mango', 3: 'banana', 'A': 'B'}\n",
      "banana\n",
      "apple\n",
      "dict_items([(1, 'apple'), (2, 'mango'), (3, 'banana'), ('A', 'B')])\n",
      "keys: dict_keys([1, 2, 3, 'A'])\n",
      "values: dict_values(['apple', 'mango', 'banana', 'B'])\n"
     ]
    }
   ],
   "source": [
    "d1 = {1:\"apple\",2:\"mango\",3:\"banana\",'A':'B'}\n",
    "print(\"current dict:\",d1)\n",
    "\n",
    "#Access the value using key\n",
    "x = d1[3]\n",
    "print(x)\n",
    "\n",
    "#Access the value using get()\n",
    "y=d1.get(1)\n",
    "print(y)\n",
    "\n",
    "#Access the value using items()\n",
    "z=d1.items()\n",
    "print(z)\n",
    "\n",
    "#Access the only keys from dictionary\n",
    "k=d1.keys()\n",
    "print(\"keys:\",k)\n",
    "\n",
    "# Access the only values from dictionary\n",
    "k=d1.values()\n",
    "print(\"values:\",k)"
   ]
  },
  {
   "cell_type": "markdown",
   "id": "b8f13c07",
   "metadata": {},
   "source": [
    "# changing the values in dictionary"
   ]
  },
  {
   "cell_type": "code",
   "execution_count": 9,
   "id": "f0485da8",
   "metadata": {},
   "outputs": [
    {
     "name": "stdout",
     "output_type": "stream",
     "text": [
      "update dict: {1: 'apple', 2: 'mango', 3: 'banana', 'A': 'kiwi'}\n"
     ]
    }
   ],
   "source": [
    "d1 = {1:\"apple\",2:\"mango\",3:\"banana\",'A':'B'}\n",
    "d1[\"A\"]=\"kiwi\"\n",
    "print(\"update dict:\",d1)"
   ]
  },
  {
   "cell_type": "code",
   "execution_count": 45,
   "id": "7a6213ee",
   "metadata": {},
   "outputs": [
    {
     "name": "stdout",
     "output_type": "stream",
     "text": [
      "update dict: {1: 'apple', 2: 'grapes', 3: 'kiwi', 'A': 'B'}\n"
     ]
    }
   ],
   "source": [
    "#update the value by using update()\n",
    "d1.update({2:\"grapes\"})\n",
    "print(\"update dict:\",d1)"
   ]
  },
  {
   "cell_type": "markdown",
   "id": "698ff584",
   "metadata": {},
   "source": [
    "# Remove the value from dictionary"
   ]
  },
  {
   "cell_type": "code",
   "execution_count": 14,
   "id": "dd0e9594",
   "metadata": {},
   "outputs": [
    {
     "data": {
      "text/plain": [
       "{}"
      ]
     },
     "execution_count": 14,
     "metadata": {},
     "output_type": "execute_result"
    }
   ],
   "source": [
    "# using pop()\n",
    "d1 = {1:\"apple\",2:\"mango\",3:\"banana\",'A':'B'}\n",
    "d1.pop(2)# using pop() deletes particular key\n",
    "d1\n",
    "\n",
    "#using popitem()\n",
    "d1 = {1:\"apple\",2:\"mango\",3:\"banana\",'A':'B'}\n",
    "d1.popitem() # popitem() deletes last value in the dictionary\n",
    "d1\n",
    "\n",
    "#using del()\n",
    "d1 = {1:\"apple\",2:\"mango\",3:\"banana\",'A':'B'}\n",
    "del d1[1] #del() deletes the particular key value\n",
    "d1\n",
    "\n",
    "# #using clear()\n",
    "d1 = {1:\"apple\",2:\"mango\",3:\"banana\",'A':'B'}\n",
    "d1.clear() # it clears the all values in the dictionary\n",
    "d1"
   ]
  },
  {
   "cell_type": "markdown",
   "id": "b03354f9",
   "metadata": {},
   "source": [
    " # ASSIGNMENT"
   ]
  },
  {
   "cell_type": "code",
   "execution_count": 29,
   "id": "3e599331",
   "metadata": {},
   "outputs": [
    {
     "name": "stdout",
     "output_type": "stream",
     "text": [
      "enter your name:chaitanya\n"
     ]
    },
    {
     "data": {
      "text/plain": [
       "'catna'"
      ]
     },
     "execution_count": 29,
     "metadata": {},
     "output_type": "execute_result"
    }
   ],
   "source": [
    "# write a program to accept  a list from the user  and print the alternate element of a list.\n",
    "a=input(\"enter your name:\")\n",
    "a[::2]"
   ]
  },
  {
   "cell_type": "code",
   "execution_count": 6,
   "id": "32e4e9c1",
   "metadata": {},
   "outputs": [
    {
     "data": {
      "text/plain": [
       "[1, 2, 4, 5, 6]"
      ]
     },
     "execution_count": 6,
     "metadata": {},
     "output_type": "execute_result"
    }
   ],
   "source": [
    "# write a program to remove the elelment \"3\" from the given list[1,2,3,4,5,6]\n",
    "a=[1,2,3,4,5,6]\n",
    "a.remove(3)\n",
    "a"
   ]
  },
  {
   "cell_type": "code",
   "execution_count": 8,
   "id": "ec170770",
   "metadata": {},
   "outputs": [
    {
     "data": {
      "text/plain": [
       "['java', 'php', 'python', 'net', 'Angular']"
      ]
     },
     "execution_count": 8,
     "metadata": {},
     "output_type": "execute_result"
    }
   ],
   "source": [
    "# write a program to insert the element \"PYthon\" on index2 in the given list\n",
    "a=[\"java\",\"php\",\"net\",\"Angular\"]\n",
    "a.insert(2,\"python\")\n",
    "a"
   ]
  },
  {
   "cell_type": "code",
   "execution_count": 15,
   "id": "52d131ff",
   "metadata": {},
   "outputs": [
    {
     "name": "stdout",
     "output_type": "stream",
     "text": [
      "Enter an element to add to the list: 5\n",
      "Enter an element to add to the list: 6\n",
      "Enter an element to add to the list: \n",
      "Enter an element to add to the list: 4\n",
      "Enter an element to add to the list: 3\n",
      "The final list is: ['5', '6', '', '4', '3']\n"
     ]
    }
   ],
   "source": [
    "# write a program to add element in list using for loop.\n",
    "lst = []\n",
    "\n",
    "for i in range(5):\n",
    "    element = input(\"Enter an element to add to the list: \")\n",
    "    lst.append(element)\n",
    "\n",
    "print(\"The final list is:\", lst)"
   ]
  },
  {
   "cell_type": "code",
   "execution_count": 31,
   "id": "6f1ec36e",
   "metadata": {},
   "outputs": [
    {
     "name": "stdout",
     "output_type": "stream",
     "text": [
      "('python', 2, 'java', 'B')\n",
      "(1, 2, 3, 'java', 'A')\n",
      "('B',)\n"
     ]
    }
   ],
   "source": [
    "# write a program to perform slicing with given tuple(\"python\",1,2,3,\"java\",'A','B') with the following slicing point.\n",
    "# print alternate value of tuple.\n",
    "tup=(\"python\",1,2,3,\"java\",'A','B')\n",
    "print(tup[::2])\n",
    "\n",
    "# print value between index 1 to 5.\n",
    "tup=(\"python\",1,2,3,\"java\",'A','B')\n",
    "print(tup[1:6])\n",
    "\n",
    "# print the last value of tuple.\n",
    "tup=(\"python\",1,2,3,\"java\",'A','B')\n",
    "print(tup[-1:])"
   ]
  },
  {
   "cell_type": "code",
   "execution_count": 20,
   "id": "64c3b12a",
   "metadata": {},
   "outputs": [
    {
     "data": {
      "text/plain": [
       "8"
      ]
     },
     "execution_count": 20,
     "metadata": {},
     "output_type": "execute_result"
    }
   ],
   "source": [
    "# write a program to count elements in given tuple(1,2,3,4,5,6,7,8).\n",
    "a=(1,2,3,4,5,6,7,8)\n",
    "count=len(a)\n",
    "count"
   ]
  },
  {
   "cell_type": "code",
   "execution_count": 21,
   "id": "6db61793",
   "metadata": {},
   "outputs": [
    {
     "data": {
      "text/plain": [
       "[1, 2, 3, 4, 5, 6, 7, 8]"
      ]
     },
     "execution_count": 21,
     "metadata": {},
     "output_type": "execute_result"
    }
   ],
   "source": [
    "# write a program to convert tuple into list\n",
    "a=(1,2,3,4,5,6,7,8)\n",
    "l1=list(a)\n",
    "l1"
   ]
  },
  {
   "cell_type": "code",
   "execution_count": 23,
   "id": "851f003a",
   "metadata": {},
   "outputs": [
    {
     "data": {
      "text/plain": [
       "{1: 'A', 2: 'B', 3: 'C', 4: 'D', 5: 'E'}"
      ]
     },
     "execution_count": 23,
     "metadata": {},
     "output_type": "execute_result"
    }
   ],
   "source": [
    "# write a program to convert two given list into dictionary.list1=[1,2,3,4,5]and list2=['A','B','C','D','E']\n",
    "l1=[1,2,3,4,5]\n",
    "l2=['A','B','C','D','E']\n",
    "d1=dict(zip(l1,l2))  # zip() to combine the two lists into a lists of tuple and dict() convert lists of tuples into dictionary\n",
    "d1 "
   ]
  },
  {
   "cell_type": "code",
   "execution_count": 26,
   "id": "3a9facd5",
   "metadata": {},
   "outputs": [
    {
     "data": {
      "text/plain": [
       "[1, 2, 3]"
      ]
     },
     "execution_count": 26,
     "metadata": {},
     "output_type": "execute_result"
    }
   ],
   "source": [
    "# write a program to print keys from the given dictionary{1:\"APPLE\",2:\"BANANA\",3:\"MANGO\"}and print keys into list.\n",
    "d1={1:\"APPLE\",2:\"BANANA\",3:\"MANGO\"}\n",
    "l1=list(d1.keys())\n",
    "l1"
   ]
  },
  {
   "cell_type": "code",
   "execution_count": 27,
   "id": "0f12953b",
   "metadata": {},
   "outputs": [
    {
     "data": {
      "text/plain": [
       "['APPLE', 'BANANA', 'MANGO']"
      ]
     },
     "execution_count": 27,
     "metadata": {},
     "output_type": "execute_result"
    }
   ],
   "source": [
    "# write a program to print values from the given dictionary{1:\"APPLE\",2:\"BANANA\",3:\"MANGO\"}and print keys into list.\n",
    "d1={1:\"APPLE\",2:\"BANANA\",3:\"MANGO\"}\n",
    "l1=list(d1.values())\n",
    "l1"
   ]
  },
  {
   "cell_type": "code",
   "execution_count": null,
   "id": "6f80213e",
   "metadata": {},
   "outputs": [],
   "source": []
  },
  {
   "cell_type": "code",
   "execution_count": null,
   "id": "107c4243",
   "metadata": {},
   "outputs": [],
   "source": []
  },
  {
   "cell_type": "markdown",
   "id": "d997571f",
   "metadata": {},
   "source": [
    "# Functions\n",
    "- Function is a block of code which only runs when is called.\n",
    "- Function is also used for reusability of code.\n",
    "- Function is created with \"def\" keyword."
   ]
  },
  {
   "cell_type": "code",
   "execution_count": null,
   "id": "f80d8a5d",
   "metadata": {},
   "outputs": [],
   "source": []
  },
  {
   "cell_type": "markdown",
   "id": "50caff1e",
   "metadata": {},
   "source": [
    "# In-built function"
   ]
  },
  {
   "cell_type": "code",
   "execution_count": 55,
   "id": "799b9224",
   "metadata": {},
   "outputs": [
    {
     "name": "stdout",
     "output_type": "stream",
     "text": [
      "hello world\n",
      "1\n",
      "2\n",
      "3\n",
      "4\n",
      "5\n",
      "6\n",
      "7\n",
      "8\n",
      "56.79\n"
     ]
    }
   ],
   "source": [
    "#print() function\n",
    "print(\"hello world\")\n",
    "\n",
    "#range() function\n",
    "for i in range(1,9):\n",
    "    print(i)\n",
    "\n",
    "#round() function\n",
    "x=round(56.7898,2)\n",
    "print(x)"
   ]
  },
  {
   "cell_type": "markdown",
   "id": "349d10ef",
   "metadata": {},
   "source": [
    "# User defined functions"
   ]
  },
  {
   "cell_type": "code",
   "execution_count": 2,
   "id": "5d671f51",
   "metadata": {},
   "outputs": [
    {
     "name": "stdout",
     "output_type": "stream",
     "text": [
      "Hello\n"
     ]
    }
   ],
   "source": [
    "# create function\n",
    "def myfunction():\n",
    "    print(\"Hello\")\n",
    "    \n",
    "# calling function\n",
    "myfunction()"
   ]
  },
  {
   "cell_type": "markdown",
   "id": "9480cfa5",
   "metadata": {},
   "source": [
    "# Function with one argument"
   ]
  },
  {
   "cell_type": "code",
   "execution_count": 3,
   "id": "8fd34aa3",
   "metadata": {},
   "outputs": [
    {
     "name": "stdout",
     "output_type": "stream",
     "text": [
      "A: 10\n"
     ]
    }
   ],
   "source": [
    "# creating a function\n",
    "def myfunction(a):\n",
    "    print(\"A:\",a)\n",
    "    \n",
    "#calling a function\n",
    "myfunction(10) #passing argument a as 10"
   ]
  },
  {
   "cell_type": "markdown",
   "id": "5e8b2918",
   "metadata": {},
   "source": [
    "# Multiple arguments into function"
   ]
  },
  {
   "cell_type": "code",
   "execution_count": 5,
   "id": "5d3a8434",
   "metadata": {},
   "outputs": [
    {
     "name": "stdout",
     "output_type": "stream",
     "text": [
      "A: 10\n",
      "B: 20\n"
     ]
    }
   ],
   "source": [
    "# creating a function\n",
    "def myfunction(a,b):\n",
    "    print(\"A:\",a)\n",
    "    print(\"B:\",b)\n",
    "\n",
    "#calling a function\n",
    "myfunction(10,20) # passing 2 arguments"
   ]
  },
  {
   "cell_type": "markdown",
   "id": "3ad7a586",
   "metadata": {},
   "source": [
    "# keyword arguments"
   ]
  },
  {
   "cell_type": "code",
   "execution_count": 33,
   "id": "8a55b592",
   "metadata": {},
   "outputs": [
    {
     "name": "stdout",
     "output_type": "stream",
     "text": [
      "Youngest child is : chaitanya\n"
     ]
    }
   ],
   "source": [
    "# creating a function\n",
    "def myfunction(child3,child2,child1):\n",
    "    print(\"Youngest child is :\",child3)\n",
    "    \n",
    "#calling a function\n",
    "myfunction(child1=\"vasundhara\",child2=\"krishna\",child3=\"chaitanya\")"
   ]
  },
  {
   "cell_type": "markdown",
   "id": "1afaf9f8",
   "metadata": {},
   "source": [
    "# Default parameter"
   ]
  },
  {
   "cell_type": "code",
   "execution_count": 15,
   "id": "990bd175",
   "metadata": {},
   "outputs": [
    {
     "name": "stdout",
     "output_type": "stream",
     "text": [
      "I am from :  Andhra pradesh\n",
      "I am from :  Telangana\n",
      "I am from :  Kerala\n",
      "I am from :  karnataka\n"
     ]
    }
   ],
   "source": [
    "#creating a function\n",
    "def myfunction(state=\"karnataka\"):\n",
    "    print(\"I am from : \",state)\n",
    "    \n",
    "#calling a function\n",
    "myfunction(\"Andhra pradesh\")\n",
    "myfunction(\"Telangana\")\n",
    "myfunction(\"Kerala\")\n",
    "myfunction()"
   ]
  },
  {
   "cell_type": "markdown",
   "id": "983c0db4",
   "metadata": {},
   "source": [
    "# calling a list into function"
   ]
  },
  {
   "cell_type": "code",
   "execution_count": 17,
   "id": "85ab6539",
   "metadata": {},
   "outputs": [
    {
     "name": "stdout",
     "output_type": "stream",
     "text": [
      "apple\n",
      "mango\n",
      "grapes\n"
     ]
    }
   ],
   "source": [
    "#creating a list\n",
    "def myfunction(fruit):\n",
    "    for i in fruit:\n",
    "        print(i)\n",
    "f=[\"apple\",\"mango\",\"grapes\"] \n",
    "\n",
    "#calling a function\n",
    "myfunction(f)"
   ]
  },
  {
   "cell_type": "markdown",
   "id": "5b78d307",
   "metadata": {},
   "source": [
    "# Return values from function"
   ]
  },
  {
   "cell_type": "code",
   "execution_count": 18,
   "id": "72ae3b04",
   "metadata": {},
   "outputs": [
    {
     "name": "stdout",
     "output_type": "stream",
     "text": [
      "15\n",
      "20\n",
      "25\n"
     ]
    }
   ],
   "source": [
    "# creating a list\n",
    "def myfunction(x):\n",
    "    return 5*x\n",
    "\n",
    "#calling a function\n",
    "print(myfunction(3))\n",
    "print(myfunction(4))\n",
    "print(myfunction(5))"
   ]
  },
  {
   "cell_type": "markdown",
   "id": "447ff6d1",
   "metadata": {},
   "source": [
    "# recursion function"
   ]
  },
  {
   "cell_type": "code",
   "execution_count": 19,
   "id": "a7a00a9e",
   "metadata": {},
   "outputs": [
    {
     "name": "stdout",
     "output_type": "stream",
     "text": [
      "Num:8\n",
      "The factorial of 8 is: 40320\n"
     ]
    }
   ],
   "source": [
    "#recursion:a function which call itself\n",
    "#creating a function\n",
    "def factorial(x):\n",
    "    if x==1:\n",
    "        return 1\n",
    "    else:\n",
    "        #calling a function\n",
    "        return(x*factorial(x-1))\n",
    "num=int(input(\"Num:\"))\n",
    "print(\"The factorial of\",num,\"is:\",factorial(num))"
   ]
  },
  {
   "cell_type": "markdown",
   "id": "b8f80b96",
   "metadata": {},
   "source": [
    "# Anonymous Function(Lambda function)"
   ]
  },
  {
   "cell_type": "code",
   "execution_count": 21,
   "id": "1214b86f",
   "metadata": {},
   "outputs": [
    {
     "name": "stdout",
     "output_type": "stream",
     "text": [
      "15\n",
      "90\n"
     ]
    }
   ],
   "source": [
    "#creating a function\n",
    "x = lambda a:a+10\n",
    "print(x(5))\n",
    "\n",
    "#lambda functions with multiple arguments\n",
    "y = lambda a,b:a*b\n",
    "print(y(10,9))"
   ]
  },
  {
   "cell_type": "markdown",
   "id": "ff8d76e1",
   "metadata": {},
   "source": [
    "# Global variable"
   ]
  },
  {
   "cell_type": "code",
   "execution_count": 35,
   "id": "bd51a68a",
   "metadata": {},
   "outputs": [
    {
     "name": "stdout",
     "output_type": "stream",
     "text": [
      "25\n",
      "20\n"
     ]
    }
   ],
   "source": [
    "#global variable : which means the variable can use anywhere in the program\n",
    "\n",
    "z=25\n",
    "def myfunction():\n",
    "    global z\n",
    "    print(z)\n",
    "    z=20\n",
    "    \n",
    "myfunction()\n",
    "print(z)                      "
   ]
  },
  {
   "cell_type": "markdown",
   "id": "b6f4c53c",
   "metadata": {},
   "source": [
    "# Local variable"
   ]
  },
  {
   "cell_type": "code",
   "execution_count": 5,
   "id": "0aadcb16",
   "metadata": {},
   "outputs": [
    {
     "name": "stdout",
     "output_type": "stream",
     "text": [
      "15\n"
     ]
    },
    {
     "ename": "NameError",
     "evalue": "name 'x' is not defined",
     "output_type": "error",
     "traceback": [
      "\u001b[1;31m---------------------------------------------------------------------------\u001b[0m",
      "\u001b[1;31mNameError\u001b[0m                                 Traceback (most recent call last)",
      "\u001b[1;32m~\\AppData\\Local\\Temp\\ipykernel_6056\\1463675421.py\u001b[0m in \u001b[0;36m<module>\u001b[1;34m\u001b[0m\n\u001b[0;32m      5\u001b[0m     \u001b[1;32mreturn\u001b[0m \u001b[0msum\u001b[0m\u001b[1;33m\u001b[0m\u001b[1;33m\u001b[0m\u001b[0m\n\u001b[0;32m      6\u001b[0m \u001b[0mprint\u001b[0m\u001b[1;33m(\u001b[0m\u001b[0msum\u001b[0m\u001b[1;33m(\u001b[0m\u001b[1;36m5\u001b[0m\u001b[1;33m,\u001b[0m\u001b[1;36m10\u001b[0m\u001b[1;33m)\u001b[0m\u001b[1;33m)\u001b[0m\u001b[1;33m\u001b[0m\u001b[1;33m\u001b[0m\u001b[0m\n\u001b[1;32m----> 7\u001b[1;33m \u001b[0mprint\u001b[0m\u001b[1;33m(\u001b[0m\u001b[0mx\u001b[0m\u001b[1;33m)\u001b[0m \u001b[1;31m#x is a local variable\u001b[0m\u001b[1;33m\u001b[0m\u001b[1;33m\u001b[0m\u001b[0m\n\u001b[0m",
      "\u001b[1;31mNameError\u001b[0m: name 'x' is not defined"
     ]
    }
   ],
   "source": [
    "# local variable:The variable which can be used in it scope\n",
    "\n",
    "def sum(x,y):\n",
    "    sum=x+y\n",
    "    return sum\n",
    "print(sum(5,10))\n",
    "print(x) #x is a local variable"
   ]
  },
  {
   "cell_type": "markdown",
   "id": "0ee21f22",
   "metadata": {},
   "source": [
    "# Random module\n",
    "- Python provide multiple inbuilt function that are used to choose or generate random number by using random module."
   ]
  },
  {
   "cell_type": "markdown",
   "id": "b33158f6",
   "metadata": {},
   "source": [
    "# Random number operations:\n",
    "- choice() : choice() is inbuilt function of random module,which is used to return random number from list,tuple and set.\n",
    "- Randint() : randint() is inbuilt function of random module,which is used to generate random number from particular given range.\n",
    "- shuffle() : shuffle() is inbuilt function of random module,which is used to shuffle a value of list."
   ]
  },
  {
   "cell_type": "markdown",
   "id": "232e6f62",
   "metadata": {},
   "source": [
    "# Import random"
   ]
  },
  {
   "cell_type": "code",
   "execution_count": 25,
   "id": "357581d0",
   "metadata": {},
   "outputs": [],
   "source": [
    "#from random import functionname\n",
    "\n",
    "# import random"
   ]
  },
  {
   "cell_type": "markdown",
   "id": "e92de5b1",
   "metadata": {},
   "source": [
    "# choice()"
   ]
  },
  {
   "cell_type": "code",
   "execution_count": 7,
   "id": "227e0ca4",
   "metadata": {},
   "outputs": [
    {
     "name": "stdout",
     "output_type": "stream",
     "text": [
      "4\n"
     ]
    }
   ],
   "source": [
    "from random import choice\n",
    "\n",
    "l1=[1,2,3,4,5,6]\n",
    "print(choice(l1))"
   ]
  },
  {
   "cell_type": "markdown",
   "id": "fec22f42",
   "metadata": {},
   "source": [
    "# Randint()"
   ]
  },
  {
   "cell_type": "code",
   "execution_count": 28,
   "id": "b2ce734d",
   "metadata": {},
   "outputs": [
    {
     "name": "stdout",
     "output_type": "stream",
     "text": [
      "Your otp is :  57741\n"
     ]
    }
   ],
   "source": [
    "from random import randint\n",
    "\n",
    "otp=randint(10000,99999)\n",
    "print(\"Your otp is : \",otp)"
   ]
  },
  {
   "cell_type": "markdown",
   "id": "862f4b34",
   "metadata": {},
   "source": [
    "# shuffle()"
   ]
  },
  {
   "cell_type": "code",
   "execution_count": 18,
   "id": "6acba1e1",
   "metadata": {},
   "outputs": [
    {
     "name": "stdout",
     "output_type": "stream",
     "text": [
      "['mango', 'banana', 'apple']\n"
     ]
    }
   ],
   "source": [
    "from random import shuffle\n",
    "\n",
    "l2=[\"apple\",\"mango\",\"banana\"]\n",
    "shuffle(l2)\n",
    "print(l2)"
   ]
  },
  {
   "cell_type": "markdown",
   "id": "5688acdd",
   "metadata": {},
   "source": [
    "# Math module\n",
    "- math module is used to perform mathematical task.\n",
    "\n",
    "# Math module operations:\n",
    "- Factorial():This function return factorial number.\n",
    "- ceil():This function is used to round up the integer.\n",
    "- Floor():This function is used to round down the integer.\n",
    "- sqrt():This function is used to return square root of the value."
   ]
  },
  {
   "cell_type": "markdown",
   "id": "4779db72",
   "metadata": {},
   "source": [
    "# import math"
   ]
  },
  {
   "cell_type": "code",
   "execution_count": 34,
   "id": "08b08aef",
   "metadata": {},
   "outputs": [],
   "source": [
    "# import math\n",
    "\n",
    "# from random import math"
   ]
  },
  {
   "cell_type": "markdown",
   "id": "892b11e1",
   "metadata": {},
   "source": [
    "# Factorial()"
   ]
  },
  {
   "cell_type": "code",
   "execution_count": 35,
   "id": "d910786e",
   "metadata": {},
   "outputs": [
    {
     "name": "stdout",
     "output_type": "stream",
     "text": [
      "362880\n",
      "40320\n",
      "5040\n"
     ]
    }
   ],
   "source": [
    "import math \n",
    "\n",
    "print(math.factorial(9))\n",
    "print(math.factorial(8))\n",
    "print(math.factorial(7))"
   ]
  },
  {
   "cell_type": "markdown",
   "id": "15992f72",
   "metadata": {},
   "source": [
    "# ceil()"
   ]
  },
  {
   "cell_type": "code",
   "execution_count": 36,
   "id": "fb255ead",
   "metadata": {},
   "outputs": [
    {
     "name": "stdout",
     "output_type": "stream",
     "text": [
      "2\n",
      "6\n",
      "-5\n"
     ]
    }
   ],
   "source": [
    "import math\n",
    "\n",
    "print(math.ceil(1.4))\n",
    "print(math.ceil(5.3))\n",
    "print(math.ceil(-5.3))"
   ]
  },
  {
   "cell_type": "markdown",
   "id": "812c88c0",
   "metadata": {},
   "source": [
    "# Floor()"
   ]
  },
  {
   "cell_type": "code",
   "execution_count": 41,
   "id": "d8fcfde8",
   "metadata": {},
   "outputs": [
    {
     "name": "stdout",
     "output_type": "stream",
     "text": [
      "1\n",
      "5\n",
      "-5\n"
     ]
    }
   ],
   "source": [
    "import math\n",
    "print(math.floor(1.4))\n",
    "print(math.floor(5.6))\n",
    "print(math.floor(-4.6))"
   ]
  },
  {
   "cell_type": "markdown",
   "id": "cdf9b9c9",
   "metadata": {},
   "source": [
    "# sqrt()"
   ]
  },
  {
   "cell_type": "code",
   "execution_count": 39,
   "id": "a6ee452c",
   "metadata": {},
   "outputs": [
    {
     "name": "stdout",
     "output_type": "stream",
     "text": [
      "3.1622776601683795\n",
      "10.0\n",
      "20.0\n"
     ]
    }
   ],
   "source": [
    "import math \n",
    "print(math.sqrt(10))\n",
    "print(math.sqrt(100))\n",
    "print(math.sqrt(400))"
   ]
  },
  {
   "cell_type": "code",
   "execution_count": null,
   "id": "1ad7aa53",
   "metadata": {},
   "outputs": [],
   "source": []
  },
  {
   "cell_type": "code",
   "execution_count": null,
   "id": "0d8e54d9",
   "metadata": {},
   "outputs": [],
   "source": []
  },
  {
   "cell_type": "markdown",
   "id": "615ff470",
   "metadata": {},
   "source": [
    "# File handling\n",
    "\n",
    "- File handling is an important part for web application.\n",
    "- when can do several functions for creating,reading,updating,and deleting files.\n",
    "\n",
    "# File handling permissions\n",
    "- \"r\"-read the file content\n",
    "- \"a\"-append a value in the file\n",
    "- \"w\"-write a value in the file"
   ]
  },
  {
   "cell_type": "markdown",
   "id": "f7a734c0",
   "metadata": {},
   "source": [
    "# creating file"
   ]
  },
  {
   "cell_type": "code",
   "execution_count": 4,
   "id": "e597bd6c",
   "metadata": {},
   "outputs": [
    {
     "name": "stdout",
     "output_type": "stream",
     "text": [
      "File created\n"
     ]
    }
   ],
   "source": [
    "#open(\"File name\",\"permission\")\n",
    "\n",
    "s=\"This is my file handling program\"\n",
    "file=open(\"demo1.txt\",\"w\")\n",
    "file.write(s)\n",
    "print(\"File created\")\n",
    "file.close()"
   ]
  },
  {
   "cell_type": "code",
   "execution_count": 5,
   "id": "cce82550",
   "metadata": {},
   "outputs": [
    {
     "data": {
      "text/plain": [
       "True"
      ]
     },
     "execution_count": 5,
     "metadata": {},
     "output_type": "execute_result"
    }
   ],
   "source": [
    "file.closed"
   ]
  },
  {
   "cell_type": "markdown",
   "id": "56c97f9d",
   "metadata": {},
   "source": [
    "# file read"
   ]
  },
  {
   "cell_type": "code",
   "execution_count": 2,
   "id": "e0e63dec",
   "metadata": {},
   "outputs": [
    {
     "name": "stdout",
     "output_type": "stream",
     "text": [
      "This is my file handling program\n"
     ]
    }
   ],
   "source": [
    "file=open(\"demo1.txt\",\"r\")\n",
    "filecontent=file.read()\n",
    "print(filecontent)"
   ]
  },
  {
   "cell_type": "code",
   "execution_count": 6,
   "id": "0b0150f1",
   "metadata": {},
   "outputs": [
    {
     "data": {
      "text/plain": [
       "True"
      ]
     },
     "execution_count": 6,
     "metadata": {},
     "output_type": "execute_result"
    }
   ],
   "source": [
    "file.closed"
   ]
  },
  {
   "cell_type": "markdown",
   "id": "af52d857",
   "metadata": {},
   "source": [
    "# write a list into file"
   ]
  },
  {
   "cell_type": "code",
   "execution_count": 9,
   "id": "5365c47e",
   "metadata": {},
   "outputs": [
    {
     "name": "stdout",
     "output_type": "stream",
     "text": [
      "File created\n"
     ]
    }
   ],
   "source": [
    "l1=[\"java\",\"python\",\"php\",\"angular\"]\n",
    "file=open(\"demo2.text\",\"w\")\n",
    "file.writelines(l1)\n",
    "print(\"File created\")\n",
    "file.close()"
   ]
  },
  {
   "cell_type": "markdown",
   "id": "1fc0928c",
   "metadata": {},
   "source": [
    "# Read a list from file"
   ]
  },
  {
   "cell_type": "code",
   "execution_count": 10,
   "id": "dbef0815",
   "metadata": {},
   "outputs": [
    {
     "name": "stdout",
     "output_type": "stream",
     "text": [
      "['javapythonphpangular']\n"
     ]
    }
   ],
   "source": [
    "file = open(\"demo2.text\",\"r\")\n",
    "filelist=file.readlines()\n",
    "print(filelist)"
   ]
  },
  {
   "cell_type": "code",
   "execution_count": 11,
   "id": "ffda82b7",
   "metadata": {},
   "outputs": [
    {
     "data": {
      "text/plain": [
       "False"
      ]
     },
     "execution_count": 11,
     "metadata": {},
     "output_type": "execute_result"
    }
   ],
   "source": [
    "file.closed"
   ]
  },
  {
   "cell_type": "markdown",
   "id": "7aec3e03",
   "metadata": {},
   "source": [
    "# appending the value into the file"
   ]
  },
  {
   "cell_type": "code",
   "execution_count": 12,
   "id": "22fcd59d",
   "metadata": {},
   "outputs": [
    {
     "name": "stdout",
     "output_type": "stream",
     "text": [
      "file updated\n"
     ]
    }
   ],
   "source": [
    "s = \"python programming\"\n",
    "file = open(\"demo1.text\",\"a\")\n",
    "file.write(s)\n",
    "print(\"file updated\")\n",
    "file.close()"
   ]
  },
  {
   "cell_type": "markdown",
   "id": "7b1d5306",
   "metadata": {},
   "source": [
    "# ASSIGNMENT"
   ]
  },
  {
   "cell_type": "code",
   "execution_count": 31,
   "id": "c0b3e940",
   "metadata": {},
   "outputs": [
    {
     "name": "stdout",
     "output_type": "stream",
     "text": [
      "File created\n",
      "['This is file handling assignment']\n"
     ]
    },
    {
     "data": {
      "text/plain": [
       "True"
      ]
     },
     "execution_count": 31,
     "metadata": {},
     "output_type": "execute_result"
    }
   ],
   "source": [
    "# write a program to create a \".txt\" file and read an entire text file\n",
    "s=\"This is file handling assignment\"\n",
    "file=open(\"demo.txt\",'w')\n",
    "file.write(s)\n",
    "print(\"File created\")\n",
    "file=open(\"demo.txt\",'r')\n",
    "filelist=file.readlines()\n",
    "print(filelist)\n",
    "file.close()\n",
    "file.closed"
   ]
  },
  {
   "cell_type": "code",
   "execution_count": 34,
   "id": "38a7a5b0",
   "metadata": {},
   "outputs": [
    {
     "name": "stdout",
     "output_type": "stream",
     "text": [
      "Enter file name: india.txt\n",
      "Enter the number of lines to read: 2\n",
      "Indian culture is the heritage of social norms and technologies that originated in or are associated with the ethno-linguistically diverse India. The term also applies beyond India to countries and cultures whose histories are strongly connected to India by immigration, colonisation, or influence, particularly in South Asia and Southeast Asia. India's languages, religions, dance, music, architecture, food and customs differ from place to place within the country.\n"
     ]
    }
   ],
   "source": [
    "filename = input(\"Enter file name: \")\n",
    "n = int(input(\"Enter the number of lines to read: \"))\n",
    "\n",
    "with open(filename, 'r') as file:\n",
    "    for i in range(n):\n",
    "        line = file.readline()\n",
    "        if not line:\n",
    "            break\n",
    "        print(line.strip())"
   ]
  },
  {
   "cell_type": "code",
   "execution_count": 6,
   "id": "a4b22e75",
   "metadata": {},
   "outputs": [
    {
     "name": "stdout",
     "output_type": "stream",
     "text": [
      "This is some new text.\n",
      "This is some new text.\n",
      "This is some new text.\n",
      "This is some new text.\n",
      "This is some new text.\n",
      "\n"
     ]
    },
    {
     "data": {
      "text/plain": [
       "True"
      ]
     },
     "execution_count": 6,
     "metadata": {},
     "output_type": "execute_result"
    }
   ],
   "source": [
    "# write a program to append text to a file and display the text.\n",
    "with open('example.txt','a') as file:\n",
    "    file.write('This is some new text.\\n')\n",
    "with open('example.txt','r') as file:\n",
    "    contents=file.read()\n",
    "    print(contents)\n",
    "file.close()\n",
    "file.closed"
   ]
  },
  {
   "cell_type": "code",
   "execution_count": 8,
   "id": "11d2d27a",
   "metadata": {},
   "outputs": [
    {
     "name": "stdout",
     "output_type": "stream",
     "text": [
      "file created\n"
     ]
    }
   ],
   "source": [
    "# write a program to store given list[\"Apple\",\"Mango\",\"Orange\"] into file.\n",
    "lst=[\"Apple\",\"Mango\",\"Orange\"]\n",
    "file=open(\"demo1.txt\",\"w\")\n",
    "file.writelines(lst)\n",
    "print(\"file created\")\n",
    "file.close()"
   ]
  },
  {
   "cell_type": "code",
   "execution_count": 11,
   "id": "b6e4dbd5",
   "metadata": {},
   "outputs": [
    {
     "name": "stdout",
     "output_type": "stream",
     "text": [
      "['AppleMangoOrange']\n"
     ]
    }
   ],
   "source": [
    "#write a program to read list from the file.\n",
    "file=open(\"demo1.txt\",\"r\")\n",
    "filelist=file.readlines()\n",
    "print(filelist)"
   ]
  },
  {
   "cell_type": "code",
   "execution_count": null,
   "id": "f33796c6",
   "metadata": {},
   "outputs": [],
   "source": []
  },
  {
   "cell_type": "code",
   "execution_count": null,
   "id": "c2ca52fb",
   "metadata": {},
   "outputs": [],
   "source": []
  },
  {
   "cell_type": "markdown",
   "id": "3a0b62f1",
   "metadata": {},
   "source": [
    "# Exception Handling\n",
    "- Exception means the abnormal situation occurs at runtime and stop the execution of program.\n",
    "- In python there are two types of error that can occur \n",
    "- 1)syntax error\n",
    "- 2)Exception\n",
    "\n",
    "# syntax Error:\n",
    "- As the name suggest this error is caused by wrong syntax in the code.It leads to the termination of the program.\n",
    "\n",
    "# Exception:\n",
    "- Exceptions are raised when the program is syntactically correct but the code resulted in an error.This error does not stop the execution of the program,however,it changes the normal flow of the program.\n",
    "\n",
    "# user Define Exception:\n",
    "- User define exception means user can generate his custom exception in python by inherting the exception class."
   ]
  },
  {
   "cell_type": "markdown",
   "id": "eac3af1b",
   "metadata": {},
   "source": [
    "# Exception create"
   ]
  },
  {
   "cell_type": "code",
   "execution_count": 13,
   "id": "a10d9a10",
   "metadata": {},
   "outputs": [
    {
     "name": "stdout",
     "output_type": "stream",
     "text": [
      "Enter the value of A : hello\n"
     ]
    },
    {
     "ename": "ValueError",
     "evalue": "invalid literal for int() with base 10: 'hello'",
     "output_type": "error",
     "traceback": [
      "\u001b[1;31m---------------------------------------------------------------------------\u001b[0m",
      "\u001b[1;31mValueError\u001b[0m                                Traceback (most recent call last)",
      "\u001b[1;32m~\\AppData\\Local\\Temp\\ipykernel_22988\\3524008900.py\u001b[0m in \u001b[0;36m<module>\u001b[1;34m\u001b[0m\n\u001b[1;32m----> 1\u001b[1;33m \u001b[0ma\u001b[0m \u001b[1;33m=\u001b[0m \u001b[0mint\u001b[0m\u001b[1;33m(\u001b[0m\u001b[0minput\u001b[0m\u001b[1;33m(\u001b[0m\u001b[1;34m\"Enter the value of A : \"\u001b[0m\u001b[1;33m)\u001b[0m\u001b[1;33m)\u001b[0m\u001b[1;33m\u001b[0m\u001b[1;33m\u001b[0m\u001b[0m\n\u001b[0m\u001b[0;32m      2\u001b[0m \u001b[0mprint\u001b[0m\u001b[1;33m(\u001b[0m\u001b[1;34m\"A:\"\u001b[0m\u001b[1;33m,\u001b[0m\u001b[0ma\u001b[0m\u001b[1;33m)\u001b[0m\u001b[1;33m\u001b[0m\u001b[1;33m\u001b[0m\u001b[0m\n\u001b[0;32m      3\u001b[0m \u001b[1;31m# we got a wrong input\u001b[0m\u001b[1;33m\u001b[0m\u001b[1;33m\u001b[0m\u001b[0m\n\u001b[0;32m      4\u001b[0m \u001b[0mprint\u001b[0m\u001b[1;33m(\u001b[0m\u001b[1;34m\"Bye\"\u001b[0m\u001b[1;33m)\u001b[0m\u001b[1;33m\u001b[0m\u001b[1;33m\u001b[0m\u001b[0m\n",
      "\u001b[1;31mValueError\u001b[0m: invalid literal for int() with base 10: 'hello'"
     ]
    }
   ],
   "source": [
    "a = int(input(\"Enter the value of A : \"))\n",
    "print(\"A:\",a)\n",
    "# we got a wrong input\n",
    "print(\"Bye\")"
   ]
  },
  {
   "cell_type": "code",
   "execution_count": 14,
   "id": "b854685d",
   "metadata": {},
   "outputs": [
    {
     "name": "stdout",
     "output_type": "stream",
     "text": [
      "Enter the value of A : 10\n",
      "Enter the value of B : 0\n"
     ]
    },
    {
     "ename": "ZeroDivisionError",
     "evalue": "division by zero",
     "output_type": "error",
     "traceback": [
      "\u001b[1;31m---------------------------------------------------------------------------\u001b[0m",
      "\u001b[1;31mZeroDivisionError\u001b[0m                         Traceback (most recent call last)",
      "\u001b[1;32m~\\AppData\\Local\\Temp\\ipykernel_22988\\3426836531.py\u001b[0m in \u001b[0;36m<module>\u001b[1;34m\u001b[0m\n\u001b[0;32m      1\u001b[0m \u001b[0ma\u001b[0m \u001b[1;33m=\u001b[0m \u001b[0mint\u001b[0m\u001b[1;33m(\u001b[0m\u001b[0minput\u001b[0m\u001b[1;33m(\u001b[0m\u001b[1;34m\"Enter the value of A : \"\u001b[0m\u001b[1;33m)\u001b[0m\u001b[1;33m)\u001b[0m\u001b[1;33m\u001b[0m\u001b[1;33m\u001b[0m\u001b[0m\n\u001b[0;32m      2\u001b[0m \u001b[0mb\u001b[0m \u001b[1;33m=\u001b[0m \u001b[0mint\u001b[0m\u001b[1;33m(\u001b[0m\u001b[0minput\u001b[0m\u001b[1;33m(\u001b[0m\u001b[1;34m\"Enter the value of B : \"\u001b[0m\u001b[1;33m)\u001b[0m\u001b[1;33m)\u001b[0m\u001b[1;33m\u001b[0m\u001b[1;33m\u001b[0m\u001b[0m\n\u001b[1;32m----> 3\u001b[1;33m \u001b[0mc\u001b[0m \u001b[1;33m=\u001b[0m \u001b[0ma\u001b[0m\u001b[1;33m/\u001b[0m\u001b[0mb\u001b[0m \u001b[1;31m#Exception handling\u001b[0m\u001b[1;33m\u001b[0m\u001b[1;33m\u001b[0m\u001b[0m\n\u001b[0m\u001b[0;32m      4\u001b[0m \u001b[0mprint\u001b[0m\u001b[1;33m(\u001b[0m\u001b[1;34m\"Answer : \"\u001b[0m\u001b[1;33m,\u001b[0m\u001b[0mc\u001b[0m\u001b[1;33m)\u001b[0m\u001b[1;33m\u001b[0m\u001b[1;33m\u001b[0m\u001b[0m\n\u001b[0;32m      5\u001b[0m \u001b[0mprint\u001b[0m\u001b[1;33m(\u001b[0m\u001b[1;34m\"Bye\"\u001b[0m\u001b[1;33m)\u001b[0m\u001b[1;33m\u001b[0m\u001b[1;33m\u001b[0m\u001b[0m\n",
      "\u001b[1;31mZeroDivisionError\u001b[0m: division by zero"
     ]
    }
   ],
   "source": [
    "a = int(input(\"Enter the value of A : \"))\n",
    "b = int(input(\"Enter the value of B : \"))\n",
    "c = a/b #Exception handling\n",
    "print(\"Answer : \",c)\n",
    "print(\"Bye\")"
   ]
  },
  {
   "cell_type": "code",
   "execution_count": 17,
   "id": "f3061706",
   "metadata": {},
   "outputs": [
    {
     "name": "stdout",
     "output_type": "stream",
     "text": [
      "Enter the value of A : 10\n",
      "Enter the value of B : 0\n",
      "Exception Caught :  division by zero\n",
      "Bye\n"
     ]
    }
   ],
   "source": [
    "try:\n",
    "# The code which is written try block can be occurerror at runtime    \n",
    "    a = int(input(\"Enter the value of A : \"))\n",
    "    b = int(input(\"Enter the value of B : \")) \n",
    "    c = a/b\n",
    "    print(\"Answer : \",c)\n",
    "except Exception as e:\n",
    "# This block will run when exception occur    \n",
    "    print(\"Exception Caught : \",e)\n",
    "print(\"Bye\")    "
   ]
  },
  {
   "cell_type": "markdown",
   "id": "fe5c7009",
   "metadata": {},
   "source": [
    "# Many exception"
   ]
  },
  {
   "cell_type": "code",
   "execution_count": 8,
   "id": "cc080f01",
   "metadata": {},
   "outputs": [
    {
     "name": "stdout",
     "output_type": "stream",
     "text": [
      "15\n"
     ]
    }
   ],
   "source": [
    "try:\n",
    "    x=15\n",
    "    print(x)\n",
    "except NameError:\n",
    "    print(\"Variable is not define\")\n",
    "except:\n",
    "    print(\"Exception Caught\")"
   ]
  },
  {
   "cell_type": "markdown",
   "id": "906fae17",
   "metadata": {},
   "source": [
    "# How to use else with except"
   ]
  },
  {
   "cell_type": "code",
   "execution_count": 5,
   "id": "d93b33da",
   "metadata": {},
   "outputs": [
    {
     "name": "stdout",
     "output_type": "stream",
     "text": [
      "Something went wrong\n"
     ]
    }
   ],
   "source": [
    "try:\n",
    "    #print(\"Hello\")\n",
    "    print(x)\n",
    "except:\n",
    "    print(\"Something went wrong\")\n",
    "else:\n",
    "    print(\"Nothing went wrong\")"
   ]
  },
  {
   "cell_type": "markdown",
   "id": "df34a6ca",
   "metadata": {},
   "source": [
    "# Finally block"
   ]
  },
  {
   "cell_type": "code",
   "execution_count": 23,
   "id": "aa0991ef",
   "metadata": {},
   "outputs": [
    {
     "name": "stdout",
     "output_type": "stream",
     "text": [
      "Something went wrong\n",
      "finally block\n"
     ]
    }
   ],
   "source": [
    "try:\n",
    "     # print(\"Hello\")\n",
    "    print(x)\n",
    "except:\n",
    "    print(\"Something went wrong\")\n",
    "finally:\n",
    "    print(\"finally block\")"
   ]
  },
  {
   "cell_type": "markdown",
   "id": "a8c6d962",
   "metadata": {},
   "source": [
    "# User define exception"
   ]
  },
  {
   "cell_type": "code",
   "execution_count": 9,
   "id": "04aaf2fb",
   "metadata": {},
   "outputs": [
    {
     "ename": "myException",
     "evalue": "Something went wrong",
     "output_type": "error",
     "traceback": [
      "\u001b[1;31m---------------------------------------------------------------------------\u001b[0m",
      "\u001b[1;31mmyException\u001b[0m                               Traceback (most recent call last)",
      "\u001b[1;32m~\\AppData\\Local\\Temp\\ipykernel_6056\\1846223609.py\u001b[0m in \u001b[0;36m<module>\u001b[1;34m\u001b[0m\n\u001b[0;32m      3\u001b[0m \u001b[0mc\u001b[0m\u001b[1;33m=\u001b[0m\u001b[1;36m25\u001b[0m\u001b[1;33m\u001b[0m\u001b[1;33m\u001b[0m\u001b[0m\n\u001b[0;32m      4\u001b[0m \u001b[1;32mif\u001b[0m \u001b[0mc\u001b[0m\u001b[1;33m>\u001b[0m\u001b[1;36m5\u001b[0m\u001b[1;33m:\u001b[0m\u001b[1;33m\u001b[0m\u001b[1;33m\u001b[0m\u001b[0m\n\u001b[1;32m----> 5\u001b[1;33m     \u001b[1;32mraise\u001b[0m \u001b[0mmyException\u001b[0m\u001b[1;33m(\u001b[0m\u001b[1;34m\"Something went wrong\"\u001b[0m\u001b[1;33m)\u001b[0m\u001b[1;33m\u001b[0m\u001b[1;33m\u001b[0m\u001b[0m\n\u001b[0m",
      "\u001b[1;31mmyException\u001b[0m: Something went wrong"
     ]
    }
   ],
   "source": [
    "class myException(Exception):\n",
    "    pass\n",
    "c=25\n",
    "if c>5:\n",
    "    raise myException(\"Something went wrong\") "
   ]
  },
  {
   "cell_type": "markdown",
   "id": "f2e33536",
   "metadata": {},
   "source": [
    "# ASSIGNMENT"
   ]
  },
  {
   "cell_type": "code",
   "execution_count": 7,
   "id": "91ba7c1c",
   "metadata": {},
   "outputs": [
    {
     "name": "stdout",
     "output_type": "stream",
     "text": [
      "Enter the first number: 90\n",
      "Enter the second number: bhg\n",
      "one or both of the inputs are not integers\n"
     ]
    }
   ],
   "source": [
    "# write a program to input two numbers from the user  and check it's an integer or not using  Try and Except.\n",
    "try:  # try is used execute the code that tries to convert inputs into integres.\n",
    "    num1=int(input(\"Enter the first number: \"))\n",
    "    num2=int(input(\"Enter the second number: \"))\n",
    "    print(\"Both the numbers are integers\")\n",
    "except ValueError:\n",
    "    print(\"one or both of the inputs are not integers\")\n"
   ]
  },
  {
   "cell_type": "code",
   "execution_count": 8,
   "id": "55172e15",
   "metadata": {},
   "outputs": [
    {
     "name": "stdout",
     "output_type": "stream",
     "text": [
      "Please Enter a string to evaluate: Hello chaitanya,this is chaitanya's world\n",
      "Invalid input.Please enter a valid string.\n",
      "Please Enter a string to evaluate: hello krishna\n",
      "Invalid input.Please enter a valid string.\n",
      "Please Enter a string to evaluate: hello chaitanya\n",
      "Invalid input.Please enter a valid string.\n",
      "Please Enter a string to evaluate: 1234\n",
      "The result of evaluating string is:  1234\n"
     ]
    }
   ],
   "source": [
    "# write a program to input  a string from the user evaluate using Try and Except\n",
    "while True:                                         \n",
    "    user_input=input(\"Please Enter a string to evaluate: \")       \n",
    "    try:                               \n",
    "        result=eval(user_input) # eval() allows you to evaluate arbitrary python expressions from a string-based or compiled-code-based input.\n",
    "        print(\"The result of evaluating string is: \",result)\n",
    "        break                                                                                                                   \n",
    "    except:                            \n",
    "        print(\"Invalid input.Please enter a valid string.\")"
   ]
  },
  {
   "cell_type": "code",
   "execution_count": 10,
   "id": "0f14625e",
   "metadata": {},
   "outputs": [
    {
     "name": "stdout",
     "output_type": "stream",
     "text": [
      "Enter the first number: 123\n",
      "Enter the second number: 456\n",
      "Both numbers are integers.\n",
      "The sum of 123 and 456 is 579.\n"
     ]
    }
   ],
   "source": [
    "# write a program to input two number from the user and check its an integer or not using Try and Except,if number are integer\n",
    "# then the print sum of that number using finally block.\n",
    "try:\n",
    "    num1 = int(input(\"Enter the first number: \"))\n",
    "    num2 = int(input(\"Enter the second number: \"))\n",
    "    print(\"Both numbers are integers.\")\n",
    "except ValueError:\n",
    "    print(\"At least one of the numbers is not an integer.\")\n",
    "finally:\n",
    "    if isinstance(num1, int) and isinstance(num2, int):\n",
    "        print(f\"The sum of {num1} and {num2} is {num1 + num2}.\")\n",
    "    else:\n",
    "        print(\"cannot compute  the sum since atleast one of the numbers is not an integer\")"
   ]
  },
  {
   "cell_type": "code",
   "execution_count": 12,
   "id": "dcb19805",
   "metadata": {},
   "outputs": [
    {
     "name": "stdout",
     "output_type": "stream",
     "text": [
      "Enter first number: 879\n",
      "Enter second number: ghy\n",
      "Error: Invalid input! Please enter a valid number.\n"
     ]
    }
   ],
   "source": [
    "# write a program to input two numbers from the user  and handle your exception using else.\n",
    "try:\n",
    "    num1 = float(input(\"Enter first number: \"))\n",
    "    num2 = float(input(\"Enter second number: \"))\n",
    "except ValueError:\n",
    "    print(\"Error: Invalid input! Please enter a valid number.\")\n",
    "else:\n",
    "    result = num1 + num2\n",
    "    print(\"The sum of\", num1, \"and\", num2, \"is\", result)"
   ]
  },
  {
   "cell_type": "code",
   "execution_count": 18,
   "id": "ad8a31af",
   "metadata": {},
   "outputs": [
    {
     "name": "stdout",
     "output_type": "stream",
     "text": [
      "Error: Invalid type used in operation\n",
      "Program complete.\n"
     ]
    }
   ],
   "source": [
    "#write a program to print multiple except block\n",
    "try:\n",
    "    # Some code that might raise an exception\n",
    "    # For example, dividing by zero\n",
    "    result = 1 / str\n",
    "\n",
    "except ZeroDivisionError:\n",
    "    # Handle the ZeroDivisionError exception\n",
    "    print(\"Error: Attempted to divide by zero\")\n",
    "\n",
    "except TypeError:\n",
    "    # Handle the TypeError exception\n",
    "    print(\"Error: Invalid type used in operation\")\n",
    "\n",
    "except Exception as e:\n",
    "    # Handle any other exception that was not caught by the previous except blocks\n",
    "    print(f\"Unexpected error occurred: {e}\")\n",
    "\n",
    "finally:\n",
    "    # Code that should be executed regardless of whether an exception was raised or not\n",
    "    print(\"Program complete.\")"
   ]
  },
  {
   "cell_type": "code",
   "execution_count": null,
   "id": "c9518630",
   "metadata": {},
   "outputs": [],
   "source": []
  },
  {
   "cell_type": "code",
   "execution_count": null,
   "id": "1396ff16",
   "metadata": {},
   "outputs": [],
   "source": []
  },
  {
   "cell_type": "code",
   "execution_count": null,
   "id": "31ae2be0",
   "metadata": {},
   "outputs": [],
   "source": []
  },
  {
   "cell_type": "markdown",
   "id": "4c12a1df",
   "metadata": {},
   "source": [
    "# object oriented programming in python\n",
    "\n",
    "# oops concepts:\n",
    "- class\n",
    "- object\n",
    "- Inheritance\n",
    "- polymorphism\n",
    "- Abstraction\n",
    "- Encapsulation\n",
    "\n",
    "# class:\n",
    "- Python classes provide all the standard features of object oriented programming:the class inheritance allows multiple base classe,a derived class can override any methods of its base class or classes, and a method can call the method of a base class with the same name.\n",
    "\n",
    "# object:\n",
    "- object is one type of inheritance in class i.e.,you cannot access the property of class without an object.\n",
    "\n",
    "# constructor:\n",
    "- constructor means it's a special member function which calls whenever object create of that class.\n",
    "- constructor is defined by(__) underscore.\n",
    "- __init__ function:This function is called constructor in python and is called whenever the object is created in that class."
   ]
  },
  {
   "cell_type": "markdown",
   "id": "ac3bce63",
   "metadata": {},
   "source": [
    "# How to create a class"
   ]
  },
  {
   "cell_type": "code",
   "execution_count": 2,
   "id": "0084b1ba",
   "metadata": {},
   "outputs": [
    {
     "name": "stdout",
     "output_type": "stream",
     "text": [
      "<class '__main__.myclass'>\n"
     ]
    }
   ],
   "source": [
    "class myclass:\n",
    "    x=5 # property of class\n",
    "    \n",
    "print(myclass)      "
   ]
  },
  {
   "cell_type": "markdown",
   "id": "f2c34b5f",
   "metadata": {},
   "source": [
    "# How to create object"
   ]
  },
  {
   "cell_type": "code",
   "execution_count": 3,
   "id": "53a29f0e",
   "metadata": {},
   "outputs": [
    {
     "data": {
      "text/plain": [
       "[1, 2, 3, 4]"
      ]
     },
     "execution_count": 3,
     "metadata": {},
     "output_type": "execute_result"
    }
   ],
   "source": [
    "l1 = [1,2,3,4] \n",
    "l1 "
   ]
  },
  {
   "cell_type": "code",
   "execution_count": 2,
   "id": "82a09fb9",
   "metadata": {},
   "outputs": [
    {
     "name": "stdout",
     "output_type": "stream",
     "text": [
      "5\n"
     ]
    }
   ],
   "source": [
    "class myclass:\n",
    "    x=5 # property of class\n",
    "    \n",
    "# creating object of my class\n",
    "m1=myclass() # m1 is an object of class myclass\n",
    "print(m1.x)  "
   ]
  },
  {
   "cell_type": "markdown",
   "id": "36132d18",
   "metadata": {},
   "source": [
    "# calling a function by object"
   ]
  },
  {
   "cell_type": "code",
   "execution_count": 3,
   "id": "84fd0728",
   "metadata": {},
   "outputs": [
    {
     "name": "stdout",
     "output_type": "stream",
     "text": [
      "Hello my function\n"
     ]
    }
   ],
   "source": [
    "class myclass:\n",
    "    def myfunction(self): # property of class\n",
    "        print(\"Hello my function\")\n",
    "# creating an object\n",
    "m1=myclass()\n",
    "m1.myfunction()       "
   ]
  },
  {
   "cell_type": "markdown",
   "id": "52d9cb11",
   "metadata": {},
   "source": [
    "# How to create constructor"
   ]
  },
  {
   "cell_type": "code",
   "execution_count": 4,
   "id": "b3e168b8",
   "metadata": {},
   "outputs": [
    {
     "name": "stdout",
     "output_type": "stream",
     "text": [
      "This is my constructor\n"
     ]
    }
   ],
   "source": [
    "class myclass:\n",
    "    # creating a constructor\n",
    "    def __init__(self):\n",
    "        print(\"This is my constructor\")\n",
    "        \n",
    "# creating an object\n",
    "m1=myclass()"
   ]
  },
  {
   "cell_type": "markdown",
   "id": "65ceee6a",
   "metadata": {},
   "source": [
    "# change the value of the object"
   ]
  },
  {
   "cell_type": "code",
   "execution_count": 4,
   "id": "296802db",
   "metadata": {},
   "outputs": [
    {
     "name": "stdout",
     "output_type": "stream",
     "text": [
      "Age :  26\n"
     ]
    },
    {
     "ename": "AttributeError",
     "evalue": "'myclass' object has no attribute 'age'",
     "output_type": "error",
     "traceback": [
      "\u001b[1;31m---------------------------------------------------------------------------\u001b[0m",
      "\u001b[1;31mAttributeError\u001b[0m                            Traceback (most recent call last)",
      "\u001b[1;32m~\\AppData\\Local\\Temp\\ipykernel_3840\\3790639812.py\u001b[0m in \u001b[0;36m<module>\u001b[1;34m\u001b[0m\n\u001b[0;32m     18\u001b[0m \u001b[1;31m# # Deleting the object\u001b[0m\u001b[1;33m\u001b[0m\u001b[1;33m\u001b[0m\u001b[0m\n\u001b[0;32m     19\u001b[0m \u001b[1;32mdel\u001b[0m \u001b[0mm1\u001b[0m\u001b[1;33m.\u001b[0m\u001b[0mage\u001b[0m\u001b[1;33m\u001b[0m\u001b[1;33m\u001b[0m\u001b[0m\n\u001b[1;32m---> 20\u001b[1;33m \u001b[0mprint\u001b[0m\u001b[1;33m(\u001b[0m\u001b[1;34m\"Age : \"\u001b[0m\u001b[1;33m,\u001b[0m\u001b[0mm1\u001b[0m\u001b[1;33m.\u001b[0m\u001b[0mage\u001b[0m\u001b[1;33m)\u001b[0m\u001b[1;33m\u001b[0m\u001b[1;33m\u001b[0m\u001b[0m\n\u001b[0m",
      "\u001b[1;31mAttributeError\u001b[0m: 'myclass' object has no attribute 'age'"
     ]
    }
   ],
   "source": [
    "class myclass:\n",
    "    def __init__(self,name,age):\n",
    "        self.name=name\n",
    "        self.age=age\n",
    "    def myfunction(self):\n",
    "        print(\"My Name is :\"+self.name)\n",
    "        print(\"My age:\" + self.age) \n",
    "        \n",
    "# creating an object\n",
    "m1=myclass(\"chaitanya\",25)\n",
    "m1.age\n",
    "m1.name\n",
    "\n",
    "# # change the age using object\n",
    "m1.age=26\n",
    "print(\"Age : \",m1.age)\n",
    "\n",
    "# # Deleting the object\n",
    "del m1.age\n",
    "print(\"Age : \",m1.age)"
   ]
  },
  {
   "cell_type": "markdown",
   "id": "1d0a2135",
   "metadata": {},
   "source": [
    "# Inheritance\n",
    "\n",
    "- python supports inheritance it even supports multiple inheritance.\n",
    "- classes can inherit from other classes.\n",
    "- A class can inherit attributes and behavior methods from another class,called the superclass.\n",
    "- A class which inherits from a superclass is called a subclass,also called heir class or child class.\n",
    "\n",
    "# Types of Inheritance:\n",
    "- single inheritance\n",
    "- Multilevel inheritance\n",
    "- Multiple inheritance\n",
    "- Hierarchical inheritance\n",
    "- Hybrid inheritance\n",
    "\n",
    "# single inheritance:\n",
    "- In single inheritance there is only one parent class and one child class.\n",
    "- In single inheritance only one parent class is inherit into the one child class."
   ]
  },
  {
   "cell_type": "code",
   "execution_count": 9,
   "id": "76ab46ca",
   "metadata": {},
   "outputs": [
    {
     "name": "stdout",
     "output_type": "stream",
     "text": [
      "Parent Class Function Called\n",
      "Child Class Function Called\n"
     ]
    }
   ],
   "source": [
    "# single inheritance\n",
    "class ParentClass: # parent class\n",
    "    def myfunction1(self):\n",
    "        print(\"Parent Class Function Called\")\n",
    "        \n",
    "class ChildClass(ParentClass): # child class which inherits parent class\n",
    "    def myfunction2(self): #child class property\n",
    "        print(\"Child Class Function Called\")\n",
    "        \n",
    "# creating an object of child class\n",
    "c1=ChildClass()\n",
    "c1.myfunction1()\n",
    "c1.myfunction2()"
   ]
  },
  {
   "cell_type": "markdown",
   "id": "561be60e",
   "metadata": {},
   "source": [
    "# Multilevel inheritance:\n",
    "- In mltilevel inheritance there are levels of class.\n",
    "- Parent class-->Sub Parent class-->child class"
   ]
  },
  {
   "cell_type": "code",
   "execution_count": 10,
   "id": "c4f351db",
   "metadata": {},
   "outputs": [
    {
     "name": "stdout",
     "output_type": "stream",
     "text": [
      "Class A function Called\n",
      "Class B funtion Called\n",
      "Class C function called\n"
     ]
    }
   ],
   "source": [
    "class A: #Parent class\n",
    "    def myfunction(self):\n",
    "        print(\"Class A function Called\")\n",
    "class B(A): #sub parent class\n",
    "    def myfunction1(self):\n",
    "        print(\"Class B funtion Called\")\n",
    "class C(B): #child class\n",
    "    def myfunction3(self):\n",
    "        print (\"Class C function called\")\n",
    "        \n",
    "# creating an object of class C  \n",
    "c1=C()\n",
    "c1.myfunction()\n",
    "c1.myfunction1()\n",
    "c1.myfunction3() "
   ]
  },
  {
   "cell_type": "markdown",
   "id": "9b6c7ce9",
   "metadata": {},
   "source": [
    "# Multiple inheritance"
   ]
  },
  {
   "cell_type": "code",
   "execution_count": 30,
   "id": "f2c8f282",
   "metadata": {},
   "outputs": [
    {
     "name": "stdout",
     "output_type": "stream",
     "text": [
      "Class A1 function called\n",
      "Class B1 function called\n"
     ]
    }
   ],
   "source": [
    "class A1: # 1st parent class\n",
    "    def myfunction1(self):\n",
    "        print(\"Class A1 function called\")\n",
    "class B1: #  2nd parent class\n",
    "    def myfunction2(self):\n",
    "        print(\"Class B1 function called\")\n",
    "class C1(A1,B1): # child class\n",
    "    def myfunction3(self):\n",
    "        print(\"Class C1 function called\")\n",
    "        \n",
    "# creating an object of class C\n",
    "c1=C1()\n",
    "c1.myfunction1()\n",
    "c1.myfunction2()"
   ]
  },
  {
   "cell_type": "markdown",
   "id": "530f058d",
   "metadata": {},
   "source": [
    "# Hierarchical inheritance:\n",
    "- when more than one child class is created from a single parent class is called Hierarchical inheriitance.\n",
    "- (parent class having two child class)"
   ]
  },
  {
   "cell_type": "code",
   "execution_count": 6,
   "id": "abae6639",
   "metadata": {},
   "outputs": [
    {
     "name": "stdout",
     "output_type": "stream",
     "text": [
      "Class A1 function called\n",
      "Class A2 function called\n",
      "Class A1 function called\n",
      "Class A3 function called\n"
     ]
    }
   ],
   "source": [
    "class A1: #parent class\n",
    "    def myfunction1(self):\n",
    "        print(\"Class A1 function called\")\n",
    "class A2(A1): # child class\n",
    "    def myfunction2(self):\n",
    "        print(\"Class A2 function called\")\n",
    "class A3(A1):   # child class\n",
    "    def myfunction3(self):                         \n",
    "        print(\"Class A3 function called\")\n",
    "        \n",
    "# creating 2 objects 1 for class A2 and 1 for class A3\n",
    "a2=A2()\n",
    "a3=A3()\n",
    "a2.myfunction1() #Function of class A1\n",
    "a2.myfunction2()#Function of class A2\n",
    "a3.myfunction1() #Function of class A1\n",
    "a3.myfunction3() #Function of class A3                                                                                                        "
   ]
  },
  {
   "cell_type": "markdown",
   "id": "e329d73d",
   "metadata": {},
   "source": [
    "# Hybrid inheritance:\n",
    "- This form combines more than one form of inheritance .Basically it is a blend of more than one type of inheritance.\n",
    "- (parent class having two child class,two child classes having one child class)"
   ]
  },
  {
   "cell_type": "code",
   "execution_count": 20,
   "id": "1ec1ea4a",
   "metadata": {},
   "outputs": [
    {
     "name": "stdout",
     "output_type": "stream",
     "text": [
      "Function of class B1\n",
      "Function of class B2\n",
      "Function of class B3\n",
      "Function of class B4\n"
     ]
    }
   ],
   "source": [
    "class B1: #parent class\n",
    "    def myfunction1(self):\n",
    "        print(\"Function of class B1\")\n",
    "class B2(B1): #child class\n",
    "    def myfunction2(self):\n",
    "        print(\"Function of class B2\")\n",
    "class B3(B1): #child class\n",
    "    def myfunction3(self):\n",
    "        print(\"Function of class B3\")\n",
    "class B4(B2,B3): #child class\n",
    "    def myfunction4(self):\n",
    "        print(\"Function of class B4\")  \n",
    "        \n",
    "# creating an object childclass\n",
    "b=B4()\n",
    "b.myfunction1()\n",
    "b.myfunction2()\n",
    "b.myfunction3()\n",
    "b.myfunction4()"
   ]
  },
  {
   "cell_type": "markdown",
   "id": "3db3805f",
   "metadata": {},
   "source": [
    "# Polymorphism\n",
    "- polymorphism means having many form of same name.\n",
    "- In programming polymorphism means function having same name but different signature.\n",
    "\n",
    "# Types of polymorphism\n",
    "- 1)compile time polymorphism(method overloading)\n",
    "- 2)Run time polymorphism(method overriding)\n",
    "\n",
    "# Method overloading:\n",
    "- Method overloading is the compile time polymorphism.\n",
    "- Method overloading means having same name methods in same class,but different arguments.\n",
    "- In method overloading inheritance is not required."
   ]
  },
  {
   "cell_type": "code",
   "execution_count": 9,
   "id": "fff20618",
   "metadata": {},
   "outputs": [
    {
     "name": "stdout",
     "output_type": "stream",
     "text": [
      "Function with 2 arguments\n"
     ]
    }
   ],
   "source": [
    "class MO:\n",
    "    def myFunction(self): #no arguments\n",
    "        print(\"Function with no arguments\")\n",
    "    def myFunction(self,a): #1 arguments\n",
    "        print(\"Function with 1 arguments\")\n",
    "    def myFunction(self,a,b): # 2 arguments\n",
    "        print(\"Function with 2 arguments\")\n",
    "        \n",
    "#creating an object of class MO\n",
    "m = MO()\n",
    "m.myFunction(10,20) \n",
    "\n",
    "#Note: Method Overloading is not supported in python  because it is a interpreted Language"
   ]
  },
  {
   "cell_type": "markdown",
   "id": "d8cae5bb",
   "metadata": {},
   "source": [
    "# Method overriding\n",
    "- Method overriding is the runtime polymorphism.\n",
    "- Method overriding means having same name methods,but into different class,arguments also same.\n",
    "- In method overriding inheritance is compulsory."
   ]
  },
  {
   "cell_type": "code",
   "execution_count": 33,
   "id": "271e2641",
   "metadata": {},
   "outputs": [
    {
     "name": "stdout",
     "output_type": "stream",
     "text": [
      "Class MO3 function called\n",
      "Class MO2 function called\n",
      "Class MO1 function called\n"
     ]
    }
   ],
   "source": [
    "class MO1: #Parent class\n",
    "    def myFunction(self,a):\n",
    "        print(\"Class MO1 function called\")\n",
    "        \n",
    "class MO2(MO1): # child class\n",
    "    def myFunction(self,a):\n",
    "        print(\"Class MO2 function called\")\n",
    "        # super method calling the method of class MO1\n",
    "        super().myFunction(10)\n",
    "        \n",
    "class MO3(MO2): # child class\n",
    "    def myFunction(self,a):\n",
    "        print(\"Class MO3 function called\") \n",
    "        # super method calling the method of class MO2\n",
    "        super().myFunction(10)\n",
    "        \n",
    "# creating an object of MO3\n",
    "m=MO3() #object of MO3\n",
    "m.myFunction(10)"
   ]
  },
  {
   "cell_type": "markdown",
   "id": "c99ab4c9",
   "metadata": {},
   "source": [
    "# Abstraction:\n",
    "- A class that consists of one or more abstract method is called the abstract class.\n",
    "- Abstract methods do not contain their implementation.\n",
    "- Abstract class can be inherited by the subclass and abstract method gets its definition in the subclass."
   ]
  },
  {
   "cell_type": "code",
   "execution_count": 1,
   "id": "39de62a9",
   "metadata": {},
   "outputs": [
    {
     "name": "stdout",
     "output_type": "stream",
     "text": [
      "SBI interest is 5% \n",
      "HDFC interest is 2%\n"
     ]
    }
   ],
   "source": [
    "class RBI: #Abstarct class\n",
    "    def Interest(self): #Abstract Method\n",
    "        print(\"RBI interset is 6.5%\")\n",
    "class SBI(RBI):  #child class\n",
    "    def Interest(self): #RBI interest implements here\n",
    "        print(\"SBI interest is 5% \")\n",
    "class HDFC(RBI):  #child class\n",
    "    def Interest(self):  # RBI interest implements here\n",
    "        print(\"HDFC interest is 2%\")\n",
    "\n",
    "#Creating an object of class SBI\n",
    "s=SBI()              \n",
    "\n",
    "#Creating an object of class HDFC                                                                      \n",
    "h=HDFC() \n",
    "\n",
    "s.Interest()  #SBI interest method is called\n",
    "h.Interest()  #HDFC interest method is called  "
   ]
  },
  {
   "cell_type": "code",
   "execution_count": 6,
   "id": "a20f5ee4",
   "metadata": {},
   "outputs": [
    {
     "name": "stdout",
     "output_type": "stream",
     "text": [
      "I can bark\n",
      "I can hisss\n"
     ]
    }
   ],
   "source": [
    "class Animal: # Abstract class\n",
    "    def move(self): #Abstarct method\n",
    "        pass\n",
    "class Dog(Animal): #child class\n",
    "    def move(self):  # Class animal implements method here\n",
    "        print(\"I can bark\")\n",
    "class Snake(Animal):\n",
    "    def move(self):\n",
    "        print(\"I can hisss\")\n",
    "        \n",
    "# creating an object of class dog\n",
    "d=Dog()\n",
    "\n",
    "# creating an object of class snake\n",
    "s=Snake()\n",
    "\n",
    "d.move()\n",
    "s.move() "
   ]
  },
  {
   "cell_type": "markdown",
   "id": "f14d9f16",
   "metadata": {},
   "source": [
    "# Encapsulation\n",
    "- The process of wrapping up variables and methods into a single entity is known as Encapsulation.\n",
    "\n",
    "# How to Achieve Encapsulation\n",
    "- _(single underscore)==single underscore stands for protected.\n",
    "- __(double underscore)==Double underscore stands for private."
   ]
  },
  {
   "cell_type": "markdown",
   "id": "f0ac3eb4",
   "metadata": {},
   "source": [
    "# Achieveing Encapsulation by private"
   ]
  },
  {
   "cell_type": "code",
   "execution_count": 11,
   "id": "57748d11",
   "metadata": {},
   "outputs": [
    {
     "ename": "AttributeError",
     "evalue": "'B' object has no attribute '_B__a'",
     "output_type": "error",
     "traceback": [
      "\u001b[1;31m---------------------------------------------------------------------------\u001b[0m",
      "\u001b[1;31mAttributeError\u001b[0m                            Traceback (most recent call last)",
      "\u001b[1;32m~\\AppData\\Local\\Temp\\ipykernel_15216\\1506569966.py\u001b[0m in \u001b[0;36m<module>\u001b[1;34m\u001b[0m\n\u001b[0;32m     13\u001b[0m \u001b[1;33m\u001b[0m\u001b[0m\n\u001b[0;32m     14\u001b[0m \u001b[0mobj\u001b[0m \u001b[1;33m=\u001b[0m \u001b[0mB\u001b[0m\u001b[1;33m(\u001b[0m\u001b[1;34m\"Hello\"\u001b[0m\u001b[1;33m)\u001b[0m\u001b[1;33m\u001b[0m\u001b[1;33m\u001b[0m\u001b[0m\n\u001b[1;32m---> 15\u001b[1;33m \u001b[0mobj\u001b[0m\u001b[1;33m.\u001b[0m\u001b[0mshow1\u001b[0m\u001b[1;33m(\u001b[0m\u001b[1;33m)\u001b[0m\u001b[1;33m\u001b[0m\u001b[1;33m\u001b[0m\u001b[0m\n\u001b[0m",
      "\u001b[1;32m~\\AppData\\Local\\Temp\\ipykernel_15216\\1506569966.py\u001b[0m in \u001b[0;36mshow1\u001b[1;34m(self)\u001b[0m\n\u001b[0;32m      9\u001b[0m         \u001b[0msuper\u001b[0m\u001b[1;33m(\u001b[0m\u001b[1;33m)\u001b[0m\u001b[1;33m.\u001b[0m\u001b[0m__init__\u001b[0m\u001b[1;33m(\u001b[0m\u001b[0mb\u001b[0m\u001b[1;33m)\u001b[0m\u001b[1;33m\u001b[0m\u001b[1;33m\u001b[0m\u001b[0m\n\u001b[0;32m     10\u001b[0m     \u001b[1;32mdef\u001b[0m \u001b[0mshow1\u001b[0m\u001b[1;33m(\u001b[0m\u001b[0mself\u001b[0m\u001b[1;33m)\u001b[0m\u001b[1;33m:\u001b[0m\u001b[1;33m\u001b[0m\u001b[1;33m\u001b[0m\u001b[0m\n\u001b[1;32m---> 11\u001b[1;33m         \u001b[0mprint\u001b[0m\u001b[1;33m(\u001b[0m\u001b[0mself\u001b[0m\u001b[1;33m.\u001b[0m\u001b[0m__a\u001b[0m\u001b[1;33m)\u001b[0m\u001b[1;33m\u001b[0m\u001b[1;33m\u001b[0m\u001b[0m\n\u001b[0m\u001b[0;32m     12\u001b[0m \u001b[1;31m# creating an object of class B\u001b[0m\u001b[1;33m\u001b[0m\u001b[1;33m\u001b[0m\u001b[0m\n\u001b[0;32m     13\u001b[0m \u001b[1;33m\u001b[0m\u001b[0m\n",
      "\u001b[1;31mAttributeError\u001b[0m: 'B' object has no attribute '_B__a'"
     ]
    }
   ],
   "source": [
    "class A: #parent class\n",
    "    def __init__(self,a):\n",
    "        self.__a=a # the variable is a private variable\n",
    "    def show(self):\n",
    "        #printing a private using function\n",
    "        print(\"Private variable : \",self._a)\n",
    "class B(A): #child class\n",
    "    def __init__(self,b):\n",
    "        super().__init__(b)\n",
    "    def show1(self):\n",
    "        print(self.__a)\n",
    "# creating an object of class B\n",
    "\n",
    "obj = B(\"Hello\")\n",
    "obj.show1()  "
   ]
  },
  {
   "cell_type": "code",
   "execution_count": 13,
   "id": "fe7386c0",
   "metadata": {},
   "outputs": [
    {
     "name": "stdout",
     "output_type": "stream",
     "text": [
      "20\n"
     ]
    }
   ],
   "source": [
    "class A: # parent class\n",
    "    def __init__(self, a):\n",
    "        self.__a = a # the variable is a private variable\n",
    "    def show(self):\n",
    "        # printing a private using function\n",
    "        print(\"Private variable:\", self.__a)\n",
    "\n",
    "class B(A): # child class \n",
    "    def __init__(self, b):\n",
    "        super().__init__(b)\n",
    "    def show1(self):\n",
    "        print(self._A__a) # accessing private variable of A\n",
    "\n",
    "# creating an object of class B\n",
    "obj = B(20) \n",
    "obj.show1()     "
   ]
  },
  {
   "cell_type": "code",
   "execution_count": 14,
   "id": "3e0ba85d",
   "metadata": {},
   "outputs": [
    {
     "name": "stdout",
     "output_type": "stream",
     "text": [
      "Variable Value :  20\n"
     ]
    }
   ],
   "source": [
    "class A: #parent class\n",
    "    def __init__(self,a):\n",
    "        self._a = a #this variable is a protected variable\n",
    "    def show(self):\n",
    "        print(\"protected variable : \",self._a)\n",
    "        \n",
    "class B(A): #child class\n",
    "    def __init__(self,b):\n",
    "        super().__init__(b)\n",
    "\n",
    "    def show(self):\n",
    "        print(\"Variable Value : \",self._a)\n",
    "        \n",
    "# creating an object of class B\n",
    "obj = B(20)\n",
    "obj.show()"
   ]
  },
  {
   "cell_type": "markdown",
   "id": "b77324ab",
   "metadata": {},
   "source": [
    "# Achieveing Encapsulation by protected"
   ]
  },
  {
   "cell_type": "code",
   "execution_count": 4,
   "id": "e20360f3",
   "metadata": {},
   "outputs": [
    {
     "name": "stdout",
     "output_type": "stream",
     "text": [
      "Variable Value :  20\n"
     ]
    }
   ],
   "source": [
    "class A: #parent class\n",
    "    def __init__(self,a):\n",
    "        self.__a=a #this variable is a protected variable\n",
    "    def show(self):\n",
    "        print(\"protected variable : \",self._a)\n",
    "        \n",
    "class B(A): #child class\n",
    "    def __init__(self,b):\n",
    "        super().__init__(b)\n",
    "    def showB(self):\n",
    "        print(\"Variable Value : \",self.__a)\n",
    "        \n",
    "# creating an object of class B\n",
    "\n",
    "obj=B(20)\n",
    "obj.showB()"
   ]
  },
  {
   "cell_type": "markdown",
   "id": "f4e1ddb5",
   "metadata": {},
   "source": [
    "# ASSIGNMENT"
   ]
  },
  {
   "cell_type": "code",
   "execution_count": 24,
   "id": "649034d8",
   "metadata": {},
   "outputs": [
    {
     "name": "stdout",
     "output_type": "stream",
     "text": [
      "Hyndai i10 is starting\n",
      "The vehicle is stopping\n"
     ]
    }
   ],
   "source": [
    "# create class Vehicle class and call the method of a class.\n",
    "class Vehicle:\n",
    "    def __init__(self,name,model,year):\n",
    "        self.name=name\n",
    "        self.model=model\n",
    "        self.year=year\n",
    "    def start(self):\n",
    "        print(self.name,\"is starting\")\n",
    "    def stop(self):\n",
    "        print(\"The vehicle is stopping\")\n",
    "        \n",
    "v1=Vehicle(\"Hyndai i10\",\"Aura\",2022)\n",
    "v1.start()\n",
    "v1.stop()"
   ]
  },
  {
   "cell_type": "code",
   "execution_count": 25,
   "id": "8644a409",
   "metadata": {},
   "outputs": [],
   "source": [
    "# create Vehicle class and create one method without any body.\n",
    "class Vehicle:\n",
    "    def start_engine(self):\n",
    "        pass"
   ]
  },
  {
   "cell_type": "code",
   "execution_count": 32,
   "id": "e9685dac",
   "metadata": {},
   "outputs": [
    {
     "name": "stdout",
     "output_type": "stream",
     "text": [
      "Starting the engine with keyless entry...\n"
     ]
    },
    {
     "ename": "NameError",
     "evalue": "name 'my_car' is not defined",
     "output_type": "error",
     "traceback": [
      "\u001b[1;31m---------------------------------------------------------------------------\u001b[0m",
      "\u001b[1;31mNameError\u001b[0m                                 Traceback (most recent call last)",
      "\u001b[1;32m~\\AppData\\Local\\Temp\\ipykernel_13496\\2339952445.py\u001b[0m in \u001b[0;36m<module>\u001b[1;34m\u001b[0m\n\u001b[0;32m     17\u001b[0m \u001b[0mm1\u001b[0m \u001b[1;33m=\u001b[0m \u001b[0mVehicle\u001b[0m\u001b[1;33m(\u001b[0m\u001b[1;34m\"Toyota\"\u001b[0m\u001b[1;33m,\u001b[0m \u001b[1;34m\"Corolla\"\u001b[0m\u001b[1;33m,\u001b[0m \u001b[1;36m2021\u001b[0m\u001b[1;33m)\u001b[0m\u001b[1;33m\u001b[0m\u001b[1;33m\u001b[0m\u001b[0m\n\u001b[0;32m     18\u001b[0m \u001b[0mm1\u001b[0m\u001b[1;33m.\u001b[0m\u001b[0mstart_engine\u001b[0m\u001b[1;33m(\u001b[0m\u001b[1;34m\"key\"\u001b[0m\u001b[1;33m)\u001b[0m\u001b[1;33m\u001b[0m\u001b[1;33m\u001b[0m\u001b[0m\n\u001b[1;32m---> 19\u001b[1;33m \u001b[0mmy_car\u001b[0m\u001b[1;33m.\u001b[0m\u001b[0mstart_engine\u001b[0m\u001b[1;33m(\u001b[0m\u001b[1;32mTrue\u001b[0m\u001b[1;33m)\u001b[0m\u001b[1;33m\u001b[0m\u001b[1;33m\u001b[0m\u001b[0m\n\u001b[0m\u001b[0;32m     20\u001b[0m \u001b[0mmy_car\u001b[0m\u001b[1;33m.\u001b[0m\u001b[0mstart_engine\u001b[0m\u001b[1;33m(\u001b[0m\u001b[1;32mFalse\u001b[0m\u001b[1;33m)\u001b[0m\u001b[1;33m\u001b[0m\u001b[1;33m\u001b[0m\u001b[0m\n",
      "\u001b[1;31mNameError\u001b[0m: name 'my_car' is not defined"
     ]
    }
   ],
   "source": [
    "# create class vehicle class and perform method overloading in class.\n",
    "class Vehicle:\n",
    "    def __init__(self, make, model, year):\n",
    "        self.make = make\n",
    "        self.model = model\n",
    "        self.year = year\n",
    "\n",
    "    def start_engine(self):\n",
    "        print(\"Starting the engine...\")\n",
    "\n",
    "    def start_engine(self, keyless_entry):\n",
    "        if keyless_entry:\n",
    "            print(\"Starting the engine with keyless entry...\")\n",
    "        else:\n",
    "            print(\"Starting the engine with a key...\")\n",
    "            \n",
    "m1 = Vehicle(\"Toyota\", \"Corolla\", 2021)\n",
    "m1.start_engine(\"key\")\n",
    "my_car.start_engine(True)  \n",
    "my_car.start_engine(False)            "
   ]
  },
  {
   "cell_type": "code",
   "execution_count": 36,
   "id": "7ad9ea20",
   "metadata": {},
   "outputs": [
    {
     "name": "stdout",
     "output_type": "stream",
     "text": [
      "Vehicle Name: School Bus speed: 180 Mileage: 12\n"
     ]
    }
   ],
   "source": [
    "# create child class bus that will be inherit all of the methods of the vehicle class.\n",
    "class Vehicle:\n",
    "    def __init__(self,name,speed,mileage):\n",
    "        self.name=name\n",
    "        self.speed=speed\n",
    "        self.mileage=mileage\n",
    "        \n",
    "    def display_info(self):\n",
    "        print(f\"Vehicle Name: {self.name} speed: {self.speed} Mileage: {self.mileage}\")\n",
    "        \n",
    "class Bus(Vehicle):\n",
    "    def __init__(self,name,speed,mileage):\n",
    "        super().__init__(name,speed,mileage)\n",
    "        \n",
    "my_bus=Bus(\"School Bus\",180,12)\n",
    "my_bus.display_info() "
   ]
  },
  {
   "cell_type": "code",
   "execution_count": 37,
   "id": "a3d84832",
   "metadata": {},
   "outputs": [
    {
     "name": "stdout",
     "output_type": "stream",
     "text": [
      "Hundai Aura engine is starting...\n",
      "Hundai Aura is accelerating to 30 mph.\n",
      "Hundai Aura is braking to 20 mph.\n",
      "Hundai Aura engine is stopping...\n"
     ]
    }
   ],
   "source": [
    "# create a vehicle class and create method of the class and same are integrate with another class.\n",
    "class Vehicle:\n",
    "    def __init__(self, make, model, year, color):\n",
    "        self.make = make\n",
    "        self.model = model\n",
    "        self.year = year\n",
    "        self.color = color\n",
    "        self.speed = 0\n",
    "        self.is_running = False\n",
    "    \n",
    "    def start_engine(self):\n",
    "        if not self.is_running:\n",
    "            print(f\"{self.make} {self.model} engine is starting...\")\n",
    "            self.is_running = True\n",
    "        else:\n",
    "            print(f\"{self.make} {self.model} engine is already running.\")\n",
    "    \n",
    "    def stop_engine(self):\n",
    "        if self.is_running:\n",
    "            print(f\"{self.make} {self.model} engine is stopping...\")\n",
    "            self.is_running = False\n",
    "            self.speed = 0\n",
    "        else:\n",
    "            print(f\"{self.make} {self.model} engine is already stopped.\")\n",
    "    \n",
    "    def accelerate(self, mph):\n",
    "        if self.is_running:\n",
    "            self.speed += mph\n",
    "            print(f\"{self.make} {self.model} is accelerating to {self.speed} mph.\")\n",
    "        else:\n",
    "            print(f\"{self.make} {self.model} engine is not running.\")\n",
    "    \n",
    "    def brake(self, mph):\n",
    "        if self.is_running:\n",
    "            if self.speed >= mph:\n",
    "                self.speed -= mph\n",
    "                print(f\"{self.make} {self.model} is braking to {self.speed} mph.\")\n",
    "            else:\n",
    "                self.speed = 0\n",
    "                print(f\"{self.make} {self.model} has stopped.\")\n",
    "        else:\n",
    "            print(f\"{self.make} {self.model} engine is not running.\")\n",
    "\n",
    "\n",
    "class Driver:\n",
    "    def __init__(self, name, age, vehicle):\n",
    "        self.name = name\n",
    "        self.age = age\n",
    "        self.vehicle = vehicle\n",
    "    \n",
    "    def drive(self):\n",
    "        self.vehicle.start_engine()\n",
    "        self.vehicle.accelerate(30)\n",
    "        self.vehicle.brake(10)\n",
    "        self.vehicle.stop_engine()\n",
    "my_vehicle = Vehicle(\"Hundai\", \"Aura\", 2022, \"magneta\")\n",
    "my_driver = Driver(\"vasundhara\", 25, my_vehicle)\n",
    "\n",
    "my_driver.drive()        "
   ]
  },
  {
   "cell_type": "code",
   "execution_count": 1,
   "id": "31dd591e",
   "metadata": {},
   "outputs": [
    {
     "name": "stdout",
     "output_type": "stream",
     "text": [
      "The original tuple 1: (10, 4, 5, 6)\n",
      "The original tuple 2: (5, 6, 7, 5)\n",
      "The modulus tuple: (0, 4, 5, 1)\n"
     ]
    }
   ],
   "source": [
    "tup1 = (10, 4, 5, 6)\n",
    "tup2 = (5, 6, 7, 5)\n",
    "\n",
    "print(\"The original tuple 1:\", tup1)\n",
    "print(\"The original tuple 2:\", tup2)\n",
    "\n",
    "res = tuple(tup1[i] % tup2[i] for i in range(len(tup1)))\n",
    "print(\"The modulus tuple:\", res)\n"
   ]
  },
  {
   "cell_type": "code",
   "execution_count": 2,
   "id": "fb4da871",
   "metadata": {},
   "outputs": [
    {
     "name": "stdout",
     "output_type": "stream",
     "text": [
      "The original tuple 1: (10, 4, 5, 6)\n",
      "The original tuple 2: (5, 6, 7, 5)\n",
      "The modulo tuple: (0, 4, 5, 1)\n"
     ]
    }
   ],
   "source": [
    "tup1 = (10, 4, 5, 6)\n",
    "tup2 = (5, 6, 7, 5)\n",
    "\n",
    "print(\"The original tuple 1:\", tup1)\n",
    "print(\"The original tuple 2:\", tup2)\n",
    "\n",
    "res = []\n",
    "for i in range(len(tup1)):\n",
    "    res.append(tup1[i] % tup2[i])\n",
    "\n",
    "res = tuple(res)\n",
    "print(\"The modulo tuple:\", res)\n"
   ]
  },
  {
   "cell_type": "code",
   "execution_count": null,
   "id": "8284d7d8",
   "metadata": {},
   "outputs": [],
   "source": []
  }
 ],
 "metadata": {
  "kernelspec": {
   "display_name": "Python 3 (ipykernel)",
   "language": "python",
   "name": "python3"
  },
  "language_info": {
   "codemirror_mode": {
    "name": "ipython",
    "version": 3
   },
   "file_extension": ".py",
   "mimetype": "text/x-python",
   "name": "python",
   "nbconvert_exporter": "python",
   "pygments_lexer": "ipython3",
   "version": "3.9.13"
  }
 },
 "nbformat": 4,
 "nbformat_minor": 5
}
