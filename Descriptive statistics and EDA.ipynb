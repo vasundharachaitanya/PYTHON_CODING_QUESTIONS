{
 "cells": [
  {
   "cell_type": "code",
   "execution_count": 1,
   "id": "596b00ee",
   "metadata": {},
   "outputs": [],
   "source": [
    "import numpy as np\n",
    "import pandas as pd\n",
    "import matplotlib.pyplot as plt\n",
    "import seaborn as sns"
   ]
  },
  {
   "cell_type": "markdown",
   "id": "da50aab0",
   "metadata": {},
   "source": [
    "## Central Tendency :"
   ]
  },
  {
   "cell_type": "code",
   "execution_count": 4,
   "id": "4c970421",
   "metadata": {},
   "outputs": [
    {
     "data": {
      "text/plain": [
       "array([ 505711, 1684405, 2415104, 1163395, 2449467, 2656935, 3649865,\n",
       "       2419731, 1859157, 2745394])"
      ]
     },
     "execution_count": 4,
     "metadata": {},
     "output_type": "execute_result"
    }
   ],
   "source": [
    "np.random.seed(0)\n",
    "salary=np.random.randint(200000,4000000,size=10)\n",
    "salary"
   ]
  },
  {
   "cell_type": "code",
   "execution_count": 7,
   "id": "a069c629",
   "metadata": {},
   "outputs": [
    {
     "data": {
      "text/plain": [
       "array([97708, 25192, 70057, 93349, 41440, 40609, 69100, 27751, 63757,\n",
       "       51228])"
      ]
     },
     "execution_count": 7,
     "metadata": {},
     "output_type": "execute_result"
    }
   ],
   "source": [
    "np.random.seed(1)\n",
    "pc=np.random.randint(20000,100000,size=10)\n",
    "pc"
   ]
  },
  {
   "cell_type": "markdown",
   "id": "4a703aed",
   "metadata": {},
   "source": [
    "## Mean :"
   ]
  },
  {
   "cell_type": "code",
   "execution_count": 8,
   "id": "dda9d301",
   "metadata": {},
   "outputs": [
    {
     "data": {
      "text/plain": [
       "2154916.4"
      ]
     },
     "execution_count": 8,
     "metadata": {},
     "output_type": "execute_result"
    }
   ],
   "source": [
    "np.mean(salary)"
   ]
  },
  {
   "cell_type": "markdown",
   "id": "dacabdd6",
   "metadata": {},
   "source": [
    "## Median :"
   ]
  },
  {
   "cell_type": "code",
   "execution_count": 9,
   "id": "2416b4be",
   "metadata": {},
   "outputs": [
    {
     "data": {
      "text/plain": [
       "2417417.5"
      ]
     },
     "execution_count": 9,
     "metadata": {},
     "output_type": "execute_result"
    }
   ],
   "source": [
    "np.median(salary)"
   ]
  },
  {
   "cell_type": "markdown",
   "id": "8fdfb43c",
   "metadata": {},
   "source": [
    "## Mode :"
   ]
  },
  {
   "cell_type": "code",
   "execution_count": 13,
   "id": "4e342e6d",
   "metadata": {},
   "outputs": [
    {
     "data": {
      "text/plain": [
       "array([29, 25, 28, 28, 28, 26, 28, 27, 29, 25, 25, 29, 27, 26, 25, 26, 26,\n",
       "       25, 26, 29, 28, 25, 28, 25, 27, 28, 25, 26, 28, 28, 28, 25, 26, 26,\n",
       "       26, 25, 27, 29, 28, 28, 27, 29, 27, 25, 25, 29, 25, 29, 26, 29])"
      ]
     },
     "execution_count": 13,
     "metadata": {},
     "output_type": "execute_result"
    }
   ],
   "source": [
    "np.random.seed(0)\n",
    "age=np.random.randint(25,30,size=50)\n",
    "age"
   ]
  },
  {
   "cell_type": "code",
   "execution_count": 14,
   "id": "48e47c5c",
   "metadata": {},
   "outputs": [
    {
     "data": {
      "text/plain": [
       "25    13\n",
       "28    12\n",
       "26    10\n",
       "29     9\n",
       "27     6\n",
       "dtype: int64"
      ]
     },
     "execution_count": 14,
     "metadata": {},
     "output_type": "execute_result"
    }
   ],
   "source": [
    "pd.Series(age).value_counts()"
   ]
  },
  {
   "cell_type": "markdown",
   "id": "6e75337a",
   "metadata": {},
   "source": [
    "## Measures of Spread :"
   ]
  },
  {
   "cell_type": "markdown",
   "id": "27939d4b",
   "metadata": {},
   "source": [
    "### Skewness :"
   ]
  },
  {
   "cell_type": "code",
   "execution_count": 46,
   "id": "9ea7229e",
   "metadata": {},
   "outputs": [
    {
     "name": "stderr",
     "output_type": "stream",
     "text": [
      "C:\\Users\\sss\\anaconda3\\lib\\site-packages\\seaborn\\distributions.py:2619: FutureWarning: `distplot` is a deprecated function and will be removed in a future version. Please adapt your code to use either `displot` (a figure-level function with similar flexibility) or `histplot` (an axes-level function for histograms).\n",
      "  warnings.warn(msg, FutureWarning)\n"
     ]
    },
    {
     "data": {
      "image/png": "[encoded data removed]",
      "text/plain": [
       "<Figure size 432x288 with 1 Axes>"
      ]
     },
     "metadata": {
      "needs_background": "light"
     },
     "output_type": "display_data"
    }
   ],
   "source": [
    "sns.distplot(tips.total_bill)\n",
    "plt.show()"
   ]
  },
  {
   "cell_type": "code",
   "execution_count": 47,
   "id": "326135de",
   "metadata": {},
   "outputs": [
    {
     "data": {
      "image/png": "[encoded data removed]",
      "text/plain": [
       "<Figure size 432x288 with 1 Axes>"
      ]
     },
     "metadata": {
      "needs_background": "light"
     },
     "output_type": "display_data"
    }
   ],
   "source": [
    "sns.kdeplot(tips.total_bill)\n",
    "plt.axvline(tips.total_bill.mean(),color='red')\n",
    "plt.axvline(tips.total_bill.median(),color='green')\n",
    "plt.show()"
   ]
  },
  {
   "cell_type": "markdown",
   "id": "8b5422df",
   "metadata": {},
   "source": [
    "### Kurtosis :"
   ]
  },
  {
   "cell_type": "code",
   "execution_count": 48,
   "id": "d8f36bb3",
   "metadata": {},
   "outputs": [
    {
     "name": "stderr",
     "output_type": "stream",
     "text": [
      "C:\\Users\\sss\\AppData\\Local\\Temp\\ipykernel_732\\2904470519.py:1: FutureWarning: Dropping of nuisance columns in DataFrame reductions (with 'numeric_only=None') is deprecated; in a future version this will raise TypeError.  Select only valid columns before calling the reduction.\n",
      "  tips.kurt()\n"
     ]
    },
    {
     "data": {
      "text/plain": [
       "total_bill    1.218484\n",
       "tip           3.648376\n",
       "size          1.731700\n",
       "dtype: float64"
      ]
     },
     "execution_count": 48,
     "metadata": {},
     "output_type": "execute_result"
    }
   ],
   "source": [
    "tips.kurt()"
   ]
  },
  {
   "cell_type": "code",
   "execution_count": 49,
   "id": "baf222a7",
   "metadata": {},
   "outputs": [
    {
     "data": {
      "image/png": "[encoded data removed]",
      "text/plain": [
       "<Figure size 432x288 with 1 Axes>"
      ]
     },
     "metadata": {
      "needs_background": "light"
     },
     "output_type": "display_data"
    }
   ],
   "source": [
    "sns.kdeplot(tips.tip)     # Orange curve\n",
    "sns.kdeplot(tips.total_bill) # Blue curve\n",
    "plt.show()"
   ]
  },
  {
   "cell_type": "markdown",
   "id": "8fb00218",
   "metadata": {},
   "source": [
    "### Range :"
   ]
  },
  {
   "cell_type": "code",
   "execution_count": 15,
   "id": "d29a8fc3",
   "metadata": {},
   "outputs": [
    {
     "data": {
      "text/plain": [
       "29"
      ]
     },
     "execution_count": 15,
     "metadata": {},
     "output_type": "execute_result"
    }
   ],
   "source": [
    "np.max(age)"
   ]
  },
  {
   "cell_type": "code",
   "execution_count": 16,
   "id": "244659e0",
   "metadata": {},
   "outputs": [
    {
     "data": {
      "text/plain": [
       "25"
      ]
     },
     "execution_count": 16,
     "metadata": {},
     "output_type": "execute_result"
    }
   ],
   "source": [
    "np.min(age)"
   ]
  },
  {
   "cell_type": "code",
   "execution_count": 17,
   "id": "794968ff",
   "metadata": {},
   "outputs": [
    {
     "data": {
      "text/plain": [
       "4"
      ]
     },
     "execution_count": 17,
     "metadata": {},
     "output_type": "execute_result"
    }
   ],
   "source": [
    "np.max(age)-np.min(age)"
   ]
  },
  {
   "cell_type": "code",
   "execution_count": 18,
   "id": "6203a6b4",
   "metadata": {},
   "outputs": [
    {
     "data": {
      "text/plain": [
       "3144154"
      ]
     },
     "execution_count": 18,
     "metadata": {},
     "output_type": "execute_result"
    }
   ],
   "source": [
    "np.max(salary)-np.min(salary)"
   ]
  },
  {
   "cell_type": "markdown",
   "id": "148c50ca",
   "metadata": {},
   "source": [
    "## IQR :"
   ]
  },
  {
   "cell_type": "code",
   "execution_count": 19,
   "id": "7406b56b",
   "metadata": {},
   "outputs": [
    {
     "name": "stdout",
     "output_type": "stream",
     "text": [
      "25.25 27.0 28.0 2.75\n"
     ]
    }
   ],
   "source": [
    "# First Quartile :\n",
    "Q1=np.percentile(age,25)\n",
    "\n",
    "# Second Quartile :\n",
    "Q2=np.percentile(age,50)\n",
    "\n",
    "# Third Quartile :\n",
    "Q3=np.percentile(age,75)\n",
    "\n",
    "# IQR:\n",
    "iqr=Q3-Q1\n",
    "print(Q1,Q2,Q3,iqr)"
   ]
  },
  {
   "cell_type": "markdown",
   "id": "0214d9ed",
   "metadata": {},
   "source": [
    "## Percentile vs Percentage :"
   ]
  },
  {
   "cell_type": "markdown",
   "id": "5bcb82a6",
   "metadata": {},
   "source": [
    "### Exam for 400 marks.Exam was written by 800 students \n",
    "- #### (Q) Person A got 370 marks and his rank is 40. Calculate percentage and percentile\n",
    "       sol :  Percentage = 370/400*100=92.5%\n",
    "             Percentile = 760/800*100=95"
   ]
  },
  {
   "cell_type": "markdown",
   "id": "4df9a6a6",
   "metadata": {},
   "source": [
    "- #### (Q)  Person A got 360 marks and his rank is 80. Calculate percentage and percentile\n",
    "       sol : Percentage= 360/400*100=90\n",
    "            Percentile = 720/800*100=90"
   ]
  },
  {
   "cell_type": "code",
   "execution_count": 23,
   "id": "d05a9182",
   "metadata": {},
   "outputs": [],
   "source": [
    "tips=sns.load_dataset('tips')"
   ]
  },
  {
   "cell_type": "code",
   "execution_count": 24,
   "id": "e5e09908",
   "metadata": {},
   "outputs": [
    {
     "data": {
      "text/html": [
       "<div>\n",
       "<style scoped>\n",
       "    .dataframe tbody tr th:only-of-type {\n",
       "        vertical-align: middle;\n",
       "    }\n",
       "\n",
       "    .dataframe tbody tr th {\n",
       "        vertical-align: top;\n",
       "    }\n",
       "\n",
       "    .dataframe thead th {\n",
       "        text-align: right;\n",
       "    }\n",
       "</style>\n",
       "<table border=\"1\" class=\"dataframe\">\n",
       "  <thead>\n",
       "    <tr style=\"text-align: right;\">\n",
       "      <th></th>\n",
       "      <th>total_bill</th>\n",
       "      <th>tip</th>\n",
       "      <th>sex</th>\n",
       "      <th>smoker</th>\n",
       "      <th>day</th>\n",
       "      <th>time</th>\n",
       "      <th>size</th>\n",
       "    </tr>\n",
       "  </thead>\n",
       "  <tbody>\n",
       "    <tr>\n",
       "      <th>0</th>\n",
       "      <td>16.99</td>\n",
       "      <td>1.01</td>\n",
       "      <td>Female</td>\n",
       "      <td>No</td>\n",
       "      <td>Sun</td>\n",
       "      <td>Dinner</td>\n",
       "      <td>2</td>\n",
       "    </tr>\n",
       "    <tr>\n",
       "      <th>1</th>\n",
       "      <td>10.34</td>\n",
       "      <td>1.66</td>\n",
       "      <td>Male</td>\n",
       "      <td>No</td>\n",
       "      <td>Sun</td>\n",
       "      <td>Dinner</td>\n",
       "      <td>3</td>\n",
       "    </tr>\n",
       "    <tr>\n",
       "      <th>2</th>\n",
       "      <td>21.01</td>\n",
       "      <td>3.50</td>\n",
       "      <td>Male</td>\n",
       "      <td>No</td>\n",
       "      <td>Sun</td>\n",
       "      <td>Dinner</td>\n",
       "      <td>3</td>\n",
       "    </tr>\n",
       "    <tr>\n",
       "      <th>3</th>\n",
       "      <td>23.68</td>\n",
       "      <td>3.31</td>\n",
       "      <td>Male</td>\n",
       "      <td>No</td>\n",
       "      <td>Sun</td>\n",
       "      <td>Dinner</td>\n",
       "      <td>2</td>\n",
       "    </tr>\n",
       "    <tr>\n",
       "      <th>4</th>\n",
       "      <td>24.59</td>\n",
       "      <td>3.61</td>\n",
       "      <td>Female</td>\n",
       "      <td>No</td>\n",
       "      <td>Sun</td>\n",
       "      <td>Dinner</td>\n",
       "      <td>4</td>\n",
       "    </tr>\n",
       "  </tbody>\n",
       "</table>\n",
       "</div>"
      ],
      "text/plain": [
       "   total_bill   tip     sex smoker  day    time  size\n",
       "0       16.99  1.01  Female     No  Sun  Dinner     2\n",
       "1       10.34  1.66    Male     No  Sun  Dinner     3\n",
       "2       21.01  3.50    Male     No  Sun  Dinner     3\n",
       "3       23.68  3.31    Male     No  Sun  Dinner     2\n",
       "4       24.59  3.61  Female     No  Sun  Dinner     4"
      ]
     },
     "execution_count": 24,
     "metadata": {},
     "output_type": "execute_result"
    }
   ],
   "source": [
    "tips.head()"
   ]
  },
  {
   "cell_type": "code",
   "execution_count": 26,
   "id": "475956f5",
   "metadata": {},
   "outputs": [
    {
     "name": "stdout",
     "output_type": "stream",
     "text": [
      "13.3475 17.795 24.127499999999998 10.779999999999998\n"
     ]
    }
   ],
   "source": [
    "Q1 = np.percentile(tips.total_bill,25)\n",
    "Q2 = np.percentile(tips.total_bill,50)\n",
    "Q3 = np.percentile(tips.total_bill,75)\n",
    "IQR=Q3-Q1\n",
    "print(Q1,Q2,Q3,IQR)"
   ]
  },
  {
   "cell_type": "code",
   "execution_count": 27,
   "id": "f1cde465",
   "metadata": {},
   "outputs": [
    {
     "name": "stdout",
     "output_type": "stream",
     "text": [
      "40.29749999999999 -2.8224999999999945\n"
     ]
    }
   ],
   "source": [
    "UL=Q3+1.5*IQR\n",
    "LL=Q1-1.5*IQR\n",
    "print(UL,LL)"
   ]
  },
  {
   "cell_type": "code",
   "execution_count": 28,
   "id": "33c554a2",
   "metadata": {},
   "outputs": [
    {
     "name": "stderr",
     "output_type": "stream",
     "text": [
      "C:\\Users\\sss\\AppData\\Local\\Temp\\ipykernel_732\\2925926389.py:1: FutureWarning: Dropping of nuisance columns in DataFrame reductions (with 'numeric_only=None') is deprecated; in a future version this will raise TypeError.  Select only valid columns before calling the reduction.\n",
      "  tips[tips.total_bill<UL].max()\n"
     ]
    },
    {
     "data": {
      "text/plain": [
       "total_bill    40.17\n",
       "tip            7.58\n",
       "size           6.00\n",
       "dtype: float64"
      ]
     },
     "execution_count": 28,
     "metadata": {},
     "output_type": "execute_result"
    }
   ],
   "source": [
    "tips[tips.total_bill<UL].max()"
   ]
  },
  {
   "cell_type": "code",
   "execution_count": 29,
   "id": "a01f2789",
   "metadata": {},
   "outputs": [
    {
     "name": "stderr",
     "output_type": "stream",
     "text": [
      "C:\\Users\\sss\\AppData\\Local\\Temp\\ipykernel_732\\4132722356.py:1: FutureWarning: Dropping of nuisance columns in DataFrame reductions (with 'numeric_only=None') is deprecated; in a future version this will raise TypeError.  Select only valid columns before calling the reduction.\n",
      "  tips[tips.total_bill>LL].min()\n"
     ]
    },
    {
     "data": {
      "text/plain": [
       "total_bill    3.07\n",
       "tip           1.00\n",
       "size          1.00\n",
       "dtype: float64"
      ]
     },
     "execution_count": 29,
     "metadata": {},
     "output_type": "execute_result"
    }
   ],
   "source": [
    "tips[tips.total_bill>LL].min()"
   ]
  },
  {
   "cell_type": "code",
   "execution_count": 30,
   "id": "a84573af",
   "metadata": {},
   "outputs": [
    {
     "name": "stderr",
     "output_type": "stream",
     "text": [
      "C:\\Users\\sss\\anaconda3\\lib\\site-packages\\seaborn\\_decorators.py:36: FutureWarning: Pass the following variable as a keyword arg: x. From version 0.12, the only valid positional argument will be `data`, and passing other arguments without an explicit keyword will result in an error or misinterpretation.\n",
      "  warnings.warn(\n"
     ]
    },
    {
     "data": {
      "image/png": "[encoded data removed]",
      "text/plain": [
       "<Figure size 432x288 with 1 Axes>"
      ]
     },
     "metadata": {
      "needs_background": "light"
     },
     "output_type": "display_data"
    }
   ],
   "source": [
    "sns.boxplot(tips.total_bill)\n",
    "plt.axvline(UL,color='red')\n",
    "plt.axvline(LL,color='red')\n",
    "plt.axvline(40.17)\n",
    "plt.axvline(3.07)\n",
    "plt.show()"
   ]
  },
  {
   "cell_type": "markdown",
   "id": "d0ea6510",
   "metadata": {},
   "source": [
    "### Example :"
   ]
  },
  {
   "cell_type": "code",
   "execution_count": 34,
   "id": "32b7bb7b",
   "metadata": {},
   "outputs": [
    {
     "name": "stdout",
     "output_type": "stream",
     "text": [
      "2.0 2.9 3.5625 1.5625\n"
     ]
    }
   ],
   "source": [
    "Q1 = np.percentile(tips.tip,25)\n",
    "Q2 = np.percentile(tips.tip,50)\n",
    "Q3 = np.percentile(tips.tip,75)\n",
    "IQR=Q3-Q1\n",
    "print(Q1,Q2,Q3,IQR)"
   ]
  },
  {
   "cell_type": "code",
   "execution_count": 35,
   "id": "c2dfeb29",
   "metadata": {},
   "outputs": [
    {
     "name": "stdout",
     "output_type": "stream",
     "text": [
      "5.90625 -0.34375\n"
     ]
    }
   ],
   "source": [
    "UL=Q3+1.5*IQR\n",
    "LL=Q1-1.5*IQR\n",
    "print(UL,LL)"
   ]
  },
  {
   "cell_type": "code",
   "execution_count": 38,
   "id": "54089e7d",
   "metadata": {},
   "outputs": [
    {
     "name": "stderr",
     "output_type": "stream",
     "text": [
      "C:\\Users\\sss\\AppData\\Local\\Temp\\ipykernel_732\\771555881.py:1: FutureWarning: Dropping of nuisance columns in DataFrame reductions (with 'numeric_only=None') is deprecated; in a future version this will raise TypeError.  Select only valid columns before calling the reduction.\n",
      "  tips[tips.tip<UL].max()\n"
     ]
    },
    {
     "data": {
      "text/plain": [
       "total_bill    48.17\n",
       "tip            5.85\n",
       "size           6.00\n",
       "dtype: float64"
      ]
     },
     "execution_count": 38,
     "metadata": {},
     "output_type": "execute_result"
    }
   ],
   "source": [
    "tips[tips.tip<UL].max()"
   ]
  },
  {
   "cell_type": "code",
   "execution_count": 39,
   "id": "7b250186",
   "metadata": {},
   "outputs": [
    {
     "name": "stderr",
     "output_type": "stream",
     "text": [
      "C:\\Users\\sss\\AppData\\Local\\Temp\\ipykernel_732\\3566783936.py:1: FutureWarning: Dropping of nuisance columns in DataFrame reductions (with 'numeric_only=None') is deprecated; in a future version this will raise TypeError.  Select only valid columns before calling the reduction.\n",
      "  tips[tips.tip>LL].min()\n"
     ]
    },
    {
     "data": {
      "text/plain": [
       "total_bill    3.07\n",
       "tip           1.00\n",
       "size          1.00\n",
       "dtype: float64"
      ]
     },
     "execution_count": 39,
     "metadata": {},
     "output_type": "execute_result"
    }
   ],
   "source": [
    "tips[tips.tip>LL].min()"
   ]
  },
  {
   "cell_type": "code",
   "execution_count": 37,
   "id": "e082c9c6",
   "metadata": {},
   "outputs": [
    {
     "name": "stderr",
     "output_type": "stream",
     "text": [
      "C:\\Users\\sss\\anaconda3\\lib\\site-packages\\seaborn\\_decorators.py:36: FutureWarning: Pass the following variable as a keyword arg: x. From version 0.12, the only valid positional argument will be `data`, and passing other arguments without an explicit keyword will result in an error or misinterpretation.\n",
      "  warnings.warn(\n"
     ]
    },
    {
     "data": {
      "image/png": "[encoded data removed]",
      "text/plain": [
       "<Figure size 432x288 with 1 Axes>"
      ]
     },
     "metadata": {
      "needs_background": "light"
     },
     "output_type": "display_data"
    }
   ],
   "source": [
    "sns.boxplot(tips.tip)\n",
    "plt.axvline(UL,color='red')\n",
    "plt.axvline(LL,color='red')\n",
    "plt.show()"
   ]
  },
  {
   "cell_type": "markdown",
   "id": "6253c65b",
   "metadata": {},
   "source": [
    "## Variance :"
   ]
  },
  {
   "cell_type": "code",
   "execution_count": 42,
   "id": "4a57f8bb",
   "metadata": {},
   "outputs": [
    {
     "data": {
      "text/plain": [
       "78.92813148851114"
      ]
     },
     "execution_count": 42,
     "metadata": {},
     "output_type": "execute_result"
    }
   ],
   "source": [
    "((tips.total_bill-np.mean(tips.total_bill))**2).sum()/len(tips) # Variance formula"
   ]
  },
  {
   "cell_type": "code",
   "execution_count": 43,
   "id": "647c0573",
   "metadata": {},
   "outputs": [
    {
     "data": {
      "text/plain": [
       "244"
      ]
     },
     "execution_count": 43,
     "metadata": {},
     "output_type": "execute_result"
    }
   ],
   "source": [
    "len(tips)"
   ]
  },
  {
   "cell_type": "code",
   "execution_count": 44,
   "id": "11b8cb5c",
   "metadata": {},
   "outputs": [
    {
     "data": {
      "text/plain": [
       "(244, 7)"
      ]
     },
     "execution_count": 44,
     "metadata": {},
     "output_type": "execute_result"
    }
   ],
   "source": [
    "tips.shape"
   ]
  },
  {
   "cell_type": "code",
   "execution_count": 45,
   "id": "da348f04",
   "metadata": {},
   "outputs": [
    {
     "data": {
      "text/plain": [
       "78.92813148851113"
      ]
     },
     "execution_count": 45,
     "metadata": {},
     "output_type": "execute_result"
    }
   ],
   "source": [
    "np.var(tips.total_bill)"
   ]
  },
  {
   "cell_type": "code",
   "execution_count": null,
   "id": "c53bd8f3",
   "metadata": {},
   "outputs": [],
   "source": []
  }
 ],
 "metadata": {
  "kernelspec": {
   "display_name": "Python 3 (ipykernel)",
   "language": "python",
   "name": "python3"
  },
  "language_info": {
   "codemirror_mode": {
    "name": "ipython",
    "version": 3
   },
   "file_extension": ".py",
   "mimetype": "text/x-python",
   "name": "python",
   "nbconvert_exporter": "python",
   "pygments_lexer": "ipython3",
   "version": "3.9.12"
  }
 },
 "nbformat": 4,
 "nbformat_minor": 5
}
