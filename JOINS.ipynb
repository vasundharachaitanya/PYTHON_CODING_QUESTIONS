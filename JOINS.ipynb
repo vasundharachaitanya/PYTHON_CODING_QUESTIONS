{
 "cells": [
  {
   "cell_type": "markdown",
   "id": "37639107",
   "metadata": {},
   "source": [
    "# joins()\n",
    "- There are four types of joins\n",
    "- Inner join\n",
    "- Left join\n",
    "- Right join\n",
    "- Full join"
   ]
  },
  {
   "cell_type": "code",
   "execution_count": 3,
   "id": "7a486464",
   "metadata": {},
   "outputs": [],
   "source": [
    "import pandas as pd "
   ]
  },
  {
   "cell_type": "code",
   "execution_count": 4,
   "id": "86ba2f35",
   "metadata": {},
   "outputs": [
    {
     "data": {
      "text/html": [
       "<div>\n",
       "<style scoped>\n",
       "    .dataframe tbody tr th:only-of-type {\n",
       "        vertical-align: middle;\n",
       "    }\n",
       "\n",
       "    .dataframe tbody tr th {\n",
       "        vertical-align: top;\n",
       "    }\n",
       "\n",
       "    .dataframe thead th {\n",
       "        text-align: right;\n",
       "    }\n",
       "</style>\n",
       "<table border=\"1\" class=\"dataframe\">\n",
       "  <thead>\n",
       "    <tr style=\"text-align: right;\">\n",
       "      <th></th>\n",
       "      <th>Name</th>\n",
       "      <th>Salary</th>\n",
       "      <th>Age</th>\n",
       "    </tr>\n",
       "  </thead>\n",
       "  <tbody>\n",
       "    <tr>\n",
       "      <th>0</th>\n",
       "      <td>Gowtham</td>\n",
       "      <td>30000</td>\n",
       "      <td>25</td>\n",
       "    </tr>\n",
       "    <tr>\n",
       "      <th>1</th>\n",
       "      <td>Siva Rao</td>\n",
       "      <td>40000</td>\n",
       "      <td>23</td>\n",
       "    </tr>\n",
       "    <tr>\n",
       "      <th>2</th>\n",
       "      <td>Hardeep</td>\n",
       "      <td>50000</td>\n",
       "      <td>30</td>\n",
       "    </tr>\n",
       "    <tr>\n",
       "      <th>3</th>\n",
       "      <td>John</td>\n",
       "      <td>60000</td>\n",
       "      <td>50</td>\n",
       "    </tr>\n",
       "  </tbody>\n",
       "</table>\n",
       "</div>"
      ],
      "text/plain": [
       "       Name  Salary  Age\n",
       "0   Gowtham   30000   25\n",
       "1  Siva Rao   40000   23\n",
       "2   Hardeep   50000   30\n",
       "3      John   60000   50"
      ]
     },
     "execution_count": 4,
     "metadata": {},
     "output_type": "execute_result"
    }
   ],
   "source": [
    "df1 = pd.DataFrame({'Name':['Gowtham','Siva Rao','Hardeep','John'],\n",
    "                   'Salary':[30000,40000,50000,60000],\n",
    "                   'Age':[25,23,30,50]})\n",
    "df1 "
   ]
  },
  {
   "cell_type": "code",
   "execution_count": 11,
   "id": "bac1b567",
   "metadata": {},
   "outputs": [
    {
     "data": {
      "text/html": [
       "<div>\n",
       "<style scoped>\n",
       "    .dataframe tbody tr th:only-of-type {\n",
       "        vertical-align: middle;\n",
       "    }\n",
       "\n",
       "    .dataframe tbody tr th {\n",
       "        vertical-align: top;\n",
       "    }\n",
       "\n",
       "    .dataframe thead th {\n",
       "        text-align: right;\n",
       "    }\n",
       "</style>\n",
       "<table border=\"1\" class=\"dataframe\">\n",
       "  <thead>\n",
       "    <tr style=\"text-align: right;\">\n",
       "      <th></th>\n",
       "      <th>Name</th>\n",
       "      <th>Salary</th>\n",
       "      <th>Age</th>\n",
       "      <th>Roll_No</th>\n",
       "    </tr>\n",
       "  </thead>\n",
       "  <tbody>\n",
       "    <tr>\n",
       "      <th>0</th>\n",
       "      <td>Sruthi</td>\n",
       "      <td>30000</td>\n",
       "      <td>25</td>\n",
       "      <td>1001</td>\n",
       "    </tr>\n",
       "    <tr>\n",
       "      <th>1</th>\n",
       "      <td>Azeem</td>\n",
       "      <td>40000</td>\n",
       "      <td>23</td>\n",
       "      <td>1002</td>\n",
       "    </tr>\n",
       "    <tr>\n",
       "      <th>2</th>\n",
       "      <td>Hardeep</td>\n",
       "      <td>50000</td>\n",
       "      <td>30</td>\n",
       "      <td>1003</td>\n",
       "    </tr>\n",
       "    <tr>\n",
       "      <th>3</th>\n",
       "      <td>John</td>\n",
       "      <td>60000</td>\n",
       "      <td>50</td>\n",
       "      <td>1004</td>\n",
       "    </tr>\n",
       "  </tbody>\n",
       "</table>\n",
       "</div>"
      ],
      "text/plain": [
       "      Name  Salary  Age  Roll_No\n",
       "0   Sruthi   30000   25     1001\n",
       "1    Azeem   40000   23     1002\n",
       "2  Hardeep   50000   30     1003\n",
       "3     John   60000   50     1004"
      ]
     },
     "execution_count": 11,
     "metadata": {},
     "output_type": "execute_result"
    }
   ],
   "source": [
    "df2 = pd.DataFrame({'Name':['Sruthi','Azeem','Hardeep','John'],\n",
    "                   'Salary':[30000,40000,50000,60000],\n",
    "                   'Age':[25,23,30,50],\n",
    "                   'Roll_No':[1001,1002,1003,1004]})\n",
    "df2 "
   ]
  },
  {
   "cell_type": "markdown",
   "id": "bd1becb8",
   "metadata": {},
   "source": [
    "### concat()\n",
    "- used to join two tables"
   ]
  },
  {
   "cell_type": "code",
   "execution_count": 12,
   "id": "51c162c2",
   "metadata": {},
   "outputs": [
    {
     "data": {
      "text/html": [
       "<div>\n",
       "<style scoped>\n",
       "    .dataframe tbody tr th:only-of-type {\n",
       "        vertical-align: middle;\n",
       "    }\n",
       "\n",
       "    .dataframe tbody tr th {\n",
       "        vertical-align: top;\n",
       "    }\n",
       "\n",
       "    .dataframe thead th {\n",
       "        text-align: right;\n",
       "    }\n",
       "</style>\n",
       "<table border=\"1\" class=\"dataframe\">\n",
       "  <thead>\n",
       "    <tr style=\"text-align: right;\">\n",
       "      <th></th>\n",
       "      <th>Name</th>\n",
       "      <th>Salary</th>\n",
       "      <th>Age</th>\n",
       "      <th>Name</th>\n",
       "      <th>Salary</th>\n",
       "      <th>Age</th>\n",
       "      <th>Roll_No</th>\n",
       "    </tr>\n",
       "  </thead>\n",
       "  <tbody>\n",
       "    <tr>\n",
       "      <th>0</th>\n",
       "      <td>Gowtham</td>\n",
       "      <td>30000</td>\n",
       "      <td>25</td>\n",
       "      <td>Sruthi</td>\n",
       "      <td>30000</td>\n",
       "      <td>25</td>\n",
       "      <td>1001</td>\n",
       "    </tr>\n",
       "    <tr>\n",
       "      <th>1</th>\n",
       "      <td>Siva Rao</td>\n",
       "      <td>40000</td>\n",
       "      <td>23</td>\n",
       "      <td>Azeem</td>\n",
       "      <td>40000</td>\n",
       "      <td>23</td>\n",
       "      <td>1002</td>\n",
       "    </tr>\n",
       "    <tr>\n",
       "      <th>2</th>\n",
       "      <td>Hardeep</td>\n",
       "      <td>50000</td>\n",
       "      <td>30</td>\n",
       "      <td>Hardeep</td>\n",
       "      <td>50000</td>\n",
       "      <td>30</td>\n",
       "      <td>1003</td>\n",
       "    </tr>\n",
       "    <tr>\n",
       "      <th>3</th>\n",
       "      <td>John</td>\n",
       "      <td>60000</td>\n",
       "      <td>50</td>\n",
       "      <td>John</td>\n",
       "      <td>60000</td>\n",
       "      <td>50</td>\n",
       "      <td>1004</td>\n",
       "    </tr>\n",
       "  </tbody>\n",
       "</table>\n",
       "</div>"
      ],
      "text/plain": [
       "       Name  Salary  Age     Name  Salary  Age  Roll_No\n",
       "0   Gowtham   30000   25   Sruthi   30000   25     1001\n",
       "1  Siva Rao   40000   23    Azeem   40000   23     1002\n",
       "2   Hardeep   50000   30  Hardeep   50000   30     1003\n",
       "3      John   60000   50     John   60000   50     1004"
      ]
     },
     "execution_count": 12,
     "metadata": {},
     "output_type": "execute_result"
    }
   ],
   "source": [
    "col_df=pd.concat([df1,df2],axis=1) # column wise\n",
    "col_df"
   ]
  },
  {
   "cell_type": "code",
   "execution_count": 13,
   "id": "475f4262",
   "metadata": {},
   "outputs": [
    {
     "data": {
      "text/html": [
       "<div>\n",
       "<style scoped>\n",
       "    .dataframe tbody tr th:only-of-type {\n",
       "        vertical-align: middle;\n",
       "    }\n",
       "\n",
       "    .dataframe tbody tr th {\n",
       "        vertical-align: top;\n",
       "    }\n",
       "\n",
       "    .dataframe thead th {\n",
       "        text-align: right;\n",
       "    }\n",
       "</style>\n",
       "<table border=\"1\" class=\"dataframe\">\n",
       "  <thead>\n",
       "    <tr style=\"text-align: right;\">\n",
       "      <th></th>\n",
       "      <th>Name</th>\n",
       "      <th>Salary</th>\n",
       "      <th>Age</th>\n",
       "      <th>Roll_No</th>\n",
       "    </tr>\n",
       "  </thead>\n",
       "  <tbody>\n",
       "    <tr>\n",
       "      <th>0</th>\n",
       "      <td>Gowtham</td>\n",
       "      <td>30000</td>\n",
       "      <td>25</td>\n",
       "      <td>NaN</td>\n",
       "    </tr>\n",
       "    <tr>\n",
       "      <th>1</th>\n",
       "      <td>Siva Rao</td>\n",
       "      <td>40000</td>\n",
       "      <td>23</td>\n",
       "      <td>NaN</td>\n",
       "    </tr>\n",
       "    <tr>\n",
       "      <th>2</th>\n",
       "      <td>Hardeep</td>\n",
       "      <td>50000</td>\n",
       "      <td>30</td>\n",
       "      <td>NaN</td>\n",
       "    </tr>\n",
       "    <tr>\n",
       "      <th>3</th>\n",
       "      <td>John</td>\n",
       "      <td>60000</td>\n",
       "      <td>50</td>\n",
       "      <td>NaN</td>\n",
       "    </tr>\n",
       "    <tr>\n",
       "      <th>0</th>\n",
       "      <td>Sruthi</td>\n",
       "      <td>30000</td>\n",
       "      <td>25</td>\n",
       "      <td>1001.0</td>\n",
       "    </tr>\n",
       "    <tr>\n",
       "      <th>1</th>\n",
       "      <td>Azeem</td>\n",
       "      <td>40000</td>\n",
       "      <td>23</td>\n",
       "      <td>1002.0</td>\n",
       "    </tr>\n",
       "    <tr>\n",
       "      <th>2</th>\n",
       "      <td>Hardeep</td>\n",
       "      <td>50000</td>\n",
       "      <td>30</td>\n",
       "      <td>1003.0</td>\n",
       "    </tr>\n",
       "    <tr>\n",
       "      <th>3</th>\n",
       "      <td>John</td>\n",
       "      <td>60000</td>\n",
       "      <td>50</td>\n",
       "      <td>1004.0</td>\n",
       "    </tr>\n",
       "  </tbody>\n",
       "</table>\n",
       "</div>"
      ],
      "text/plain": [
       "       Name  Salary  Age  Roll_No\n",
       "0   Gowtham   30000   25      NaN\n",
       "1  Siva Rao   40000   23      NaN\n",
       "2   Hardeep   50000   30      NaN\n",
       "3      John   60000   50      NaN\n",
       "0    Sruthi   30000   25   1001.0\n",
       "1     Azeem   40000   23   1002.0\n",
       "2   Hardeep   50000   30   1003.0\n",
       "3      John   60000   50   1004.0"
      ]
     },
     "execution_count": 13,
     "metadata": {},
     "output_type": "execute_result"
    }
   ],
   "source": [
    "row_df=pd.concat([df1,df2],axis=0) # row wise\n",
    "row_df  "
   ]
  },
  {
   "cell_type": "markdown",
   "id": "c2ab56bd",
   "metadata": {},
   "source": [
    "## merge()"
   ]
  },
  {
   "cell_type": "code",
   "execution_count": 14,
   "id": "0212cc2f",
   "metadata": {},
   "outputs": [
    {
     "data": {
      "text/html": [
       "<div>\n",
       "<style scoped>\n",
       "    .dataframe tbody tr th:only-of-type {\n",
       "        vertical-align: middle;\n",
       "    }\n",
       "\n",
       "    .dataframe tbody tr th {\n",
       "        vertical-align: top;\n",
       "    }\n",
       "\n",
       "    .dataframe thead th {\n",
       "        text-align: right;\n",
       "    }\n",
       "</style>\n",
       "<table border=\"1\" class=\"dataframe\">\n",
       "  <thead>\n",
       "    <tr style=\"text-align: right;\">\n",
       "      <th></th>\n",
       "      <th>Name</th>\n",
       "      <th>Salary_x</th>\n",
       "      <th>Age_x</th>\n",
       "      <th>Salary_y</th>\n",
       "      <th>Age_y</th>\n",
       "      <th>Roll_No</th>\n",
       "    </tr>\n",
       "  </thead>\n",
       "  <tbody>\n",
       "    <tr>\n",
       "      <th>0</th>\n",
       "      <td>Hardeep</td>\n",
       "      <td>50000</td>\n",
       "      <td>30</td>\n",
       "      <td>50000</td>\n",
       "      <td>30</td>\n",
       "      <td>1003</td>\n",
       "    </tr>\n",
       "    <tr>\n",
       "      <th>1</th>\n",
       "      <td>John</td>\n",
       "      <td>60000</td>\n",
       "      <td>50</td>\n",
       "      <td>60000</td>\n",
       "      <td>50</td>\n",
       "      <td>1004</td>\n",
       "    </tr>\n",
       "  </tbody>\n",
       "</table>\n",
       "</div>"
      ],
      "text/plain": [
       "      Name  Salary_x  Age_x  Salary_y  Age_y  Roll_No\n",
       "0  Hardeep     50000     30     50000     30     1003\n",
       "1     John     60000     50     60000     50     1004"
      ]
     },
     "execution_count": 14,
     "metadata": {},
     "output_type": "execute_result"
    }
   ],
   "source": [
    "### INNER JOIN\n",
    "pd.merge(df1,df2,how='inner',on='Name')"
   ]
  },
  {
   "cell_type": "code",
   "execution_count": 16,
   "id": "8b5365c5",
   "metadata": {},
   "outputs": [
    {
     "data": {
      "text/html": [
       "<div>\n",
       "<style scoped>\n",
       "    .dataframe tbody tr th:only-of-type {\n",
       "        vertical-align: middle;\n",
       "    }\n",
       "\n",
       "    .dataframe tbody tr th {\n",
       "        vertical-align: top;\n",
       "    }\n",
       "\n",
       "    .dataframe thead th {\n",
       "        text-align: right;\n",
       "    }\n",
       "</style>\n",
       "<table border=\"1\" class=\"dataframe\">\n",
       "  <thead>\n",
       "    <tr style=\"text-align: right;\">\n",
       "      <th></th>\n",
       "      <th>Name</th>\n",
       "      <th>Salary_x</th>\n",
       "      <th>Age_x</th>\n",
       "      <th>Salary_y</th>\n",
       "      <th>Age_y</th>\n",
       "      <th>Roll_No</th>\n",
       "    </tr>\n",
       "  </thead>\n",
       "  <tbody>\n",
       "    <tr>\n",
       "      <th>0</th>\n",
       "      <td>Gowtham</td>\n",
       "      <td>30000</td>\n",
       "      <td>25</td>\n",
       "      <td>NaN</td>\n",
       "      <td>NaN</td>\n",
       "      <td>NaN</td>\n",
       "    </tr>\n",
       "    <tr>\n",
       "      <th>1</th>\n",
       "      <td>Siva Rao</td>\n",
       "      <td>40000</td>\n",
       "      <td>23</td>\n",
       "      <td>NaN</td>\n",
       "      <td>NaN</td>\n",
       "      <td>NaN</td>\n",
       "    </tr>\n",
       "    <tr>\n",
       "      <th>2</th>\n",
       "      <td>Hardeep</td>\n",
       "      <td>50000</td>\n",
       "      <td>30</td>\n",
       "      <td>50000.0</td>\n",
       "      <td>30.0</td>\n",
       "      <td>1003.0</td>\n",
       "    </tr>\n",
       "    <tr>\n",
       "      <th>3</th>\n",
       "      <td>John</td>\n",
       "      <td>60000</td>\n",
       "      <td>50</td>\n",
       "      <td>60000.0</td>\n",
       "      <td>50.0</td>\n",
       "      <td>1004.0</td>\n",
       "    </tr>\n",
       "  </tbody>\n",
       "</table>\n",
       "</div>"
      ],
      "text/plain": [
       "       Name  Salary_x  Age_x  Salary_y  Age_y  Roll_No\n",
       "0   Gowtham     30000     25       NaN    NaN      NaN\n",
       "1  Siva Rao     40000     23       NaN    NaN      NaN\n",
       "2   Hardeep     50000     30   50000.0   30.0   1003.0\n",
       "3      John     60000     50   60000.0   50.0   1004.0"
      ]
     },
     "execution_count": 16,
     "metadata": {},
     "output_type": "execute_result"
    }
   ],
   "source": [
    "### LEFT JOIN\n",
    "pd.merge(df1,df2,how='left',on='Name')"
   ]
  },
  {
   "cell_type": "code",
   "execution_count": 17,
   "id": "2f9b2c9b",
   "metadata": {},
   "outputs": [
    {
     "data": {
      "text/html": [
       "<div>\n",
       "<style scoped>\n",
       "    .dataframe tbody tr th:only-of-type {\n",
       "        vertical-align: middle;\n",
       "    }\n",
       "\n",
       "    .dataframe tbody tr th {\n",
       "        vertical-align: top;\n",
       "    }\n",
       "\n",
       "    .dataframe thead th {\n",
       "        text-align: right;\n",
       "    }\n",
       "</style>\n",
       "<table border=\"1\" class=\"dataframe\">\n",
       "  <thead>\n",
       "    <tr style=\"text-align: right;\">\n",
       "      <th></th>\n",
       "      <th>Name</th>\n",
       "      <th>Salary_x</th>\n",
       "      <th>Age_x</th>\n",
       "      <th>Salary_y</th>\n",
       "      <th>Age_y</th>\n",
       "      <th>Roll_No</th>\n",
       "    </tr>\n",
       "  </thead>\n",
       "  <tbody>\n",
       "    <tr>\n",
       "      <th>0</th>\n",
       "      <td>Sruthi</td>\n",
       "      <td>NaN</td>\n",
       "      <td>NaN</td>\n",
       "      <td>30000</td>\n",
       "      <td>25</td>\n",
       "      <td>1001</td>\n",
       "    </tr>\n",
       "    <tr>\n",
       "      <th>1</th>\n",
       "      <td>Azeem</td>\n",
       "      <td>NaN</td>\n",
       "      <td>NaN</td>\n",
       "      <td>40000</td>\n",
       "      <td>23</td>\n",
       "      <td>1002</td>\n",
       "    </tr>\n",
       "    <tr>\n",
       "      <th>2</th>\n",
       "      <td>Hardeep</td>\n",
       "      <td>50000.0</td>\n",
       "      <td>30.0</td>\n",
       "      <td>50000</td>\n",
       "      <td>30</td>\n",
       "      <td>1003</td>\n",
       "    </tr>\n",
       "    <tr>\n",
       "      <th>3</th>\n",
       "      <td>John</td>\n",
       "      <td>60000.0</td>\n",
       "      <td>50.0</td>\n",
       "      <td>60000</td>\n",
       "      <td>50</td>\n",
       "      <td>1004</td>\n",
       "    </tr>\n",
       "  </tbody>\n",
       "</table>\n",
       "</div>"
      ],
      "text/plain": [
       "      Name  Salary_x  Age_x  Salary_y  Age_y  Roll_No\n",
       "0   Sruthi       NaN    NaN     30000     25     1001\n",
       "1    Azeem       NaN    NaN     40000     23     1002\n",
       "2  Hardeep   50000.0   30.0     50000     30     1003\n",
       "3     John   60000.0   50.0     60000     50     1004"
      ]
     },
     "execution_count": 17,
     "metadata": {},
     "output_type": "execute_result"
    }
   ],
   "source": [
    "### RIGHT JOIN\n",
    "pd.merge(df1,df2,how='right',on='Name')"
   ]
  },
  {
   "cell_type": "code",
   "execution_count": 19,
   "id": "e3a8894d",
   "metadata": {},
   "outputs": [
    {
     "data": {
      "text/html": [
       "<div>\n",
       "<style scoped>\n",
       "    .dataframe tbody tr th:only-of-type {\n",
       "        vertical-align: middle;\n",
       "    }\n",
       "\n",
       "    .dataframe tbody tr th {\n",
       "        vertical-align: top;\n",
       "    }\n",
       "\n",
       "    .dataframe thead th {\n",
       "        text-align: right;\n",
       "    }\n",
       "</style>\n",
       "<table border=\"1\" class=\"dataframe\">\n",
       "  <thead>\n",
       "    <tr style=\"text-align: right;\">\n",
       "      <th></th>\n",
       "      <th>Name</th>\n",
       "      <th>Salary_x</th>\n",
       "      <th>Age_x</th>\n",
       "      <th>Salary_y</th>\n",
       "      <th>Age_y</th>\n",
       "      <th>Roll_No</th>\n",
       "    </tr>\n",
       "  </thead>\n",
       "  <tbody>\n",
       "    <tr>\n",
       "      <th>0</th>\n",
       "      <td>Gowtham</td>\n",
       "      <td>30000.0</td>\n",
       "      <td>25.0</td>\n",
       "      <td>NaN</td>\n",
       "      <td>NaN</td>\n",
       "      <td>NaN</td>\n",
       "    </tr>\n",
       "    <tr>\n",
       "      <th>1</th>\n",
       "      <td>Siva Rao</td>\n",
       "      <td>40000.0</td>\n",
       "      <td>23.0</td>\n",
       "      <td>NaN</td>\n",
       "      <td>NaN</td>\n",
       "      <td>NaN</td>\n",
       "    </tr>\n",
       "    <tr>\n",
       "      <th>2</th>\n",
       "      <td>Hardeep</td>\n",
       "      <td>50000.0</td>\n",
       "      <td>30.0</td>\n",
       "      <td>50000.0</td>\n",
       "      <td>30.0</td>\n",
       "      <td>1003.0</td>\n",
       "    </tr>\n",
       "    <tr>\n",
       "      <th>3</th>\n",
       "      <td>John</td>\n",
       "      <td>60000.0</td>\n",
       "      <td>50.0</td>\n",
       "      <td>60000.0</td>\n",
       "      <td>50.0</td>\n",
       "      <td>1004.0</td>\n",
       "    </tr>\n",
       "    <tr>\n",
       "      <th>4</th>\n",
       "      <td>Sruthi</td>\n",
       "      <td>NaN</td>\n",
       "      <td>NaN</td>\n",
       "      <td>30000.0</td>\n",
       "      <td>25.0</td>\n",
       "      <td>1001.0</td>\n",
       "    </tr>\n",
       "    <tr>\n",
       "      <th>5</th>\n",
       "      <td>Azeem</td>\n",
       "      <td>NaN</td>\n",
       "      <td>NaN</td>\n",
       "      <td>40000.0</td>\n",
       "      <td>23.0</td>\n",
       "      <td>1002.0</td>\n",
       "    </tr>\n",
       "  </tbody>\n",
       "</table>\n",
       "</div>"
      ],
      "text/plain": [
       "       Name  Salary_x  Age_x  Salary_y  Age_y  Roll_No\n",
       "0   Gowtham   30000.0   25.0       NaN    NaN      NaN\n",
       "1  Siva Rao   40000.0   23.0       NaN    NaN      NaN\n",
       "2   Hardeep   50000.0   30.0   50000.0   30.0   1003.0\n",
       "3      John   60000.0   50.0   60000.0   50.0   1004.0\n",
       "4    Sruthi       NaN    NaN   30000.0   25.0   1001.0\n",
       "5     Azeem       NaN    NaN   40000.0   23.0   1002.0"
      ]
     },
     "execution_count": 19,
     "metadata": {},
     "output_type": "execute_result"
    }
   ],
   "source": [
    "### FULL/OUTER JOIN\n",
    "pd.merge(df1,df2,how='outer',on='Name') "
   ]
  },
  {
   "cell_type": "markdown",
   "id": "7f727249",
   "metadata": {},
   "source": [
    "# Duplicate_Datetime"
   ]
  },
  {
   "cell_type": "code",
   "execution_count": 4,
   "id": "829766fb",
   "metadata": {},
   "outputs": [
    {
     "data": {
      "text/html": [
       "<div>\n",
       "<style scoped>\n",
       "    .dataframe tbody tr th:only-of-type {\n",
       "        vertical-align: middle;\n",
       "    }\n",
       "\n",
       "    .dataframe tbody tr th {\n",
       "        vertical-align: top;\n",
       "    }\n",
       "\n",
       "    .dataframe thead th {\n",
       "        text-align: right;\n",
       "    }\n",
       "</style>\n",
       "<table border=\"1\" class=\"dataframe\">\n",
       "  <thead>\n",
       "    <tr style=\"text-align: right;\">\n",
       "      <th></th>\n",
       "      <th>Gender</th>\n",
       "      <th>Married</th>\n",
       "      <th>Loan_Status</th>\n",
       "    </tr>\n",
       "  </thead>\n",
       "  <tbody>\n",
       "    <tr>\n",
       "      <th>0</th>\n",
       "      <td>Male</td>\n",
       "      <td>Yes</td>\n",
       "      <td>Yes</td>\n",
       "    </tr>\n",
       "    <tr>\n",
       "      <th>1</th>\n",
       "      <td>Female</td>\n",
       "      <td>No</td>\n",
       "      <td>No</td>\n",
       "    </tr>\n",
       "    <tr>\n",
       "      <th>2</th>\n",
       "      <td>Male</td>\n",
       "      <td>No</td>\n",
       "      <td>No</td>\n",
       "    </tr>\n",
       "    <tr>\n",
       "      <th>3</th>\n",
       "      <td>Female</td>\n",
       "      <td>No</td>\n",
       "      <td>No</td>\n",
       "    </tr>\n",
       "    <tr>\n",
       "      <th>4</th>\n",
       "      <td>Male</td>\n",
       "      <td>Yes</td>\n",
       "      <td>Yes</td>\n",
       "    </tr>\n",
       "  </tbody>\n",
       "</table>\n",
       "</div>"
      ],
      "text/plain": [
       "   Gender Married Loan_Status\n",
       "0    Male     Yes         Yes\n",
       "1  Female      No          No\n",
       "2    Male      No          No\n",
       "3  Female      No          No\n",
       "4    Male     Yes         Yes"
      ]
     },
     "execution_count": 4,
     "metadata": {},
     "output_type": "execute_result"
    }
   ],
   "source": [
    "# Creating dataframe using dictionary\n",
    "dict1 = {'Gender':[\"Male\",\"Female\",\"Male\",\"Female\",\"Male\"],\n",
    "        'Married':[\"Yes\",\"No\",\"No\",\"No\",\"Yes\"],\n",
    "        'Loan_Status':[\"Yes\",\"No\",\"No\",\"No\",\"Yes\"]}\n",
    "df = pd.DataFrame(dict1)\n",
    "df "
   ]
  },
  {
   "cell_type": "code",
   "execution_count": 5,
   "id": "50eee165",
   "metadata": {},
   "outputs": [
    {
     "data": {
      "text/plain": [
       "0    False\n",
       "1    False\n",
       "2    False\n",
       "3     True\n",
       "4     True\n",
       "dtype: bool"
      ]
     },
     "execution_count": 5,
     "metadata": {},
     "output_type": "execute_result"
    }
   ],
   "source": [
    "# with keep = \"first\" - mark duplicates as True except for the first one\n",
    "\n",
    "duplicates_first=df.duplicated(keep=\"first\")\n",
    "duplicates_first "
   ]
  },
  {
   "cell_type": "code",
   "execution_count": 6,
   "id": "ba0bf91d",
   "metadata": {},
   "outputs": [
    {
     "data": {
      "text/plain": [
       "0     True\n",
       "1     True\n",
       "2    False\n",
       "3    False\n",
       "4    False\n",
       "dtype: bool"
      ]
     },
     "execution_count": 6,
     "metadata": {},
     "output_type": "execute_result"
    }
   ],
   "source": [
    "duplicates_first=df.duplicated(keep=\"last\")\n",
    "duplicates_first  "
   ]
  },
  {
   "cell_type": "code",
   "execution_count": 9,
   "id": "955167d2",
   "metadata": {},
   "outputs": [
    {
     "data": {
      "text/html": [
       "<div>\n",
       "<style scoped>\n",
       "    .dataframe tbody tr th:only-of-type {\n",
       "        vertical-align: middle;\n",
       "    }\n",
       "\n",
       "    .dataframe tbody tr th {\n",
       "        vertical-align: top;\n",
       "    }\n",
       "\n",
       "    .dataframe thead th {\n",
       "        text-align: right;\n",
       "    }\n",
       "</style>\n",
       "<table border=\"1\" class=\"dataframe\">\n",
       "  <thead>\n",
       "    <tr style=\"text-align: right;\">\n",
       "      <th></th>\n",
       "      <th>Gender</th>\n",
       "      <th>Married</th>\n",
       "      <th>Loan_Status</th>\n",
       "    </tr>\n",
       "  </thead>\n",
       "  <tbody>\n",
       "    <tr>\n",
       "      <th>0</th>\n",
       "      <td>Male</td>\n",
       "      <td>Yes</td>\n",
       "      <td>Yes</td>\n",
       "    </tr>\n",
       "    <tr>\n",
       "      <th>2</th>\n",
       "      <td>Male</td>\n",
       "      <td>No</td>\n",
       "      <td>No</td>\n",
       "    </tr>\n",
       "    <tr>\n",
       "      <th>4</th>\n",
       "      <td>Male</td>\n",
       "      <td>Yes</td>\n",
       "      <td>Yes</td>\n",
       "    </tr>\n",
       "  </tbody>\n",
       "</table>\n",
       "</div>"
      ],
      "text/plain": [
       "  Gender Married Loan_Status\n",
       "0   Male     Yes         Yes\n",
       "2   Male      No          No\n",
       "4   Male     Yes         Yes"
      ]
     },
     "execution_count": 9,
     "metadata": {},
     "output_type": "execute_result"
    }
   ],
   "source": [
    "df[df['Gender']=='Male']"
   ]
  },
  {
   "cell_type": "code",
   "execution_count": 10,
   "id": "2ed8a5b8",
   "metadata": {},
   "outputs": [
    {
     "data": {
      "text/html": [
       "<div>\n",
       "<style scoped>\n",
       "    .dataframe tbody tr th:only-of-type {\n",
       "        vertical-align: middle;\n",
       "    }\n",
       "\n",
       "    .dataframe tbody tr th {\n",
       "        vertical-align: top;\n",
       "    }\n",
       "\n",
       "    .dataframe thead th {\n",
       "        text-align: right;\n",
       "    }\n",
       "</style>\n",
       "<table border=\"1\" class=\"dataframe\">\n",
       "  <thead>\n",
       "    <tr style=\"text-align: right;\">\n",
       "      <th></th>\n",
       "      <th>Gender</th>\n",
       "      <th>Married</th>\n",
       "      <th>Loan_Status</th>\n",
       "    </tr>\n",
       "  </thead>\n",
       "  <tbody>\n",
       "    <tr>\n",
       "      <th>0</th>\n",
       "      <td>Male</td>\n",
       "      <td>Yes</td>\n",
       "      <td>Yes</td>\n",
       "    </tr>\n",
       "    <tr>\n",
       "      <th>1</th>\n",
       "      <td>Female</td>\n",
       "      <td>No</td>\n",
       "      <td>No</td>\n",
       "    </tr>\n",
       "  </tbody>\n",
       "</table>\n",
       "</div>"
      ],
      "text/plain": [
       "   Gender Married Loan_Status\n",
       "0    Male     Yes         Yes\n",
       "1  Female      No          No"
      ]
     },
     "execution_count": 10,
     "metadata": {},
     "output_type": "execute_result"
    }
   ],
   "source": [
    "df[duplicates_first] "
   ]
  },
  {
   "cell_type": "code",
   "execution_count": 7,
   "id": "5ffd7435",
   "metadata": {},
   "outputs": [
    {
     "data": {
      "text/html": [
       "<div>\n",
       "<style scoped>\n",
       "    .dataframe tbody tr th:only-of-type {\n",
       "        vertical-align: middle;\n",
       "    }\n",
       "\n",
       "    .dataframe tbody tr th {\n",
       "        vertical-align: top;\n",
       "    }\n",
       "\n",
       "    .dataframe thead th {\n",
       "        text-align: right;\n",
       "    }\n",
       "</style>\n",
       "<table border=\"1\" class=\"dataframe\">\n",
       "  <thead>\n",
       "    <tr style=\"text-align: right;\">\n",
       "      <th></th>\n",
       "      <th>Gender</th>\n",
       "      <th>Married</th>\n",
       "      <th>Loan_Status</th>\n",
       "    </tr>\n",
       "  </thead>\n",
       "  <tbody>\n",
       "    <tr>\n",
       "      <th>0</th>\n",
       "      <td>Male</td>\n",
       "      <td>Yes</td>\n",
       "      <td>Yes</td>\n",
       "    </tr>\n",
       "    <tr>\n",
       "      <th>1</th>\n",
       "      <td>Female</td>\n",
       "      <td>No</td>\n",
       "      <td>No</td>\n",
       "    </tr>\n",
       "  </tbody>\n",
       "</table>\n",
       "</div>"
      ],
      "text/plain": [
       "   Gender Married Loan_Status\n",
       "0    Male     Yes         Yes\n",
       "1  Female      No          No"
      ]
     },
     "execution_count": 7,
     "metadata": {},
     "output_type": "execute_result"
    }
   ],
   "source": [
    "df.loc[duplicates_first,:]  ## removing duplicates"
   ]
  },
  {
   "cell_type": "code",
   "execution_count": 11,
   "id": "c869e158",
   "metadata": {},
   "outputs": [
    {
     "data": {
      "text/html": [
       "<div>\n",
       "<style scoped>\n",
       "    .dataframe tbody tr th:only-of-type {\n",
       "        vertical-align: middle;\n",
       "    }\n",
       "\n",
       "    .dataframe tbody tr th {\n",
       "        vertical-align: top;\n",
       "    }\n",
       "\n",
       "    .dataframe thead th {\n",
       "        text-align: right;\n",
       "    }\n",
       "</style>\n",
       "<table border=\"1\" class=\"dataframe\">\n",
       "  <thead>\n",
       "    <tr style=\"text-align: right;\">\n",
       "      <th></th>\n",
       "      <th>Gender</th>\n",
       "      <th>Married</th>\n",
       "      <th>Loan_Status</th>\n",
       "    </tr>\n",
       "  </thead>\n",
       "  <tbody>\n",
       "    <tr>\n",
       "      <th>0</th>\n",
       "      <td>Male</td>\n",
       "      <td>Yes</td>\n",
       "      <td>Yes</td>\n",
       "    </tr>\n",
       "    <tr>\n",
       "      <th>1</th>\n",
       "      <td>Female</td>\n",
       "      <td>No</td>\n",
       "      <td>No</td>\n",
       "    </tr>\n",
       "    <tr>\n",
       "      <th>2</th>\n",
       "      <td>Male</td>\n",
       "      <td>No</td>\n",
       "      <td>No</td>\n",
       "    </tr>\n",
       "  </tbody>\n",
       "</table>\n",
       "</div>"
      ],
      "text/plain": [
       "   Gender Married Loan_Status\n",
       "0    Male     Yes         Yes\n",
       "1  Female      No          No\n",
       "2    Male      No          No"
      ]
     },
     "execution_count": 11,
     "metadata": {},
     "output_type": "execute_result"
    }
   ],
   "source": [
    "# with keep = \"first\"- keep duplicates which occured first time and drop others\n",
    "df1= df.drop_duplicates(keep=\"first\")\n",
    "df1 "
   ]
  },
  {
   "cell_type": "code",
   "execution_count": 12,
   "id": "094f3fcf",
   "metadata": {},
   "outputs": [
    {
     "data": {
      "text/html": [
       "<div>\n",
       "<style scoped>\n",
       "    .dataframe tbody tr th:only-of-type {\n",
       "        vertical-align: middle;\n",
       "    }\n",
       "\n",
       "    .dataframe tbody tr th {\n",
       "        vertical-align: top;\n",
       "    }\n",
       "\n",
       "    .dataframe thead th {\n",
       "        text-align: right;\n",
       "    }\n",
       "</style>\n",
       "<table border=\"1\" class=\"dataframe\">\n",
       "  <thead>\n",
       "    <tr style=\"text-align: right;\">\n",
       "      <th></th>\n",
       "      <th>Gender</th>\n",
       "      <th>Married</th>\n",
       "      <th>Loan_Status</th>\n",
       "    </tr>\n",
       "  </thead>\n",
       "  <tbody>\n",
       "    <tr>\n",
       "      <th>2</th>\n",
       "      <td>Male</td>\n",
       "      <td>No</td>\n",
       "      <td>No</td>\n",
       "    </tr>\n",
       "    <tr>\n",
       "      <th>3</th>\n",
       "      <td>Female</td>\n",
       "      <td>No</td>\n",
       "      <td>No</td>\n",
       "    </tr>\n",
       "    <tr>\n",
       "      <th>4</th>\n",
       "      <td>Male</td>\n",
       "      <td>Yes</td>\n",
       "      <td>Yes</td>\n",
       "    </tr>\n",
       "  </tbody>\n",
       "</table>\n",
       "</div>"
      ],
      "text/plain": [
       "   Gender Married Loan_Status\n",
       "2    Male      No          No\n",
       "3  Female      No          No\n",
       "4    Male     Yes         Yes"
      ]
     },
     "execution_count": 12,
     "metadata": {},
     "output_type": "execute_result"
    }
   ],
   "source": [
    "df1= df.drop_duplicates(keep=\"last\") \n",
    "df1 "
   ]
  },
  {
   "cell_type": "code",
   "execution_count": 16,
   "id": "02b88712",
   "metadata": {},
   "outputs": [
    {
     "data": {
      "text/html": [
       "<div>\n",
       "<style scoped>\n",
       "    .dataframe tbody tr th:only-of-type {\n",
       "        vertical-align: middle;\n",
       "    }\n",
       "\n",
       "    .dataframe tbody tr th {\n",
       "        vertical-align: top;\n",
       "    }\n",
       "\n",
       "    .dataframe thead th {\n",
       "        text-align: right;\n",
       "    }\n",
       "</style>\n",
       "<table border=\"1\" class=\"dataframe\">\n",
       "  <thead>\n",
       "    <tr style=\"text-align: right;\">\n",
       "      <th></th>\n",
       "      <th>index</th>\n",
       "      <th>Gender</th>\n",
       "      <th>Married</th>\n",
       "      <th>Loan_Status</th>\n",
       "    </tr>\n",
       "  </thead>\n",
       "  <tbody>\n",
       "    <tr>\n",
       "      <th>0</th>\n",
       "      <td>2</td>\n",
       "      <td>Male</td>\n",
       "      <td>No</td>\n",
       "      <td>No</td>\n",
       "    </tr>\n",
       "    <tr>\n",
       "      <th>1</th>\n",
       "      <td>3</td>\n",
       "      <td>Female</td>\n",
       "      <td>No</td>\n",
       "      <td>No</td>\n",
       "    </tr>\n",
       "    <tr>\n",
       "      <th>2</th>\n",
       "      <td>4</td>\n",
       "      <td>Male</td>\n",
       "      <td>Yes</td>\n",
       "      <td>Yes</td>\n",
       "    </tr>\n",
       "  </tbody>\n",
       "</table>\n",
       "</div>"
      ],
      "text/plain": [
       "   index  Gender Married Loan_Status\n",
       "0      2    Male      No          No\n",
       "1      3  Female      No          No\n",
       "2      4    Male     Yes         Yes"
      ]
     },
     "execution_count": 16,
     "metadata": {},
     "output_type": "execute_result"
    }
   ],
   "source": [
    "df1.reset_index() "
   ]
  },
  {
   "cell_type": "code",
   "execution_count": 17,
   "id": "82949da4",
   "metadata": {},
   "outputs": [
    {
     "data": {
      "text/html": [
       "<div>\n",
       "<style scoped>\n",
       "    .dataframe tbody tr th:only-of-type {\n",
       "        vertical-align: middle;\n",
       "    }\n",
       "\n",
       "    .dataframe tbody tr th {\n",
       "        vertical-align: top;\n",
       "    }\n",
       "\n",
       "    .dataframe thead th {\n",
       "        text-align: right;\n",
       "    }\n",
       "</style>\n",
       "<table border=\"1\" class=\"dataframe\">\n",
       "  <thead>\n",
       "    <tr style=\"text-align: right;\">\n",
       "      <th></th>\n",
       "      <th>Gender</th>\n",
       "      <th>Married</th>\n",
       "      <th>Loan_Status</th>\n",
       "    </tr>\n",
       "  </thead>\n",
       "  <tbody>\n",
       "    <tr>\n",
       "      <th>0</th>\n",
       "      <td>Male</td>\n",
       "      <td>No</td>\n",
       "      <td>No</td>\n",
       "    </tr>\n",
       "    <tr>\n",
       "      <th>1</th>\n",
       "      <td>Female</td>\n",
       "      <td>No</td>\n",
       "      <td>No</td>\n",
       "    </tr>\n",
       "    <tr>\n",
       "      <th>2</th>\n",
       "      <td>Male</td>\n",
       "      <td>Yes</td>\n",
       "      <td>Yes</td>\n",
       "    </tr>\n",
       "  </tbody>\n",
       "</table>\n",
       "</div>"
      ],
      "text/plain": [
       "   Gender Married Loan_Status\n",
       "0    Male      No          No\n",
       "1  Female      No          No\n",
       "2    Male     Yes         Yes"
      ]
     },
     "execution_count": 17,
     "metadata": {},
     "output_type": "execute_result"
    }
   ],
   "source": [
    "df1.reset_index(drop=True)  "
   ]
  },
  {
   "cell_type": "code",
   "execution_count": 18,
   "id": "9517d4ef",
   "metadata": {},
   "outputs": [
    {
     "data": {
      "text/html": [
       "<div>\n",
       "<style scoped>\n",
       "    .dataframe tbody tr th:only-of-type {\n",
       "        vertical-align: middle;\n",
       "    }\n",
       "\n",
       "    .dataframe tbody tr th {\n",
       "        vertical-align: top;\n",
       "    }\n",
       "\n",
       "    .dataframe thead th {\n",
       "        text-align: right;\n",
       "    }\n",
       "</style>\n",
       "<table border=\"1\" class=\"dataframe\">\n",
       "  <thead>\n",
       "    <tr style=\"text-align: right;\">\n",
       "      <th></th>\n",
       "      <th>Gender</th>\n",
       "      <th>Married</th>\n",
       "      <th>Loan_Status</th>\n",
       "    </tr>\n",
       "  </thead>\n",
       "  <tbody>\n",
       "    <tr>\n",
       "      <th>0</th>\n",
       "      <td>Male</td>\n",
       "      <td>Yes</td>\n",
       "      <td>Yes</td>\n",
       "    </tr>\n",
       "    <tr>\n",
       "      <th>1</th>\n",
       "      <td>Female</td>\n",
       "      <td>No</td>\n",
       "      <td>No</td>\n",
       "    </tr>\n",
       "  </tbody>\n",
       "</table>\n",
       "</div>"
      ],
      "text/plain": [
       "   Gender Married Loan_Status\n",
       "0    Male     Yes         Yes\n",
       "1  Female      No          No"
      ]
     },
     "execution_count": 18,
     "metadata": {},
     "output_type": "execute_result"
    }
   ],
   "source": [
    "# using drop_duplicates() method\n",
    "df.drop_duplicates(keep=\"first\",subset=[\"Gender\"]) "
   ]
  },
  {
   "cell_type": "code",
   "execution_count": 19,
   "id": "082f53af",
   "metadata": {},
   "outputs": [
    {
     "data": {
      "text/html": [
       "<div>\n",
       "<style scoped>\n",
       "    .dataframe tbody tr th:only-of-type {\n",
       "        vertical-align: middle;\n",
       "    }\n",
       "\n",
       "    .dataframe tbody tr th {\n",
       "        vertical-align: top;\n",
       "    }\n",
       "\n",
       "    .dataframe thead th {\n",
       "        text-align: right;\n",
       "    }\n",
       "</style>\n",
       "<table border=\"1\" class=\"dataframe\">\n",
       "  <thead>\n",
       "    <tr style=\"text-align: right;\">\n",
       "      <th></th>\n",
       "      <th>Gender</th>\n",
       "      <th>Married</th>\n",
       "      <th>Loan_Status</th>\n",
       "    </tr>\n",
       "  </thead>\n",
       "  <tbody>\n",
       "    <tr>\n",
       "      <th>0</th>\n",
       "      <td>Male</td>\n",
       "      <td>Yes</td>\n",
       "      <td>Yes</td>\n",
       "    </tr>\n",
       "    <tr>\n",
       "      <th>1</th>\n",
       "      <td>Female</td>\n",
       "      <td>No</td>\n",
       "      <td>No</td>\n",
       "    </tr>\n",
       "    <tr>\n",
       "      <th>2</th>\n",
       "      <td>Male</td>\n",
       "      <td>No</td>\n",
       "      <td>No</td>\n",
       "    </tr>\n",
       "  </tbody>\n",
       "</table>\n",
       "</div>"
      ],
      "text/plain": [
       "   Gender Married Loan_Status\n",
       "0    Male     Yes         Yes\n",
       "1  Female      No          No\n",
       "2    Male      No          No"
      ]
     },
     "execution_count": 19,
     "metadata": {},
     "output_type": "execute_result"
    }
   ],
   "source": [
    "df.drop_duplicates(keep=\"first\",subset=[\"Gender\",\"Married\"]) "
   ]
  },
  {
   "cell_type": "code",
   "execution_count": 24,
   "id": "5d357cd0",
   "metadata": {},
   "outputs": [],
   "source": [
    "import warnings\n",
    "warnings.filterwarnings('ignore')"
   ]
  },
  {
   "cell_type": "markdown",
   "id": "4e54c940",
   "metadata": {},
   "source": [
    "# date_range()"
   ]
  },
  {
   "cell_type": "code",
   "execution_count": 20,
   "id": "c8d23e65",
   "metadata": {},
   "outputs": [
    {
     "name": "stdout",
     "output_type": "stream",
     "text": [
      "DatetimeIndex(['2000-01-11', '2000-01-12', '2000-01-13', '2000-01-14',\n",
      "               '2000-01-15'],\n",
      "              dtype='datetime64[ns]', freq='D')\n"
     ]
    }
   ],
   "source": [
    "# Day wise     # freq='D'--->days\n",
    "print(pd.date_range('2000/1/11',periods=5))"
   ]
  },
  {
   "cell_type": "code",
   "execution_count": 21,
   "id": "f6bcb450",
   "metadata": {},
   "outputs": [
    {
     "name": "stdout",
     "output_type": "stream",
     "text": [
      "DatetimeIndex(['2022-03-20', '2022-03-21', '2022-03-22', '2022-03-23',\n",
      "               '2022-03-24'],\n",
      "              dtype='datetime64[ns]', freq='D')\n"
     ]
    }
   ],
   "source": [
    "print(pd.date_range('20/3/2022',periods=5))"
   ]
  },
  {
   "cell_type": "code",
   "execution_count": 22,
   "id": "ef759951",
   "metadata": {},
   "outputs": [
    {
     "name": "stdout",
     "output_type": "stream",
     "text": [
      "DatetimeIndex(['2000-01-11', '2000-01-12', '2000-01-13', '2000-01-14',\n",
      "               '2000-01-15'],\n",
      "              dtype='datetime64[ns]', freq='D')\n"
     ]
    }
   ],
   "source": [
    "print(pd.date_range('2000-1-11',periods=5))"
   ]
  },
  {
   "cell_type": "code",
   "execution_count": 25,
   "id": "0e37a06f",
   "metadata": {},
   "outputs": [
    {
     "name": "stdout",
     "output_type": "stream",
     "text": [
      "DatetimeIndex(['1994-05-31', '1994-06-30', '1994-07-31', '1994-08-31',\n",
      "               '1994-09-30'],\n",
      "              dtype='datetime64[ns]', freq='M')\n"
     ]
    }
   ],
   "source": [
    "# Month wise\n",
    "print(pd.date_range('23/05/1994',periods=5,freq='M'))"
   ]
  },
  {
   "cell_type": "code",
   "execution_count": 26,
   "id": "3e667fc3",
   "metadata": {},
   "outputs": [
    {
     "name": "stdout",
     "output_type": "stream",
     "text": [
      "DatetimeIndex(['2011-12-31', '2012-12-31', '2013-12-31', '2014-12-31',\n",
      "               '2015-12-31'],\n",
      "              dtype='datetime64[ns]', freq='A-DEC')\n"
     ]
    }
   ],
   "source": [
    "# year wise\n",
    "print(pd.date_range('1/1/2011',periods=5,freq='Y'))"
   ]
  },
  {
   "cell_type": "code",
   "execution_count": 27,
   "id": "16a812b8",
   "metadata": {},
   "outputs": [
    {
     "name": "stdout",
     "output_type": "stream",
     "text": [
      "DatetimeIndex(['2011-01-01 00:00:00', '2011-01-01 03:00:00',\n",
      "               '2011-01-01 06:00:00', '2011-01-01 09:00:00',\n",
      "               '2011-01-01 12:00:00'],\n",
      "              dtype='datetime64[ns]', freq='3H')\n"
     ]
    }
   ],
   "source": [
    "# Hour wise\n",
    "print(pd.date_range('1/1/2011',periods=5,freq='3H'))"
   ]
  },
  {
   "cell_type": "code",
   "execution_count": 29,
   "id": "8ffb9975",
   "metadata": {},
   "outputs": [
    {
     "name": "stdout",
     "output_type": "stream",
     "text": [
      "DatetimeIndex(['2011-01-01 00:00:00', '2011-01-01 00:10:00',\n",
      "               '2011-01-01 00:20:00', '2011-01-01 00:30:00',\n",
      "               '2011-01-01 00:40:00'],\n",
      "              dtype='datetime64[ns]', freq='10T')\n"
     ]
    }
   ],
   "source": [
    "# minutes wise\n",
    "print(pd.date_range('1/1/2011',periods=5,freq='10min'))"
   ]
  },
  {
   "cell_type": "code",
   "execution_count": 31,
   "id": "4268f6ca",
   "metadata": {},
   "outputs": [
    {
     "name": "stdout",
     "output_type": "stream",
     "text": [
      "DatetimeIndex(['2011-01-01 00:00:00', '2011-01-01 00:00:10',\n",
      "               '2011-01-01 00:00:20', '2011-01-01 00:00:30',\n",
      "               '2011-01-01 00:00:40'],\n",
      "              dtype='datetime64[ns]', freq='10S')\n"
     ]
    }
   ],
   "source": [
    "# seconds wise\n",
    "print(pd.date_range('1/1/2011',periods=5,freq='10s'))"
   ]
  },
  {
   "cell_type": "code",
   "execution_count": 32,
   "id": "3cc3d00a",
   "metadata": {},
   "outputs": [
    {
     "name": "stdout",
     "output_type": "stream",
     "text": [
      "Start:  2011-01-01 00:00:00\n",
      "Stop:  2011-01-20 00:00:00\n",
      "DatetimeIndex(['2011-01-01', '2011-01-02', '2011-01-03', '2011-01-04',\n",
      "               '2011-01-05', '2011-01-06', '2011-01-07', '2011-01-08',\n",
      "               '2011-01-09', '2011-01-10', '2011-01-11', '2011-01-12',\n",
      "               '2011-01-13', '2011-01-14', '2011-01-15', '2011-01-16',\n",
      "               '2011-01-17', '2011-01-18', '2011-01-19', '2011-01-20'],\n",
      "              dtype='datetime64[ns]', freq='D')\n"
     ]
    }
   ],
   "source": [
    "start=pd.datetime(2011, 1, 1)\n",
    "print('Start: ',start)\n",
    "\n",
    "end = pd.datetime(2011, 1, 20)\n",
    "print(\"Stop: \",end)\n",
    "\n",
    "print(pd.date_range(start,end)) "
   ]
  },
  {
   "cell_type": "code",
   "execution_count": 33,
   "id": "09149e82",
   "metadata": {},
   "outputs": [
    {
     "data": {
      "text/html": [
       "<div>\n",
       "<style scoped>\n",
       "    .dataframe tbody tr th:only-of-type {\n",
       "        vertical-align: middle;\n",
       "    }\n",
       "\n",
       "    .dataframe tbody tr th {\n",
       "        vertical-align: top;\n",
       "    }\n",
       "\n",
       "    .dataframe thead th {\n",
       "        text-align: right;\n",
       "    }\n",
       "</style>\n",
       "<table border=\"1\" class=\"dataframe\">\n",
       "  <thead>\n",
       "    <tr style=\"text-align: right;\">\n",
       "      <th></th>\n",
       "      <th>name</th>\n",
       "      <th>DoB</th>\n",
       "    </tr>\n",
       "  </thead>\n",
       "  <tbody>\n",
       "    <tr>\n",
       "      <th>0</th>\n",
       "      <td>Tom</td>\n",
       "      <td>08-05-1997</td>\n",
       "    </tr>\n",
       "    <tr>\n",
       "      <th>1</th>\n",
       "      <td>Andy</td>\n",
       "      <td>04-28-1996</td>\n",
       "    </tr>\n",
       "    <tr>\n",
       "      <th>2</th>\n",
       "      <td>Lucas</td>\n",
       "      <td>12/16/1995</td>\n",
       "    </tr>\n",
       "  </tbody>\n",
       "</table>\n",
       "</div>"
      ],
      "text/plain": [
       "    name         DoB\n",
       "0    Tom  08-05-1997\n",
       "1   Andy  04-28-1996\n",
       "2  Lucas  12/16/1995"
      ]
     },
     "execution_count": 33,
     "metadata": {},
     "output_type": "execute_result"
    }
   ],
   "source": [
    "df = pd.DataFrame({'name':['Tom','Andy','Lucas'],\n",
    "                  'DoB':['08-05-1997','04-28-1996','12/16/1995']})\n",
    "df "
   ]
  },
  {
   "cell_type": "code",
   "execution_count": 34,
   "id": "b00a7c96",
   "metadata": {},
   "outputs": [
    {
     "name": "stdout",
     "output_type": "stream",
     "text": [
      "<class 'pandas.core.frame.DataFrame'>\n",
      "RangeIndex: 3 entries, 0 to 2\n",
      "Data columns (total 2 columns):\n",
      " #   Column  Non-Null Count  Dtype \n",
      "---  ------  --------------  ----- \n",
      " 0   name    3 non-null      object\n",
      " 1   DoB     3 non-null      object\n",
      "dtypes: object(2)\n",
      "memory usage: 176.0+ bytes\n"
     ]
    }
   ],
   "source": [
    "df.info()"
   ]
  },
  {
   "cell_type": "code",
   "execution_count": 35,
   "id": "794d7963",
   "metadata": {},
   "outputs": [],
   "source": [
    "df['DoB']=pd.to_datetime(df['DoB']) "
   ]
  },
  {
   "cell_type": "code",
   "execution_count": 36,
   "id": "988559d8",
   "metadata": {},
   "outputs": [
    {
     "name": "stdout",
     "output_type": "stream",
     "text": [
      "<class 'pandas.core.frame.DataFrame'>\n",
      "RangeIndex: 3 entries, 0 to 2\n",
      "Data columns (total 2 columns):\n",
      " #   Column  Non-Null Count  Dtype         \n",
      "---  ------  --------------  -----         \n",
      " 0   name    3 non-null      object        \n",
      " 1   DoB     3 non-null      datetime64[ns]\n",
      "dtypes: datetime64[ns](1), object(1)\n",
      "memory usage: 176.0+ bytes\n"
     ]
    }
   ],
   "source": [
    "df.info()"
   ]
  },
  {
   "cell_type": "code",
   "execution_count": 39,
   "id": "92c6a820",
   "metadata": {},
   "outputs": [
    {
     "data": {
      "text/plain": [
       "0   1997-08-05\n",
       "1   1996-04-28\n",
       "2   1995-12-16\n",
       "Name: DoB, dtype: datetime64[ns]"
      ]
     },
     "execution_count": 39,
     "metadata": {},
     "output_type": "execute_result"
    }
   ],
   "source": [
    "df['DoB']"
   ]
  },
  {
   "cell_type": "code",
   "execution_count": 38,
   "id": "7180f94b",
   "metadata": {},
   "outputs": [
    {
     "data": {
      "text/plain": [
       "0    1997\n",
       "1    1996\n",
       "2    1995\n",
       "Name: DoB, dtype: int64"
      ]
     },
     "execution_count": 38,
     "metadata": {},
     "output_type": "execute_result"
    }
   ],
   "source": [
    "df['DoB'].dt.year # seperating years"
   ]
  },
  {
   "cell_type": "code",
   "execution_count": 40,
   "id": "fa6dcd0b",
   "metadata": {},
   "outputs": [
    {
     "data": {
      "text/plain": [
       "Timestamp('2023-03-01 10:14:38.432910')"
      ]
     },
     "execution_count": 40,
     "metadata": {},
     "output_type": "execute_result"
    }
   ],
   "source": [
    "today=pd.to_datetime('today')\n",
    "today "
   ]
  },
  {
   "cell_type": "code",
   "execution_count": 41,
   "id": "f8dcc995",
   "metadata": {},
   "outputs": [
    {
     "data": {
      "text/plain": [
       "2023"
      ]
     },
     "execution_count": 41,
     "metadata": {},
     "output_type": "execute_result"
    }
   ],
   "source": [
    "today=pd.to_datetime('today')\n",
    "today.year "
   ]
  },
  {
   "cell_type": "markdown",
   "id": "f368b068",
   "metadata": {},
   "source": [
    "# calculate age"
   ]
  },
  {
   "cell_type": "code",
   "execution_count": 42,
   "id": "3483b836",
   "metadata": {},
   "outputs": [
    {
     "data": {
      "text/plain": [
       "0    26\n",
       "1    27\n",
       "2    28\n",
       "Name: DoB, dtype: int64"
      ]
     },
     "execution_count": 42,
     "metadata": {},
     "output_type": "execute_result"
    }
   ],
   "source": [
    "today.year-df['DoB'].dt.year "
   ]
  },
  {
   "cell_type": "code",
   "execution_count": 43,
   "id": "19e7ac05",
   "metadata": {},
   "outputs": [
    {
     "data": {
      "text/plain": [
       "26"
      ]
     },
     "execution_count": 43,
     "metadata": {},
     "output_type": "execute_result"
    }
   ],
   "source": [
    "today.year-1997 "
   ]
  },
  {
   "cell_type": "code",
   "execution_count": 44,
   "id": "529da93b",
   "metadata": {},
   "outputs": [
    {
     "data": {
      "text/html": [
       "<div>\n",
       "<style scoped>\n",
       "    .dataframe tbody tr th:only-of-type {\n",
       "        vertical-align: middle;\n",
       "    }\n",
       "\n",
       "    .dataframe tbody tr th {\n",
       "        vertical-align: top;\n",
       "    }\n",
       "\n",
       "    .dataframe thead th {\n",
       "        text-align: right;\n",
       "    }\n",
       "</style>\n",
       "<table border=\"1\" class=\"dataframe\">\n",
       "  <thead>\n",
       "    <tr style=\"text-align: right;\">\n",
       "      <th></th>\n",
       "      <th>name</th>\n",
       "      <th>DoB</th>\n",
       "      <th>Age</th>\n",
       "    </tr>\n",
       "  </thead>\n",
       "  <tbody>\n",
       "    <tr>\n",
       "      <th>0</th>\n",
       "      <td>Tom</td>\n",
       "      <td>1997-08-05</td>\n",
       "      <td>26</td>\n",
       "    </tr>\n",
       "    <tr>\n",
       "      <th>1</th>\n",
       "      <td>Andy</td>\n",
       "      <td>1996-04-28</td>\n",
       "      <td>27</td>\n",
       "    </tr>\n",
       "    <tr>\n",
       "      <th>2</th>\n",
       "      <td>Lucas</td>\n",
       "      <td>1995-12-16</td>\n",
       "      <td>28</td>\n",
       "    </tr>\n",
       "  </tbody>\n",
       "</table>\n",
       "</div>"
      ],
      "text/plain": [
       "    name        DoB  Age\n",
       "0    Tom 1997-08-05   26\n",
       "1   Andy 1996-04-28   27\n",
       "2  Lucas 1995-12-16   28"
      ]
     },
     "execution_count": 44,
     "metadata": {},
     "output_type": "execute_result"
    }
   ],
   "source": [
    "df[\"Age\"]= today.year-df['DoB'].dt.year \n",
    "df "
   ]
  },
  {
   "cell_type": "code",
   "execution_count": 48,
   "id": "550d33dc",
   "metadata": {},
   "outputs": [
    {
     "data": {
      "text/plain": [
       "0     5\n",
       "1    28\n",
       "2    16\n",
       "Name: DoB, dtype: int64"
      ]
     },
     "execution_count": 48,
     "metadata": {},
     "output_type": "execute_result"
    }
   ],
   "source": [
    "df['DoB'].dt.day   "
   ]
  },
  {
   "cell_type": "markdown",
   "id": "76712de0",
   "metadata": {},
   "source": [
    "# sample "
   ]
  },
  {
   "cell_type": "code",
   "execution_count": 52,
   "id": "c1ac8e18",
   "metadata": {},
   "outputs": [
    {
     "data": {
      "text/html": [
       "<div>\n",
       "<style scoped>\n",
       "    .dataframe tbody tr th:only-of-type {\n",
       "        vertical-align: middle;\n",
       "    }\n",
       "\n",
       "    .dataframe tbody tr th {\n",
       "        vertical-align: top;\n",
       "    }\n",
       "\n",
       "    .dataframe thead th {\n",
       "        text-align: right;\n",
       "    }\n",
       "</style>\n",
       "<table border=\"1\" class=\"dataframe\">\n",
       "  <thead>\n",
       "    <tr style=\"text-align: right;\">\n",
       "      <th></th>\n",
       "      <th>Loan_ID</th>\n",
       "      <th>Gender</th>\n",
       "      <th>Married</th>\n",
       "      <th>Dependents</th>\n",
       "      <th>Education</th>\n",
       "      <th>Self_Employed</th>\n",
       "      <th>ApplicantIncome</th>\n",
       "      <th>CoapplicantIncome</th>\n",
       "      <th>LoanAmount</th>\n",
       "      <th>Loan_Amount_Term</th>\n",
       "      <th>Credit_History</th>\n",
       "      <th>Property_Area</th>\n",
       "      <th>Loan_Status</th>\n",
       "    </tr>\n",
       "  </thead>\n",
       "  <tbody>\n",
       "    <tr>\n",
       "      <th>0</th>\n",
       "      <td>LP001722</td>\n",
       "      <td>Male</td>\n",
       "      <td>Yes</td>\n",
       "      <td>0</td>\n",
       "      <td>Graduate</td>\n",
       "      <td>No</td>\n",
       "      <td>150</td>\n",
       "      <td>1800.0</td>\n",
       "      <td>135.0</td>\n",
       "      <td>360.0</td>\n",
       "      <td>1.0</td>\n",
       "      <td>Rural</td>\n",
       "      <td>N</td>\n",
       "    </tr>\n",
       "    <tr>\n",
       "      <th>1</th>\n",
       "      <td>LP002502</td>\n",
       "      <td>Female</td>\n",
       "      <td>Yes</td>\n",
       "      <td>2</td>\n",
       "      <td>Not Graduate</td>\n",
       "      <td>NaN</td>\n",
       "      <td>210</td>\n",
       "      <td>2917.0</td>\n",
       "      <td>98.0</td>\n",
       "      <td>360.0</td>\n",
       "      <td>1.0</td>\n",
       "      <td>Semiurban</td>\n",
       "      <td>Y</td>\n",
       "    </tr>\n",
       "    <tr>\n",
       "      <th>2</th>\n",
       "      <td>LP002949</td>\n",
       "      <td>Female</td>\n",
       "      <td>No</td>\n",
       "      <td>3+</td>\n",
       "      <td>Graduate</td>\n",
       "      <td>NaN</td>\n",
       "      <td>416</td>\n",
       "      <td>41667.0</td>\n",
       "      <td>350.0</td>\n",
       "      <td>180.0</td>\n",
       "      <td>NaN</td>\n",
       "      <td>Urban</td>\n",
       "      <td>N</td>\n",
       "    </tr>\n",
       "    <tr>\n",
       "      <th>3</th>\n",
       "      <td>LP002603</td>\n",
       "      <td>Female</td>\n",
       "      <td>No</td>\n",
       "      <td>0</td>\n",
       "      <td>Graduate</td>\n",
       "      <td>No</td>\n",
       "      <td>645</td>\n",
       "      <td>3683.0</td>\n",
       "      <td>113.0</td>\n",
       "      <td>480.0</td>\n",
       "      <td>1.0</td>\n",
       "      <td>Rural</td>\n",
       "      <td>Y</td>\n",
       "    </tr>\n",
       "    <tr>\n",
       "      <th>4</th>\n",
       "      <td>LP001644</td>\n",
       "      <td>NaN</td>\n",
       "      <td>Yes</td>\n",
       "      <td>0</td>\n",
       "      <td>Graduate</td>\n",
       "      <td>Yes</td>\n",
       "      <td>674</td>\n",
       "      <td>5296.0</td>\n",
       "      <td>168.0</td>\n",
       "      <td>360.0</td>\n",
       "      <td>1.0</td>\n",
       "      <td>Rural</td>\n",
       "      <td>Y</td>\n",
       "    </tr>\n",
       "    <tr>\n",
       "      <th>...</th>\n",
       "      <td>...</td>\n",
       "      <td>...</td>\n",
       "      <td>...</td>\n",
       "      <td>...</td>\n",
       "      <td>...</td>\n",
       "      <td>...</td>\n",
       "      <td>...</td>\n",
       "      <td>...</td>\n",
       "      <td>...</td>\n",
       "      <td>...</td>\n",
       "      <td>...</td>\n",
       "      <td>...</td>\n",
       "      <td>...</td>\n",
       "    </tr>\n",
       "    <tr>\n",
       "      <th>609</th>\n",
       "      <td>LP001640</td>\n",
       "      <td>Male</td>\n",
       "      <td>Yes</td>\n",
       "      <td>0</td>\n",
       "      <td>Graduate</td>\n",
       "      <td>Yes</td>\n",
       "      <td>39147</td>\n",
       "      <td>4750.0</td>\n",
       "      <td>120.0</td>\n",
       "      <td>360.0</td>\n",
       "      <td>1.0</td>\n",
       "      <td>Semiurban</td>\n",
       "      <td>Y</td>\n",
       "    </tr>\n",
       "    <tr>\n",
       "      <th>610</th>\n",
       "      <td>LP001536</td>\n",
       "      <td>Male</td>\n",
       "      <td>Yes</td>\n",
       "      <td>3+</td>\n",
       "      <td>Graduate</td>\n",
       "      <td>No</td>\n",
       "      <td>39999</td>\n",
       "      <td>0.0</td>\n",
       "      <td>600.0</td>\n",
       "      <td>180.0</td>\n",
       "      <td>0.0</td>\n",
       "      <td>Semiurban</td>\n",
       "      <td>Y</td>\n",
       "    </tr>\n",
       "    <tr>\n",
       "      <th>611</th>\n",
       "      <td>LP001585</td>\n",
       "      <td>NaN</td>\n",
       "      <td>Yes</td>\n",
       "      <td>3+</td>\n",
       "      <td>Graduate</td>\n",
       "      <td>No</td>\n",
       "      <td>51763</td>\n",
       "      <td>0.0</td>\n",
       "      <td>700.0</td>\n",
       "      <td>300.0</td>\n",
       "      <td>1.0</td>\n",
       "      <td>Urban</td>\n",
       "      <td>Y</td>\n",
       "    </tr>\n",
       "    <tr>\n",
       "      <th>612</th>\n",
       "      <td>LP002101</td>\n",
       "      <td>Male</td>\n",
       "      <td>Yes</td>\n",
       "      <td>0</td>\n",
       "      <td>Graduate</td>\n",
       "      <td>NaN</td>\n",
       "      <td>63337</td>\n",
       "      <td>0.0</td>\n",
       "      <td>490.0</td>\n",
       "      <td>180.0</td>\n",
       "      <td>1.0</td>\n",
       "      <td>Urban</td>\n",
       "      <td>Y</td>\n",
       "    </tr>\n",
       "    <tr>\n",
       "      <th>613</th>\n",
       "      <td>LP002317</td>\n",
       "      <td>Male</td>\n",
       "      <td>Yes</td>\n",
       "      <td>3+</td>\n",
       "      <td>Graduate</td>\n",
       "      <td>No</td>\n",
       "      <td>81000</td>\n",
       "      <td>0.0</td>\n",
       "      <td>360.0</td>\n",
       "      <td>360.0</td>\n",
       "      <td>0.0</td>\n",
       "      <td>Rural</td>\n",
       "      <td>N</td>\n",
       "    </tr>\n",
       "  </tbody>\n",
       "</table>\n",
       "<p>614 rows × 13 columns</p>\n",
       "</div>"
      ],
      "text/plain": [
       "      Loan_ID  Gender Married Dependents     Education Self_Employed  \\\n",
       "0    LP001722    Male     Yes          0      Graduate            No   \n",
       "1    LP002502  Female     Yes          2  Not Graduate           NaN   \n",
       "2    LP002949  Female      No         3+      Graduate           NaN   \n",
       "3    LP002603  Female      No          0      Graduate            No   \n",
       "4    LP001644     NaN     Yes          0      Graduate           Yes   \n",
       "..        ...     ...     ...        ...           ...           ...   \n",
       "609  LP001640    Male     Yes          0      Graduate           Yes   \n",
       "610  LP001536    Male     Yes         3+      Graduate            No   \n",
       "611  LP001585     NaN     Yes         3+      Graduate            No   \n",
       "612  LP002101    Male     Yes          0      Graduate           NaN   \n",
       "613  LP002317    Male     Yes         3+      Graduate            No   \n",
       "\n",
       "     ApplicantIncome  CoapplicantIncome  LoanAmount  Loan_Amount_Term  \\\n",
       "0                150             1800.0       135.0             360.0   \n",
       "1                210             2917.0        98.0             360.0   \n",
       "2                416            41667.0       350.0             180.0   \n",
       "3                645             3683.0       113.0             480.0   \n",
       "4                674             5296.0       168.0             360.0   \n",
       "..               ...                ...         ...               ...   \n",
       "609            39147             4750.0       120.0             360.0   \n",
       "610            39999                0.0       600.0             180.0   \n",
       "611            51763                0.0       700.0             300.0   \n",
       "612            63337                0.0       490.0             180.0   \n",
       "613            81000                0.0       360.0             360.0   \n",
       "\n",
       "     Credit_History Property_Area Loan_Status  \n",
       "0               1.0         Rural           N  \n",
       "1               1.0     Semiurban           Y  \n",
       "2               NaN         Urban           N  \n",
       "3               1.0         Rural           Y  \n",
       "4               1.0         Rural           Y  \n",
       "..              ...           ...         ...  \n",
       "609             1.0     Semiurban           Y  \n",
       "610             0.0     Semiurban           Y  \n",
       "611             1.0         Urban           Y  \n",
       "612             1.0         Urban           Y  \n",
       "613             0.0         Rural           N  \n",
       "\n",
       "[614 rows x 13 columns]"
      ]
     },
     "execution_count": 52,
     "metadata": {},
     "output_type": "execute_result"
    }
   ],
   "source": [
    "df=pd.read_csv(r\"C:/Users/sss/Downloads/loandata.csv\")\n",
    "df "
   ]
  },
  {
   "cell_type": "code",
   "execution_count": 55,
   "id": "c40f64df",
   "metadata": {},
   "outputs": [
    {
     "data": {
      "text/html": [
       "<div>\n",
       "<style scoped>\n",
       "    .dataframe tbody tr th:only-of-type {\n",
       "        vertical-align: middle;\n",
       "    }\n",
       "\n",
       "    .dataframe tbody tr th {\n",
       "        vertical-align: top;\n",
       "    }\n",
       "\n",
       "    .dataframe thead th {\n",
       "        text-align: right;\n",
       "    }\n",
       "</style>\n",
       "<table border=\"1\" class=\"dataframe\">\n",
       "  <thead>\n",
       "    <tr style=\"text-align: right;\">\n",
       "      <th></th>\n",
       "      <th>Loan_ID</th>\n",
       "      <th>Gender</th>\n",
       "      <th>Married</th>\n",
       "      <th>Dependents</th>\n",
       "      <th>Education</th>\n",
       "      <th>Self_Employed</th>\n",
       "      <th>ApplicantIncome</th>\n",
       "      <th>CoapplicantIncome</th>\n",
       "      <th>LoanAmount</th>\n",
       "      <th>Loan_Amount_Term</th>\n",
       "      <th>Credit_History</th>\n",
       "      <th>Property_Area</th>\n",
       "      <th>Loan_Status</th>\n",
       "    </tr>\n",
       "  </thead>\n",
       "  <tbody>\n",
       "    <tr>\n",
       "      <th>3</th>\n",
       "      <td>LP002603</td>\n",
       "      <td>Female</td>\n",
       "      <td>No</td>\n",
       "      <td>0</td>\n",
       "      <td>Graduate</td>\n",
       "      <td>No</td>\n",
       "      <td>645</td>\n",
       "      <td>3683.0</td>\n",
       "      <td>113.0</td>\n",
       "      <td>480.0</td>\n",
       "      <td>1.0</td>\n",
       "      <td>Rural</td>\n",
       "      <td>Y</td>\n",
       "    </tr>\n",
       "    <tr>\n",
       "      <th>215</th>\n",
       "      <td>LP001024</td>\n",
       "      <td>Male</td>\n",
       "      <td>Yes</td>\n",
       "      <td>2</td>\n",
       "      <td>Graduate</td>\n",
       "      <td>No</td>\n",
       "      <td>3200</td>\n",
       "      <td>700.0</td>\n",
       "      <td>70.0</td>\n",
       "      <td>360.0</td>\n",
       "      <td>1.0</td>\n",
       "      <td>Urban</td>\n",
       "      <td>Y</td>\n",
       "    </tr>\n",
       "    <tr>\n",
       "      <th>288</th>\n",
       "      <td>LP002571</td>\n",
       "      <td>Male</td>\n",
       "      <td>No</td>\n",
       "      <td>0</td>\n",
       "      <td>Not Graduate</td>\n",
       "      <td>No</td>\n",
       "      <td>3691</td>\n",
       "      <td>0.0</td>\n",
       "      <td>110.0</td>\n",
       "      <td>360.0</td>\n",
       "      <td>1.0</td>\n",
       "      <td>Rural</td>\n",
       "      <td>Y</td>\n",
       "    </tr>\n",
       "    <tr>\n",
       "      <th>6</th>\n",
       "      <td>LP002345</td>\n",
       "      <td>Male</td>\n",
       "      <td>Yes</td>\n",
       "      <td>0</td>\n",
       "      <td>Graduate</td>\n",
       "      <td>No</td>\n",
       "      <td>1025</td>\n",
       "      <td>2773.0</td>\n",
       "      <td>112.0</td>\n",
       "      <td>360.0</td>\n",
       "      <td>1.0</td>\n",
       "      <td>Rural</td>\n",
       "      <td>Y</td>\n",
       "    </tr>\n",
       "    <tr>\n",
       "      <th>79</th>\n",
       "      <td>LP001643</td>\n",
       "      <td>Male</td>\n",
       "      <td>Yes</td>\n",
       "      <td>0</td>\n",
       "      <td>Graduate</td>\n",
       "      <td>No</td>\n",
       "      <td>2383</td>\n",
       "      <td>2138.0</td>\n",
       "      <td>58.0</td>\n",
       "      <td>360.0</td>\n",
       "      <td>NaN</td>\n",
       "      <td>Rural</td>\n",
       "      <td>Y</td>\n",
       "    </tr>\n",
       "  </tbody>\n",
       "</table>\n",
       "</div>"
      ],
      "text/plain": [
       "      Loan_ID  Gender Married Dependents     Education Self_Employed  \\\n",
       "3    LP002603  Female      No          0      Graduate            No   \n",
       "215  LP001024    Male     Yes          2      Graduate            No   \n",
       "288  LP002571    Male      No          0  Not Graduate            No   \n",
       "6    LP002345    Male     Yes          0      Graduate            No   \n",
       "79   LP001643    Male     Yes          0      Graduate            No   \n",
       "\n",
       "     ApplicantIncome  CoapplicantIncome  LoanAmount  Loan_Amount_Term  \\\n",
       "3                645             3683.0       113.0             480.0   \n",
       "215             3200              700.0        70.0             360.0   \n",
       "288             3691                0.0       110.0             360.0   \n",
       "6               1025             2773.0       112.0             360.0   \n",
       "79              2383             2138.0        58.0             360.0   \n",
       "\n",
       "     Credit_History Property_Area Loan_Status  \n",
       "3               1.0         Rural           Y  \n",
       "215             1.0         Urban           Y  \n",
       "288             1.0         Rural           Y  \n",
       "6               1.0         Rural           Y  \n",
       "79              NaN         Rural           Y  "
      ]
     },
     "execution_count": 55,
     "metadata": {},
     "output_type": "execute_result"
    }
   ],
   "source": [
    "sample_data=df.sample(150) \n",
    "sample_data.head() "
   ]
  },
  {
   "cell_type": "markdown",
   "id": "89b2a26f",
   "metadata": {},
   "source": [
    "# saving data into local directory"
   ]
  },
  {
   "cell_type": "markdown",
   "id": "89708f3c",
   "metadata": {},
   "source": [
    "# to_csv"
   ]
  },
  {
   "cell_type": "code",
   "execution_count": 56,
   "id": "0b1b479f",
   "metadata": {},
   "outputs": [],
   "source": [
    "sample_data.to_csv(\"mydata.csv\")"
   ]
  },
  {
   "cell_type": "code",
   "execution_count": 58,
   "id": "38ebb3f3",
   "metadata": {},
   "outputs": [],
   "source": [
    "sample_data.to_csv(\"D:/SBT/mydata.csv\")"
   ]
  },
  {
   "cell_type": "code",
   "execution_count": 59,
   "id": "cc61fb4e",
   "metadata": {},
   "outputs": [
    {
     "data": {
      "text/plain": [
       "'C:\\\\Users\\\\sss\\\\Module-2'"
      ]
     },
     "execution_count": 59,
     "metadata": {},
     "output_type": "execute_result"
    }
   ],
   "source": [
    "pwd "
   ]
  },
  {
   "cell_type": "code",
   "execution_count": null,
   "id": "6c4ff834",
   "metadata": {},
   "outputs": [],
   "source": []
  }
 ],
 "metadata": {
  "kernelspec": {
   "display_name": "Python 3 (ipykernel)",
   "language": "python",
   "name": "python3"
  },
  "language_info": {
   "codemirror_mode": {
    "name": "ipython",
    "version": 3
   },
   "file_extension": ".py",
   "mimetype": "text/x-python",
   "name": "python",
   "nbconvert_exporter": "python",
   "pygments_lexer": "ipython3",
   "version": "3.9.13"
  }
 },
 "nbformat": 4,
 "nbformat_minor": 5
}
