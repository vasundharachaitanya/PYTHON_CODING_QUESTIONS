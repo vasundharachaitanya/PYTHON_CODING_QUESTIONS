{
 "cells": [
  {
   "cell_type": "markdown",
   "id": "f2232cba",
   "metadata": {},
   "source": [
    "# Regular Expression\n",
    "\n",
    "- RegEx is used to extract required data from the given text by writing some common pattern\n",
    "- It can apply only on text\\string data. "
   ]
  },
  {
   "cell_type": "markdown",
   "id": "ea3bbd27",
   "metadata": {},
   "source": [
    "### Regular Expression is of two types:\n",
    "1. Match Function\n",
    "2. Search Function"
   ]
  },
  {
   "cell_type": "markdown",
   "id": "d1eb5971",
   "metadata": {},
   "source": [
    "1. Match Function:This function determines if the RE matches at the beginning of the string.\n",
    "- syntax:re.match(pattern,string)\n",
    "- Pattern:this the regulor expression to be matched.\n",
    "- String:This is the string, which would be searched to match the pattern at the beginning of the string.\n",
    "2. Search Function:Scan through a string,looking for any location where this RE matches.\n",
    "- syntax:re.search(pattern,string)\n",
    "- Pattern:This is the regular expression to be matched.\n",
    "- string:This is the string,which would be searched to match the pattern at the beginning of the string."
   ]
  },
  {
   "cell_type": "code",
   "execution_count": 3,
   "id": "89a26bae",
   "metadata": {},
   "outputs": [],
   "source": [
    "import re "
   ]
  },
  {
   "cell_type": "code",
   "execution_count": 2,
   "id": "0fc8903a",
   "metadata": {},
   "outputs": [
    {
     "name": "stdout",
     "output_type": "stream",
     "text": [
      "<re.Match object; span=(0, 4), match='abcd'>\n"
     ]
    }
   ],
   "source": [
    "# match function\n",
    "pattern = r\"^abcd\"\n",
    "mystring = \"abcdef\"\n",
    "x=re.match(pattern,mystring)\n",
    "print(x) "
   ]
  },
  {
   "cell_type": "code",
   "execution_count": 4,
   "id": "1867be4b",
   "metadata": {},
   "outputs": [
    {
     "name": "stdout",
     "output_type": "stream",
     "text": [
      "The first whitespace :  2\n"
     ]
    }
   ],
   "source": [
    "# search function\n",
    "txt=\"we are learning python\"\n",
    "x=re.search(\"\\s\",txt)  # This expression is written for searching whitespace\n",
    "print(\"The first whitespace : \",x.start())  "
   ]
  },
  {
   "cell_type": "code",
   "execution_count": 5,
   "id": "8a8ca8a7",
   "metadata": {},
   "outputs": [
    {
     "name": "stdout",
     "output_type": "stream",
     "text": [
      "None\n"
     ]
    }
   ],
   "source": [
    "txt=\"The rain in hyderabad\"\n",
    "x=re.search(\"guntur\",txt)\n",
    "print(x) "
   ]
  },
  {
   "cell_type": "code",
   "execution_count": 5,
   "id": "fcef95b1",
   "metadata": {},
   "outputs": [],
   "source": [
    "a = \"Deep learining is the #$%^&* subset of 56678 Machine learning\" "
   ]
  },
  {
   "cell_type": "code",
   "execution_count": 6,
   "id": "8163bde2",
   "metadata": {},
   "outputs": [
    {
     "data": {
      "text/plain": [
       "' Deep learining is the  subset of 56678 Machine learning'"
      ]
     },
     "execution_count": 6,
     "metadata": {},
     "output_type": "execute_result"
    }
   ],
   "source": [
    "s = \" \"\n",
    "for i in a: \n",
    "    if i not in['#',\"$\",'%','^','&','*']:\n",
    "        s += i \n",
    "s                "
   ]
  },
  {
   "cell_type": "code",
   "execution_count": null,
   "id": "f7650767",
   "metadata": {},
   "outputs": [],
   "source": []
  },
  {
   "cell_type": "code",
   "execution_count": 1,
   "id": "aa293760",
   "metadata": {},
   "outputs": [],
   "source": [
    "text = \"Innomatics### is one of the ----- best institution in hyderabad????\""
   ]
  },
  {
   "cell_type": "code",
   "execution_count": 2,
   "id": "1256af80",
   "metadata": {},
   "outputs": [
    {
     "data": {
      "text/plain": [
       "67"
      ]
     },
     "execution_count": 2,
     "metadata": {},
     "output_type": "execute_result"
    }
   ],
   "source": [
    "len(text) "
   ]
  },
  {
   "cell_type": "code",
   "execution_count": null,
   "id": "e685dd0c",
   "metadata": {},
   "outputs": [],
   "source": [
    "a = \"123.456,789\"\n",
    "transaltion = str.maketrans(\",.\")"
   ]
  },
  {
   "cell_type": "code",
   "execution_count": 3,
   "id": "8441c4f7",
   "metadata": {},
   "outputs": [
    {
     "data": {
      "text/plain": [
       "' Innomatics is one of the  best institution in hyderabad'"
      ]
     },
     "execution_count": 3,
     "metadata": {},
     "output_type": "execute_result"
    }
   ],
   "source": [
    "s=\" \"\n",
    "for i in text:\n",
    "    if i not in['#','-','?']:\n",
    "        s += i \n",
    "s        "
   ]
  },
  {
   "cell_type": "code",
   "execution_count": 92,
   "id": "f795ec62",
   "metadata": {},
   "outputs": [
    {
     "data": {
      "text/plain": [
       "'Innomatics is one of the  best institution in hyderabad'"
      ]
     },
     "execution_count": 92,
     "metadata": {},
     "output_type": "execute_result"
    }
   ],
   "source": [
    "\"\".join([i for i in text if i not in ['#','-','?']]) "
   ]
  },
  {
   "cell_type": "code",
   "execution_count": 93,
   "id": "281e8183",
   "metadata": {},
   "outputs": [
    {
     "data": {
      "text/plain": [
       "'Innomatics is one of the  best institution in hyderabad'"
      ]
     },
     "execution_count": 93,
     "metadata": {},
     "output_type": "execute_result"
    }
   ],
   "source": [
    "a=text.replace(\"#\",\"\")\n",
    "b=a.replace(\"-\",\"\")\n",
    "b.replace(\"?\",\"\")"
   ]
  },
  {
   "cell_type": "code",
   "execution_count": 95,
   "id": "cbb22266",
   "metadata": {},
   "outputs": [
    {
     "data": {
      "text/plain": [
       "'Innomatics is one of the  best institution in hyderabad'"
      ]
     },
     "execution_count": 95,
     "metadata": {},
     "output_type": "execute_result"
    }
   ],
   "source": [
    "a=text.replace(\"#\",\"\").replace(\"-\",\"\").replace(\"?\",\"\") \n",
    "a "
   ]
  },
  {
   "cell_type": "code",
   "execution_count": 96,
   "id": "69b472f0",
   "metadata": {},
   "outputs": [
    {
     "data": {
      "text/plain": [
       "['Innomatics###',\n",
       " 'is',\n",
       " 'one',\n",
       " 'of',\n",
       " 'the',\n",
       " '-----',\n",
       " 'best',\n",
       " 'institution',\n",
       " 'in',\n",
       " 'hyderabad????']"
      ]
     },
     "execution_count": 96,
     "metadata": {},
     "output_type": "execute_result"
    }
   ],
   "source": [
    "text.split() "
   ]
  },
  {
   "cell_type": "markdown",
   "id": "5c0198cf",
   "metadata": {},
   "source": [
    "### Replace function():\n",
    "- Python regex offers sub() the subn() methods to search and replace patterns in a string.Using these methods we can replace one or more occurances of a regex pattern in the target string with a substitute string.\n",
    "- syntax:re.sub(pattern,repl,string) \n",
    "### substitution()\n",
    "-  'syntax' re.sub(old,new,text) "
   ]
  },
  {
   "cell_type": "code",
   "execution_count": 6,
   "id": "cc1fbfe4",
   "metadata": {},
   "outputs": [
    {
     "name": "stdout",
     "output_type": "stream",
     "text": [
      "Before Replace :  Learnvern provide free online training\n",
      "After Replace :  Learnvern python free online training\n"
     ]
    }
   ],
   "source": [
    "str1=\"Learnvern provide free online training\"\n",
    "print(\"Before Replace : \",str1)\n",
    "\n",
    "# After Replace the provide with python\n",
    "result=re.sub(r\"provide\",\"python\",str1)\n",
    "print(\"After Replace : \",result) "
   ]
  },
  {
   "cell_type": "code",
   "execution_count": 8,
   "id": "04864252",
   "metadata": {},
   "outputs": [
    {
     "name": "stdout",
     "output_type": "stream",
     "text": [
      "Before Replace :  Learnvern Provide Free Online Training\n",
      "After Replace :  L00000000 P000000 F000 O00000 T0000000\n"
     ]
    }
   ],
   "source": [
    "str1=\"Learnvern Provide Free Online Training\"\n",
    "print(\"Before Replace : \",str1)\n",
    "\n",
    "# After Replace the provide with python\n",
    "result=re.sub(r\"[a-z]\",\"0\",str1)\n",
    "print(\"After Replace : \",result)"
   ]
  },
  {
   "cell_type": "markdown",
   "id": "d33b691d",
   "metadata": {},
   "source": [
    "#### Differences between match() and search()\n",
    "- Both return the first match of a substring found in the string,but re.match() searches only from the beginning of the string and return match object if found.\n",
    "- while re.search() searches for the whole string even if the string contains multi-lines and tries to find a match of the substring in all the lines of string."
   ]
  },
  {
   "cell_type": "code",
   "execution_count": 97,
   "id": "8b4bf7e9",
   "metadata": {},
   "outputs": [
    {
     "data": {
      "text/plain": [
       "'Innomatics is one of the  best institution in hyderabad'"
      ]
     },
     "execution_count": 97,
     "metadata": {},
     "output_type": "execute_result"
    }
   ],
   "source": [
    "re.sub(\"[#-?]\",\"\",text) "
   ]
  },
  {
   "cell_type": "code",
   "execution_count": null,
   "id": "ca36318e",
   "metadata": {},
   "outputs": [],
   "source": []
  },
  {
   "cell_type": "code",
   "execution_count": 1,
   "id": "8c6fff37",
   "metadata": {},
   "outputs": [],
   "source": [
    "import re "
   ]
  },
  {
   "cell_type": "markdown",
   "id": "869cbc7d",
   "metadata": {},
   "source": [
    "# meta charecters\n",
    "- \\w - aplha numeric\n",
    "- \\W - special charecters\n",
    "- \\d - digits\\numbers\n",
    "- \\s - spaces\n",
    "- \\b - boundary\n",
    "- .  - \n",
    "- *\n",
    "- +\n",
    "- ^\n",
    "- ()\n",
    "- {}\n",
    "- []"
   ]
  },
  {
   "cell_type": "code",
   "execution_count": 35,
   "id": "37bcf169",
   "metadata": {},
   "outputs": [
    {
     "name": "stdout",
     "output_type": "stream",
     "text": [
      "['abbbbbb']\n"
     ]
    }
   ],
   "source": [
    "import re\n",
    "\n",
    "text = \"abbbbbbc\"\n",
    "matches = re.findall(r'ab{0,}', text)\n",
    "print(matches) "
   ]
  },
  {
   "cell_type": "code",
   "execution_count": 33,
   "id": "814ebcef",
   "metadata": {},
   "outputs": [
    {
     "name": "stdout",
     "output_type": "stream",
     "text": [
      "['ab']\n"
     ]
    }
   ],
   "source": [
    "import re\n",
    "\n",
    "text = \"abAAAAAA\"\n",
    "matches = re.findall(r'(ab)', text)\n",
    "print(matches)"
   ]
  },
  {
   "cell_type": "code",
   "execution_count": 28,
   "id": "807fbe36",
   "metadata": {},
   "outputs": [
    {
     "name": "stdout",
     "output_type": "stream",
     "text": [
      "['111', '11']\n"
     ]
    }
   ],
   "source": [
    "import re\n",
    "\n",
    "text = \"11122233311\"\n",
    "matches = re.findall(\"1+\", text)\n",
    "print(matches)  "
   ]
  },
  {
   "cell_type": "code",
   "execution_count": 21,
   "id": "4cb7bb0a",
   "metadata": {},
   "outputs": [
    {
     "name": "stdout",
     "output_type": "stream",
     "text": [
      "['a']\n"
     ]
    }
   ],
   "source": [
    "import re\n",
    "\n",
    "text = \"abbbbbc\"\n",
    "matches = re.findall(r'ac*', text)\n",
    "print(matches)    "
   ]
  },
  {
   "cell_type": "code",
   "execution_count": 2,
   "id": "20bada36",
   "metadata": {},
   "outputs": [
    {
     "data": {
      "text/plain": [
       "\"Python is 1234 an interpreted, object-oriented, high-level programming language with dynamic semantics. 5678 Its high-level built in data structures, combined with dynamic typing and dynamic binding, make it very attractive for Rapid Application Development, as well as for use as a scripting or glue language to connect existing components together. Python's simple, easy to learn syntax emphasizes readability and therefore reduces the cost of program maintenance. Python supports modules and packages, which encourages program modularity and code reuse. The Python interpreter and the extensive standard library are available in source or binary form without charge for all major platforms, and can be freely distributed.\\n\""
      ]
     },
     "execution_count": 2,
     "metadata": {},
     "output_type": "execute_result"
    }
   ],
   "source": [
    "text = \"\"\"Python is 1234 an interpreted, object-oriented, high-level programming language with dynamic semantics. 5678 Its high-level built in data structures, combined with dynamic typing and dynamic binding, make it very attractive for Rapid Application Development, as well as for use as a scripting or glue language to connect existing components together. Python's simple, easy to learn syntax emphasizes readability and therefore reduces the cost of program maintenance. Python supports modules and packages, which encourages program modularity and code reuse. The Python interpreter and the extensive standard library are available in source or binary form without charge for all major platforms, and can be freely distributed.\n",
    "\"\"\" \n",
    "text "
   ]
  },
  {
   "cell_type": "code",
   "execution_count": 3,
   "id": "00869123",
   "metadata": {},
   "outputs": [
    {
     "name": "stdout",
     "output_type": "stream",
     "text": [
      "['P', 'y', 't', 'h', 'o', 'n', ' ', 'i', 's', ' ', '1', '2', '3', '4', ' ', 'a', 'n', ' ', 'i', 'n', 't', 'e', 'r', 'p', 'r', 'e', 't', 'e', 'd', ',', ' ', 'o', 'b', 'j', 'e', 'c', 't', '-', 'o', 'r', 'i', 'e', 'n', 't', 'e', 'd', ',', ' ', 'h', 'i', 'g', 'h', '-', 'l', 'e', 'v', 'e', 'l', ' ', 'p', 'r', 'o', 'g', 'r', 'a', 'm', 'm', 'i', 'n', 'g', ' ', 'l', 'a', 'n', 'g', 'u', 'a', 'g', 'e', ' ', 'w', 'i', 't', 'h', ' ', 'd', 'y', 'n', 'a', 'm', 'i', 'c', ' ', 's', 'e', 'm', 'a', 'n', 't', 'i', 'c', 's', '.', ' ', '5', '6', '7', '8', ' ', 'I', 't', 's', ' ', 'h', 'i', 'g', 'h', '-', 'l', 'e', 'v', 'e', 'l', ' ', 'b', 'u', 'i', 'l', 't', ' ', 'i', 'n', ' ', 'd', 'a', 't', 'a', ' ', 's', 't', 'r', 'u', 'c', 't', 'u', 'r', 'e', 's', ',', ' ', 'c', 'o', 'm', 'b', 'i', 'n', 'e', 'd', ' ', 'w', 'i', 't', 'h', ' ', 'd', 'y', 'n', 'a', 'm', 'i', 'c', ' ', 't', 'y', 'p', 'i', 'n', 'g', ' ', 'a', 'n', 'd', ' ', 'd', 'y', 'n', 'a', 'm', 'i', 'c', ' ', 'b', 'i', 'n', 'd', 'i', 'n', 'g', ',', ' ', 'm', 'a', 'k', 'e', ' ', 'i', 't', ' ', 'v', 'e', 'r', 'y', ' ', 'a', 't', 't', 'r', 'a', 'c', 't', 'i', 'v', 'e', ' ', 'f', 'o', 'r', ' ', 'R', 'a', 'p', 'i', 'd', ' ', 'A', 'p', 'p', 'l', 'i', 'c', 'a', 't', 'i', 'o', 'n', ' ', 'D', 'e', 'v', 'e', 'l', 'o', 'p', 'm', 'e', 'n', 't', ',', ' ', 'a', 's', ' ', 'w', 'e', 'l', 'l', ' ', 'a', 's', ' ', 'f', 'o', 'r', ' ', 'u', 's', 'e', ' ', 'a', 's', ' ', 'a', ' ', 's', 'c', 'r', 'i', 'p', 't', 'i', 'n', 'g', ' ', 'o', 'r', ' ', 'g', 'l', 'u', 'e', ' ', 'l', 'a', 'n', 'g', 'u', 'a', 'g', 'e', ' ', 't', 'o', ' ', 'c', 'o', 'n', 'n', 'e', 'c', 't', ' ', 'e', 'x', 'i', 's', 't', 'i', 'n', 'g', ' ', 'c', 'o', 'm', 'p', 'o', 'n', 'e', 'n', 't', 's', ' ', 't', 'o', 'g', 'e', 't', 'h', 'e', 'r', '.', ' ', 'P', 'y', 't', 'h', 'o', 'n', \"'\", 's', ' ', 's', 'i', 'm', 'p', 'l', 'e', ',', ' ', 'e', 'a', 's', 'y', ' ', 't', 'o', ' ', 'l', 'e', 'a', 'r', 'n', ' ', 's', 'y', 'n', 't', 'a', 'x', ' ', 'e', 'm', 'p', 'h', 'a', 's', 'i', 'z', 'e', 's', ' ', 'r', 'e', 'a', 'd', 'a', 'b', 'i', 'l', 'i', 't', 'y', ' ', 'a', 'n', 'd', ' ', 't', 'h', 'e', 'r', 'e', 'f', 'o', 'r', 'e', ' ', 'r', 'e', 'd', 'u', 'c', 'e', 's', ' ', 't', 'h', 'e', ' ', 'c', 'o', 's', 't', ' ', 'o', 'f', ' ', 'p', 'r', 'o', 'g', 'r', 'a', 'm', ' ', 'm', 'a', 'i', 'n', 't', 'e', 'n', 'a', 'n', 'c', 'e', '.', ' ', 'P', 'y', 't', 'h', 'o', 'n', ' ', 's', 'u', 'p', 'p', 'o', 'r', 't', 's', ' ', 'm', 'o', 'd', 'u', 'l', 'e', 's', ' ', 'a', 'n', 'd', ' ', 'p', 'a', 'c', 'k', 'a', 'g', 'e', 's', ',', ' ', 'w', 'h', 'i', 'c', 'h', ' ', 'e', 'n', 'c', 'o', 'u', 'r', 'a', 'g', 'e', 's', ' ', 'p', 'r', 'o', 'g', 'r', 'a', 'm', ' ', 'm', 'o', 'd', 'u', 'l', 'a', 'r', 'i', 't', 'y', ' ', 'a', 'n', 'd', ' ', 'c', 'o', 'd', 'e', ' ', 'r', 'e', 'u', 's', 'e', '.', ' ', 'T', 'h', 'e', ' ', 'P', 'y', 't', 'h', 'o', 'n', ' ', 'i', 'n', 't', 'e', 'r', 'p', 'r', 'e', 't', 'e', 'r', ' ', 'a', 'n', 'd', ' ', 't', 'h', 'e', ' ', 'e', 'x', 't', 'e', 'n', 's', 'i', 'v', 'e', ' ', 's', 't', 'a', 'n', 'd', 'a', 'r', 'd', ' ', 'l', 'i', 'b', 'r', 'a', 'r', 'y', ' ', 'a', 'r', 'e', ' ', 'a', 'v', 'a', 'i', 'l', 'a', 'b', 'l', 'e', ' ', 'i', 'n', ' ', 's', 'o', 'u', 'r', 'c', 'e', ' ', 'o', 'r', ' ', 'b', 'i', 'n', 'a', 'r', 'y', ' ', 'f', 'o', 'r', 'm', ' ', 'w', 'i', 't', 'h', 'o', 'u', 't', ' ', 'c', 'h', 'a', 'r', 'g', 'e', ' ', 'f', 'o', 'r', ' ', 'a', 'l', 'l', ' ', 'm', 'a', 'j', 'o', 'r', ' ', 'p', 'l', 'a', 't', 'f', 'o', 'r', 'm', 's', ',', ' ', 'a', 'n', 'd', ' ', 'c', 'a', 'n', ' ', 'b', 'e', ' ', 'f', 'r', 'e', 'e', 'l', 'y', ' ', 'd', 'i', 's', 't', 'r', 'i', 'b', 'u', 't', 'e', 'd', '.', '\\n']\n"
     ]
    }
   ],
   "source": [
    "a=[]\n",
    "for i in text:\n",
    "    a.append(i)\n",
    "print(a)  "
   ]
  },
  {
   "cell_type": "code",
   "execution_count": 5,
   "id": "a47ef7ba",
   "metadata": {},
   "outputs": [],
   "source": [
    "# findall()\n",
    "# > syntax\n",
    "# re.findall(pattern,text)"
   ]
  },
  {
   "cell_type": "code",
   "execution_count": 6,
   "id": "c7cc5fd5",
   "metadata": {},
   "outputs": [
    {
     "name": "stdout",
     "output_type": "stream",
     "text": [
      "['P', 'y', 't', 'h', 'o', 'n', 'i', 's', '1', '2', '3', '4', 'a', 'n', 'i', 'n', 't', 'e', 'r', 'p', 'r', 'e', 't', 'e', 'd', 'o', 'b', 'j', 'e', 'c', 't', 'o', 'r', 'i', 'e', 'n', 't', 'e', 'd', 'h', 'i', 'g', 'h', 'l', 'e', 'v', 'e', 'l', 'p', 'r', 'o', 'g', 'r', 'a', 'm', 'm', 'i', 'n', 'g', 'l', 'a', 'n', 'g', 'u', 'a', 'g', 'e', 'w', 'i', 't', 'h', 'd', 'y', 'n', 'a', 'm', 'i', 'c', 's', 'e', 'm', 'a', 'n', 't', 'i', 'c', 's', '5', '6', '7', '8', 'I', 't', 's', 'h', 'i', 'g', 'h', 'l', 'e', 'v', 'e', 'l', 'b', 'u', 'i', 'l', 't', 'i', 'n', 'd', 'a', 't', 'a', 's', 't', 'r', 'u', 'c', 't', 'u', 'r', 'e', 's', 'c', 'o', 'm', 'b', 'i', 'n', 'e', 'd', 'w', 'i', 't', 'h', 'd', 'y', 'n', 'a', 'm', 'i', 'c', 't', 'y', 'p', 'i', 'n', 'g', 'a', 'n', 'd', 'd', 'y', 'n', 'a', 'm', 'i', 'c', 'b', 'i', 'n', 'd', 'i', 'n', 'g', 'm', 'a', 'k', 'e', 'i', 't', 'v', 'e', 'r', 'y', 'a', 't', 't', 'r', 'a', 'c', 't', 'i', 'v', 'e', 'f', 'o', 'r', 'R', 'a', 'p', 'i', 'd', 'A', 'p', 'p', 'l', 'i', 'c', 'a', 't', 'i', 'o', 'n', 'D', 'e', 'v', 'e', 'l', 'o', 'p', 'm', 'e', 'n', 't', 'a', 's', 'w', 'e', 'l', 'l', 'a', 's', 'f', 'o', 'r', 'u', 's', 'e', 'a', 's', 'a', 's', 'c', 'r', 'i', 'p', 't', 'i', 'n', 'g', 'o', 'r', 'g', 'l', 'u', 'e', 'l', 'a', 'n', 'g', 'u', 'a', 'g', 'e', 't', 'o', 'c', 'o', 'n', 'n', 'e', 'c', 't', 'e', 'x', 'i', 's', 't', 'i', 'n', 'g', 'c', 'o', 'm', 'p', 'o', 'n', 'e', 'n', 't', 's', 't', 'o', 'g', 'e', 't', 'h', 'e', 'r', 'P', 'y', 't', 'h', 'o', 'n', 's', 's', 'i', 'm', 'p', 'l', 'e', 'e', 'a', 's', 'y', 't', 'o', 'l', 'e', 'a', 'r', 'n', 's', 'y', 'n', 't', 'a', 'x', 'e', 'm', 'p', 'h', 'a', 's', 'i', 'z', 'e', 's', 'r', 'e', 'a', 'd', 'a', 'b', 'i', 'l', 'i', 't', 'y', 'a', 'n', 'd', 't', 'h', 'e', 'r', 'e', 'f', 'o', 'r', 'e', 'r', 'e', 'd', 'u', 'c', 'e', 's', 't', 'h', 'e', 'c', 'o', 's', 't', 'o', 'f', 'p', 'r', 'o', 'g', 'r', 'a', 'm', 'm', 'a', 'i', 'n', 't', 'e', 'n', 'a', 'n', 'c', 'e', 'P', 'y', 't', 'h', 'o', 'n', 's', 'u', 'p', 'p', 'o', 'r', 't', 's', 'm', 'o', 'd', 'u', 'l', 'e', 's', 'a', 'n', 'd', 'p', 'a', 'c', 'k', 'a', 'g', 'e', 's', 'w', 'h', 'i', 'c', 'h', 'e', 'n', 'c', 'o', 'u', 'r', 'a', 'g', 'e', 's', 'p', 'r', 'o', 'g', 'r', 'a', 'm', 'm', 'o', 'd', 'u', 'l', 'a', 'r', 'i', 't', 'y', 'a', 'n', 'd', 'c', 'o', 'd', 'e', 'r', 'e', 'u', 's', 'e', 'T', 'h', 'e', 'P', 'y', 't', 'h', 'o', 'n', 'i', 'n', 't', 'e', 'r', 'p', 'r', 'e', 't', 'e', 'r', 'a', 'n', 'd', 't', 'h', 'e', 'e', 'x', 't', 'e', 'n', 's', 'i', 'v', 'e', 's', 't', 'a', 'n', 'd', 'a', 'r', 'd', 'l', 'i', 'b', 'r', 'a', 'r', 'y', 'a', 'r', 'e', 'a', 'v', 'a', 'i', 'l', 'a', 'b', 'l', 'e', 'i', 'n', 's', 'o', 'u', 'r', 'c', 'e', 'o', 'r', 'b', 'i', 'n', 'a', 'r', 'y', 'f', 'o', 'r', 'm', 'w', 'i', 't', 'h', 'o', 'u', 't', 'c', 'h', 'a', 'r', 'g', 'e', 'f', 'o', 'r', 'a', 'l', 'l', 'm', 'a', 'j', 'o', 'r', 'p', 'l', 'a', 't', 'f', 'o', 'r', 'm', 's', 'a', 'n', 'd', 'c', 'a', 'n', 'b', 'e', 'f', 'r', 'e', 'e', 'l', 'y', 'd', 'i', 's', 't', 'r', 'i', 'b', 'u', 't', 'e', 'd']\n"
     ]
    }
   ],
   "source": [
    "print(re.findall(\"\\w\",text)) "
   ]
  },
  {
   "cell_type": "code",
   "execution_count": 6,
   "id": "3378fa2c",
   "metadata": {},
   "outputs": [
    {
     "name": "stdout",
     "output_type": "stream",
     "text": [
      "['Pyt', 'hon', 'int', 'erp', 'ret', 'obj', 'ect', 'ori', 'ent', 'hig', 'lev', 'pro', 'gra', 'mmi', 'lan', 'gua', 'wit', 'dyn', 'ami', 'sem', 'ant', 'ics', 'Its', 'hig', 'lev', 'bui', 'dat', 'str', 'uct', 'ure', 'com', 'bin', 'wit', 'dyn', 'ami', 'typ', 'ing', 'and', 'dyn', 'ami', 'bin', 'din', 'mak', 'ver', 'att', 'rac', 'tiv', 'for', 'Rap', 'App', 'lic', 'ati', 'Dev', 'elo', 'pme', 'wel', 'for', 'use', 'scr', 'ipt', 'ing', 'glu', 'lan', 'gua', 'con', 'nec', 'exi', 'sti', 'com', 'pon', 'ent', 'tog', 'eth', 'Pyt', 'hon', 'sim', 'ple', 'eas', 'lea', 'syn', 'tax', 'emp', 'has', 'ize', 'rea', 'dab', 'ili', 'and', 'the', 'ref', 'ore', 'red', 'uce', 'the', 'cos', 'pro', 'gra', 'mai', 'nte', 'nan', 'Pyt', 'hon', 'sup', 'por', 'mod', 'ule', 'and', 'pac', 'kag', 'whi', 'enc', 'our', 'age', 'pro', 'gra', 'mod', 'ula', 'rit', 'and', 'cod', 'reu', 'The', 'Pyt', 'hon', 'int', 'erp', 'ret', 'and', 'the', 'ext', 'ens', 'ive', 'sta', 'nda', 'lib', 'rar', 'are', 'ava', 'ila', 'ble', 'sou', 'rce', 'bin', 'ary', 'for', 'wit', 'hou', 'cha', 'rge', 'for', 'all', 'maj', 'pla', 'tfo', 'rms', 'and', 'can', 'fre', 'ely', 'dis', 'tri', 'but']\n"
     ]
    }
   ],
   "source": [
    "print(re.findall(\"\\w\\w\\w\",text))  "
   ]
  },
  {
   "cell_type": "code",
   "execution_count": 8,
   "id": "62f4213c",
   "metadata": {},
   "outputs": [
    {
     "name": "stdout",
     "output_type": "stream",
     "text": [
      "[' ', 'P', 'y', 't', 'h', 'o', 'n', ' ', 'i', 's', ' ', 'a', 'n', ' ', 'i', 'n', 't', 'e', 'r', 'p', 'r', 'e', 't', 'e', 'd', ',', ' ', 'o', 'b', 'j', 'e', 'c', 't', '-', 'o', 'r', 'i', 'e', 'n', 't', 'e', 'd', ',', ' ', 'h', 'i', 'g', 'h', '-', 'l', 'e', 'v', 'e', 'l', ' ', 'p', 'r', 'o', 'g', 'r', 'a', 'm', 'm', 'i', 'n', 'g', ' ', 'l', 'a', 'n', 'g', 'u', 'a', 'g', 'e', ' ', 'w', 'i', 't', 'h', ' ', 'd', 'y', 'n', 'a', 'm', 'i', 'c', ' ', 's', 'e', 'm', 'a', 'n', 't', 'i', 'c', 's', '.', ' ', 'I', 't', 's', ' ', 'h', 'i', 'g', 'h', '-', 'l', 'e', 'v', 'e', 'l', ' ', 'b', 'u', 'i', 'l', 't', ' ', 'i', 'n', ' ', 'd', 'a', 't', 'a', ' ', 's', 't', 'r', 'u', 'c', 't', 'u', 'r', 'e', 's', ',', ' ', 'c', 'o', 'm', 'b', 'i', 'n', 'e', 'd', ' ', 'w', 'i', 't', 'h', ' ', 'd', 'y', 'n', 'a', 'm', 'i', 'c', ' ', 't', 'y', 'p', 'i', 'n', 'g', ' ', 'a', 'n', 'd', ' ', 'd', 'y', 'n', 'a', 'm', 'i', 'c', ' ', 'b', 'i', 'n', 'd', 'i', 'n', 'g', ',', ' ', 'm', 'a', 'k', 'e', ' ', 'i', 't', ' ', 'v', 'e', 'r', 'y', ' ', 'a', 't', 't', 'r', 'a', 'c', 't', 'i', 'v', 'e', ' ', 'f', 'o', 'r', ' ', 'R', 'a', 'p', 'i', 'd', ' ', 'A', 'p', 'p', 'l', 'i', 'c', 'a', 't', 'i', 'o', 'n', ' ', 'D', 'e', 'v', 'e', 'l', 'o', 'p', 'm', 'e', 'n', 't', ',', ' ', 'a', 's', ' ', 'w', 'e', 'l', 'l', ' ', 'a', 's', ' ', 'f', 'o', 'r', ' ', 'u', 's', 'e', ' ', 'a', 's', ' ', 'a', ' ', 's', 'c', 'r', 'i', 'p', 't', 'i', 'n', 'g', ' ', 'o', 'r', ' ', 'g', 'l', 'u', 'e', ' ', 'l', 'a', 'n', 'g', 'u', 'a', 'g', 'e', ' ', 't', 'o', ' ', 'c', 'o', 'n', 'n', 'e', 'c', 't', ' ', 'e', 'x', 'i', 's', 't', 'i', 'n', 'g', ' ', 'c', 'o', 'm', 'p', 'o', 'n', 'e', 'n', 't', 's', ' ', 't', 'o', 'g', 'e', 't', 'h', 'e', 'r', '.', ' ', 'P', 'y', 't', 'h', 'o', 'n', \"'\", 's', ' ', 's', 'i', 'm', 'p', 'l', 'e', ',', ' ', 'e', 'a', 's', 'y', ' ', 't', 'o', ' ', 'l', 'e', 'a', 'r', 'n', ' ', 's', 'y', 'n', 't', 'a', 'x', ' ', 'e', 'm', 'p', 'h', 'a', 's', 'i', 'z', 'e', 's', ' ', 'r', 'e', 'a', 'd', 'a', 'b', 'i', 'l', 'i', 't', 'y', ' ', 'a', 'n', 'd', ' ', 't', 'h', 'e', 'r', 'e', 'f', 'o', 'r', 'e', ' ', 'r', 'e', 'd', 'u', 'c', 'e', 's', ' ', 't', 'h', 'e', ' ', 'c', 'o', 's', 't', ' ', 'o', 'f', ' ', 'p', 'r', 'o', 'g', 'r', 'a', 'm', ' ', 'm', 'a', 'i', 'n', 't', 'e', 'n', 'a', 'n', 'c', 'e', '.', ' ', 'P', 'y', 't', 'h', 'o', 'n', ' ', 's', 'u', 'p', 'p', 'o', 'r', 't', 's', ' ', 'm', 'o', 'd', 'u', 'l', 'e', 's', ' ', 'a', 'n', 'd', ' ', 'p', 'a', 'c', 'k', 'a', 'g', 'e', 's', ',', ' ', 'w', 'h', 'i', 'c', 'h', ' ', 'e', 'n', 'c', 'o', 'u', 'r', 'a', 'g', 'e', 's', ' ', 'p', 'r', 'o', 'g', 'r', 'a', 'm', ' ', 'm', 'o', 'd', 'u', 'l', 'a', 'r', 'i', 't', 'y', ' ', 'a', 'n', 'd', ' ', 'c', 'o', 'd', 'e', ' ', 'r', 'e', 'u', 's', 'e', '.', ' ', 'T', 'h', 'e', ' ', 'P', 'y', 't', 'h', 'o', 'n', ' ', 'i', 'n', 't', 'e', 'r', 'p', 'r', 'e', 't', 'e', 'r', ' ', 'a', 'n', 'd', ' ', 't', 'h', 'e', ' ', 'e', 'x', 't', 'e', 'n', 's', 'i', 'v', 'e', ' ', 's', 't', 'a', 'n', 'd', 'a', 'r', 'd', ' ', 'l', 'i', 'b', 'r', 'a', 'r', 'y', ' ', 'a', 'r', 'e', ' ', 'a', 'v', 'a', 'i', 'l', 'a', 'b', 'l', 'e', ' ', 'i', 'n', ' ', 's', 'o', 'u', 'r', 'c', 'e', ' ', 'o', 'r', ' ', 'b', 'i', 'n', 'a', 'r', 'y', ' ', 'f', 'o', 'r', 'm', ' ', 'w', 'i', 't', 'h', 'o', 'u', 't', ' ', 'c', 'h', 'a', 'r', 'g', 'e', ' ', 'f', 'o', 'r', ' ', 'a', 'l', 'l', ' ', 'm', 'a', 'j', 'o', 'r', ' ', 'p', 'l', 'a', 't', 'f', 'o', 'r', 'm', 's', ',', ' ', 'a', 'n', 'd', ' ', 'c', 'a', 'n', ' ', 'b', 'e', ' ', 'f', 'r', 'e', 'e', 'l', 'y', ' ', 'd', 'i', 's', 't', 'r', 'i', 'b', 'u', 't', 'e', 'd', '.']\n"
     ]
    }
   ],
   "source": [
    "print(re.findall(\".\",text)) "
   ]
  },
  {
   "cell_type": "code",
   "execution_count": 7,
   "id": "5f060f40",
   "metadata": {},
   "outputs": [
    {
     "name": "stdout",
     "output_type": "stream",
     "text": [
      "[' ', ' ', ' ', ' ', ',', ' ', '-', ',', ' ', '-', ' ', ' ', ' ', ' ', ' ', '.', ' ', ' ', '-', ' ', ' ', ' ', ' ', ',', ' ', ' ', ' ', ' ', ' ', ' ', ' ', ',', ' ', ' ', ' ', ' ', ' ', ' ', ' ', ' ', ',', ' ', ' ', ' ', ' ', ' ', ' ', ' ', ' ', ' ', ' ', ' ', ' ', ' ', ' ', ' ', ' ', '.', ' ', \"'\", ' ', ',', ' ', ' ', ' ', ' ', ' ', ' ', ' ', ' ', ' ', ' ', ' ', ' ', ' ', ' ', '.', ' ', ' ', ' ', ' ', ' ', ',', ' ', ' ', ' ', ' ', ' ', ' ', ' ', '.', ' ', ' ', ' ', ' ', ' ', ' ', ' ', ' ', ' ', ' ', ' ', ' ', ' ', ' ', ' ', ' ', ' ', ' ', ' ', ' ', ' ', ',', ' ', ' ', ' ', ' ', ' ', '.', '\\n']\n"
     ]
    }
   ],
   "source": [
    "print(re.findall(\"\\W\",text)) "
   ]
  },
  {
   "cell_type": "code",
   "execution_count": 36,
   "id": "33d049e2",
   "metadata": {},
   "outputs": [
    {
     "name": "stdout",
     "output_type": "stream",
     "text": [
      "[]\n"
     ]
    }
   ],
   "source": [
    "print(re.findall(\"\\d\",text)) "
   ]
  },
  {
   "cell_type": "code",
   "execution_count": 9,
   "id": "4c76b1c2",
   "metadata": {},
   "outputs": [
    {
     "name": "stdout",
     "output_type": "stream",
     "text": [
      "['Python', 'is', 'an', 'interpreted,', 'object-oriented,', 'high-level', 'programming', 'language', 'with', 'dynamic', 'semantics.', 'Its', 'high-level', 'built', 'in', 'data', 'structures,', 'combined', 'with', 'dynamic', 'typing', 'and', 'dynamic', 'binding,', 'make', 'it', 'very', 'attractive', 'for', 'Rapid', 'Application', 'Development,', 'as', 'well', 'as', 'for', 'use', 'as', 'a', 'scripting', 'or', 'glue', 'language', 'to', 'connect', 'existing', 'components', 'together.', \"Python's\", 'simple,', 'easy', 'to', 'learn', 'syntax', 'emphasizes', 'readability', 'and', 'therefore', 'reduces', 'the', 'cost', 'of', 'program', 'maintenance.', 'Python', 'supports', 'modules', 'and', 'packages,', 'which', 'encourages', 'program', 'modularity', 'and', 'code', 'reuse.', 'The', 'Python', 'interpreter', 'and', 'the', 'extensive', 'standard', 'library', 'are', 'available', 'in', 'source', 'or', 'binary', 'form', 'without', 'charge', 'for', 'all', 'major', 'platforms,', 'and', 'can', 'be', 'freely', 'distributed.']\n"
     ]
    }
   ],
   "source": [
    "print(text.split()) "
   ]
  },
  {
   "cell_type": "code",
   "execution_count": 10,
   "id": "2f850b3a",
   "metadata": {},
   "outputs": [
    {
     "name": "stdout",
     "output_type": "stream",
     "text": [
      "['Python', 'is', 'an', 'interpreted', 'object', 'oriented', 'high', 'level', 'programming', 'language', 'with', 'dynamic', 'semantics', 'Its', 'high', 'level', 'built', 'in', 'data', 'structures', 'combined', 'with', 'dynamic', 'typing', 'and', 'dynamic', 'binding', 'make', 'it', 'very', 'attractive', 'for', 'Rapid', 'Application', 'Development', 'as', 'well', 'as', 'for', 'use', 'as', 'a', 'scripting', 'or', 'glue', 'language', 'to', 'connect', 'existing', 'components', 'together', 'Python', 's', 'simple', 'easy', 'to', 'learn', 'syntax', 'emphasizes', 'readability', 'and', 'therefore', 'reduces', 'the', 'cost', 'of', 'program', 'maintenance', 'Python', 'supports', 'modules', 'and', 'packages', 'which', 'encourages', 'program', 'modularity', 'and', 'code', 'reuse', 'The', 'Python', 'interpreter', 'and', 'the', 'extensive', 'standard', 'library', 'are', 'available', 'in', 'source', 'or', 'binary', 'form', 'without', 'charge', 'for', 'all', 'major', 'platforms', 'and', 'can', 'be', 'freely', 'distributed']\n"
     ]
    }
   ],
   "source": [
    "print(re.findall(\"\\w+\",text))  # using regular expression"
   ]
  },
  {
   "cell_type": "code",
   "execution_count": 11,
   "id": "391d269b",
   "metadata": {},
   "outputs": [
    {
     "name": "stdout",
     "output_type": "stream",
     "text": [
      "['', 'Python', '', 'is', '', 'an', '', 'interpreted', '', '', 'object', '', 'oriented', '', '', 'high', '', 'level', '', 'programming', '', 'language', '', 'with', '', 'dynamic', '', 'semantics', '', '', 'Its', '', 'high', '', 'level', '', 'built', '', 'in', '', 'data', '', 'structures', '', '', 'combined', '', 'with', '', 'dynamic', '', 'typing', '', 'and', '', 'dynamic', '', 'binding', '', '', 'make', '', 'it', '', 'very', '', 'attractive', '', 'for', '', 'Rapid', '', 'Application', '', 'Development', '', '', 'as', '', 'well', '', 'as', '', 'for', '', 'use', '', 'as', '', 'a', '', 'scripting', '', 'or', '', 'glue', '', 'language', '', 'to', '', 'connect', '', 'existing', '', 'components', '', 'together', '', '', 'Python', '', 's', '', 'simple', '', '', 'easy', '', 'to', '', 'learn', '', 'syntax', '', 'emphasizes', '', 'readability', '', 'and', '', 'therefore', '', 'reduces', '', 'the', '', 'cost', '', 'of', '', 'program', '', 'maintenance', '', '', 'Python', '', 'supports', '', 'modules', '', 'and', '', 'packages', '', '', 'which', '', 'encourages', '', 'program', '', 'modularity', '', 'and', '', 'code', '', 'reuse', '', '', 'The', '', 'Python', '', 'interpreter', '', 'and', '', 'the', '', 'extensive', '', 'standard', '', 'library', '', 'are', '', 'available', '', 'in', '', 'source', '', 'or', '', 'binary', '', 'form', '', 'without', '', 'charge', '', 'for', '', 'all', '', 'major', '', 'platforms', '', '', 'and', '', 'can', '', 'be', '', 'freely', '', 'distributed', '', '', '']\n"
     ]
    }
   ],
   "source": [
    "print(re.findall(\"\\w*\",text)) # it will consider spaces also"
   ]
  },
  {
   "cell_type": "code",
   "execution_count": 16,
   "id": "f0b7419d",
   "metadata": {},
   "outputs": [
    {
     "name": "stdout",
     "output_type": "stream",
     "text": [
      "python\n",
      "programming\n",
      "python's\n",
      "program\n",
      "python\n",
      "packages,\n",
      "program\n",
      "python\n",
      "platforms,\n"
     ]
    }
   ],
   "source": [
    "# find the words starting with p/P\n",
    "for i in text.lower().split():\n",
    "    if i.startswith(\"p\"):\n",
    "        print(i) "
   ]
  },
  {
   "cell_type": "code",
   "execution_count": 17,
   "id": "b04c9106",
   "metadata": {},
   "outputs": [
    {
     "name": "stdout",
     "output_type": "stream",
     "text": [
      "python\n",
      "programming\n",
      "python's\n",
      "program\n",
      "python\n",
      "packages,\n",
      "program\n",
      "python\n",
      "platforms,\n"
     ]
    }
   ],
   "source": [
    "for i in text.lower().split():\n",
    "    if i[0]==\"p\":\n",
    "        print(i) "
   ]
  },
  {
   "cell_type": "code",
   "execution_count": 18,
   "id": "b29fb1eb",
   "metadata": {},
   "outputs": [
    {
     "data": {
      "text/plain": [
       "['preted',\n",
       " 'programming',\n",
       " 'ping',\n",
       " 'pid',\n",
       " 'pplication',\n",
       " 'pment',\n",
       " 'pting',\n",
       " 'ponents',\n",
       " 'ple',\n",
       " 'phasizes',\n",
       " 'program',\n",
       " 'pports',\n",
       " 'packages',\n",
       " 'program',\n",
       " 'preter',\n",
       " 'platforms']"
      ]
     },
     "execution_count": 18,
     "metadata": {},
     "output_type": "execute_result"
    }
   ],
   "source": [
    "re.findall(\"p\\w+\",text) "
   ]
  },
  {
   "cell_type": "code",
   "execution_count": 19,
   "id": "a206d3f4",
   "metadata": {},
   "outputs": [
    {
     "data": {
      "text/plain": [
       "['programming', 'program', 'packages', 'program', 'platforms']"
      ]
     },
     "execution_count": 19,
     "metadata": {},
     "output_type": "execute_result"
    }
   ],
   "source": [
    "re.findall(r\"\\bp\\w+\",text) #r-raw string #\\b-spaces boundary"
   ]
  },
  {
   "cell_type": "code",
   "execution_count": 21,
   "id": "470d6a7e",
   "metadata": {},
   "outputs": [
    {
     "data": {
      "text/plain": [
       "['Python',\n",
       " 'programming',\n",
       " 'semantics',\n",
       " 'structures',\n",
       " 'scripting',\n",
       " 'Python',\n",
       " 'simple',\n",
       " 'syntax',\n",
       " 'program',\n",
       " 'Python',\n",
       " 'supports',\n",
       " 'packages',\n",
       " 'program',\n",
       " 'Python',\n",
       " 'standard',\n",
       " 'source',\n",
       " 'platforms']"
      ]
     },
     "execution_count": 21,
     "metadata": {},
     "output_type": "execute_result"
    }
   ],
   "source": [
    "re.findall(r\"\\b[pPs]\\w+\",text) # if there are more than one condition use[] "
   ]
  },
  {
   "cell_type": "code",
   "execution_count": 24,
   "id": "3df74bdf",
   "metadata": {},
   "outputs": [
    {
     "data": {
      "text/plain": [
       "['Python', 'Python', 'Python', 'Python']"
      ]
     },
     "execution_count": 24,
     "metadata": {},
     "output_type": "execute_result"
    }
   ],
   "source": [
    "re.findall(r\"Python\",text) # syntax for only particular word"
   ]
  },
  {
   "cell_type": "code",
   "execution_count": 25,
   "id": "aa1505d2",
   "metadata": {},
   "outputs": [
    {
     "data": {
      "text/plain": [
       "['Python', 'Python', 'Python', 'Python']"
      ]
     },
     "execution_count": 25,
     "metadata": {},
     "output_type": "execute_result"
    }
   ],
   "source": [
    "re.findall(r\"[Pp]ython\",text) # for lower and upper case"
   ]
  },
  {
   "cell_type": "code",
   "execution_count": 28,
   "id": "b093e0cf",
   "metadata": {},
   "outputs": [
    {
     "data": {
      "text/plain": [
       "['is',\n",
       " 'an',\n",
       " 'interpreted',\n",
       " 'object',\n",
       " 'oriented',\n",
       " 'Its',\n",
       " 'in',\n",
       " 'and',\n",
       " 'it',\n",
       " 'attractive',\n",
       " 'Application',\n",
       " 'as',\n",
       " 'as',\n",
       " 'use',\n",
       " 'as',\n",
       " 'or',\n",
       " 'existing',\n",
       " 'easy',\n",
       " 'emphasizes',\n",
       " 'and',\n",
       " 'of',\n",
       " 'and',\n",
       " 'encourages',\n",
       " 'and',\n",
       " 'interpreter',\n",
       " 'and',\n",
       " 'extensive',\n",
       " 'are',\n",
       " 'available',\n",
       " 'in',\n",
       " 'or',\n",
       " 'all',\n",
       " 'and']"
      ]
     },
     "execution_count": 28,
     "metadata": {},
     "output_type": "execute_result"
    }
   ],
   "source": [
    "# finding the words start with vowel\n",
    "re.findall(r\"\\b[aeiouAEIOU]\\w+\",text)   "
   ]
  },
  {
   "cell_type": "code",
   "execution_count": 29,
   "id": "32ca5350",
   "metadata": {},
   "outputs": [
    {
     "data": {
      "text/plain": [
       "['Python',\n",
       " 'high',\n",
       " 'level',\n",
       " 'programming',\n",
       " 'language',\n",
       " 'with',\n",
       " 'dynamic',\n",
       " 'semantics',\n",
       " 'high',\n",
       " 'level',\n",
       " 'built',\n",
       " 'data',\n",
       " 'structures',\n",
       " 'combined',\n",
       " 'with',\n",
       " 'dynamic',\n",
       " 'typing',\n",
       " 'dynamic',\n",
       " 'binding',\n",
       " 'make',\n",
       " 'very',\n",
       " 'for',\n",
       " 'Rapid',\n",
       " 'Development',\n",
       " 'well',\n",
       " 'for',\n",
       " 'scripting',\n",
       " 'glue',\n",
       " 'language',\n",
       " 'to',\n",
       " 'connect',\n",
       " 'components',\n",
       " 'together',\n",
       " 'Python',\n",
       " 'simple',\n",
       " 'to',\n",
       " 'learn',\n",
       " 'syntax',\n",
       " 'readability',\n",
       " 'therefore',\n",
       " 'reduces',\n",
       " 'the',\n",
       " 'cost',\n",
       " 'program',\n",
       " 'maintenance',\n",
       " 'Python',\n",
       " 'supports',\n",
       " 'modules',\n",
       " 'packages',\n",
       " 'which',\n",
       " 'program',\n",
       " 'modularity',\n",
       " 'code',\n",
       " 'reuse',\n",
       " 'The',\n",
       " 'Python',\n",
       " 'the',\n",
       " 'standard',\n",
       " 'library',\n",
       " 'source',\n",
       " 'binary',\n",
       " 'form',\n",
       " 'without',\n",
       " 'charge',\n",
       " 'for',\n",
       " 'major',\n",
       " 'platforms',\n",
       " 'can',\n",
       " 'be',\n",
       " 'freely',\n",
       " 'distributed']"
      ]
     },
     "execution_count": 29,
     "metadata": {},
     "output_type": "execute_result"
    }
   ],
   "source": [
    "# finding words start with consonants other than vowels,spaces,special charecters\n",
    "re.findall(r\"\\b[^aeiouAEIOU\\s\\W]\\w+\",text) "
   ]
  },
  {
   "cell_type": "code",
   "execution_count": 31,
   "id": "6c88a231",
   "metadata": {},
   "outputs": [
    {
     "data": {
      "text/plain": [
       "['1', '2', '3', '4', '5', '6', '7', '8']"
      ]
     },
     "execution_count": 31,
     "metadata": {},
     "output_type": "execute_result"
    }
   ],
   "source": [
    "re.findall(r\"\\d\",text) # finding only numbers "
   ]
  },
  {
   "cell_type": "code",
   "execution_count": 32,
   "id": "c5c4f6b8",
   "metadata": {},
   "outputs": [
    {
     "data": {
      "text/plain": [
       "['1234', '5678']"
      ]
     },
     "execution_count": 32,
     "metadata": {},
     "output_type": "execute_result"
    }
   ],
   "source": [
    "re.findall(r\"\\d+\",text)  # finding only numbers as it is"
   ]
  },
  {
   "cell_type": "code",
   "execution_count": 33,
   "id": "bd502d5f",
   "metadata": {},
   "outputs": [
    {
     "data": {
      "text/plain": [
       "['an',\n",
       " 'dynamic',\n",
       " 'built',\n",
       " 'data',\n",
       " 'combined',\n",
       " 'dynamic',\n",
       " 'and',\n",
       " 'dynamic',\n",
       " 'binding',\n",
       " 'attractive',\n",
       " 'for',\n",
       " 'Application',\n",
       " 'Development',\n",
       " 'as',\n",
       " 'as',\n",
       " 'for',\n",
       " 'as',\n",
       " 'glue',\n",
       " 'connect',\n",
       " 'existing',\n",
       " 'components',\n",
       " 'easy',\n",
       " 'emphasizes',\n",
       " 'and',\n",
       " 'cost',\n",
       " 'and',\n",
       " 'encourages',\n",
       " 'and',\n",
       " 'code',\n",
       " 'and',\n",
       " 'extensive',\n",
       " 'are',\n",
       " 'available',\n",
       " 'binary',\n",
       " 'form',\n",
       " 'charge',\n",
       " 'for',\n",
       " 'all',\n",
       " 'and',\n",
       " 'can',\n",
       " 'be',\n",
       " 'freely',\n",
       " 'distributed']"
      ]
     },
     "execution_count": 33,
     "metadata": {},
     "output_type": "execute_result"
    }
   ],
   "source": [
    "# find the words starts with 'abcdefg'\n",
    "re.findall(r\"\\b[abcdefgABCDEFG]\\w+\",text)"
   ]
  },
  {
   "cell_type": "code",
   "execution_count": 34,
   "id": "ad1fb4b3",
   "metadata": {},
   "outputs": [
    {
     "data": {
      "text/plain": [
       "['an',\n",
       " 'dynamic',\n",
       " 'built',\n",
       " 'data',\n",
       " 'combined',\n",
       " 'dynamic',\n",
       " 'and',\n",
       " 'dynamic',\n",
       " 'binding',\n",
       " 'attractive',\n",
       " 'for',\n",
       " 'Application',\n",
       " 'Development',\n",
       " 'as',\n",
       " 'as',\n",
       " 'for',\n",
       " 'as',\n",
       " 'glue',\n",
       " 'connect',\n",
       " 'existing',\n",
       " 'components',\n",
       " 'easy',\n",
       " 'emphasizes',\n",
       " 'and',\n",
       " 'cost',\n",
       " 'and',\n",
       " 'encourages',\n",
       " 'and',\n",
       " 'code',\n",
       " 'and',\n",
       " 'extensive',\n",
       " 'are',\n",
       " 'available',\n",
       " 'binary',\n",
       " 'form',\n",
       " 'charge',\n",
       " 'for',\n",
       " 'all',\n",
       " 'and',\n",
       " 'can',\n",
       " 'be',\n",
       " 'freely',\n",
       " 'distributed']"
      ]
     },
     "execution_count": 34,
     "metadata": {},
     "output_type": "execute_result"
    }
   ],
   "source": [
    "re.findall(r\"\\b[a-gA-G]\\w+\",text) "
   ]
  },
  {
   "cell_type": "code",
   "execution_count": 48,
   "id": "85ec2f40",
   "metadata": {},
   "outputs": [
    {
     "name": "stdout",
     "output_type": "stream",
     "text": [
      "Enter a stringMy email is tarunkumar143@gmail.com\n",
      "['tarunkumar143@gmail.com']\n"
     ]
    }
   ],
   "source": [
    "email = input(\"Enter a string\")\n",
    "exp = re.findall(r\"\\w+@\\w+.\\w+\",email)\n",
    "print(exp) "
   ]
  },
  {
   "cell_type": "code",
   "execution_count": null,
   "id": "08d1102f",
   "metadata": {},
   "outputs": [],
   "source": []
  },
  {
   "cell_type": "code",
   "execution_count": null,
   "id": "71048cb2",
   "metadata": {},
   "outputs": [],
   "source": []
  },
  {
   "cell_type": "code",
   "execution_count": 45,
   "id": "1d537e12",
   "metadata": {},
   "outputs": [],
   "source": [
    "emails=\"My mail id is vasundhara.chaitanya@gmail.com and chaitu.arekatla@gmail.com\" \n",
    "#emails = \"My email is tarunkumar143@gmail.com\""
   ]
  },
  {
   "cell_type": "code",
   "execution_count": 46,
   "id": "f29b63d7",
   "metadata": {},
   "outputs": [
    {
     "data": {
      "text/plain": [
       "['chaitanya@gmail.com', 'arekatla@gmail.com']"
      ]
     },
     "execution_count": 46,
     "metadata": {},
     "output_type": "execute_result"
    }
   ],
   "source": [
    "re.findall(r\"\\w+@\\w+.\\w+\",emails) "
   ]
  },
  {
   "cell_type": "code",
   "execution_count": 47,
   "id": "c98827b8",
   "metadata": {},
   "outputs": [
    {
     "data": {
      "text/plain": [
       "['vasundhara.chaitanya@gmail.com', 'chaitu.arekatla@gmail.com']"
      ]
     },
     "execution_count": 47,
     "metadata": {},
     "output_type": "execute_result"
    }
   ],
   "source": [
    "re.findall(r\"\\w+.\\w+@\\w+.\\w+\",emails) # for getting before@ use \\w+ and after. use \\w+"
   ]
  },
  {
   "cell_type": "code",
   "execution_count": 49,
   "id": "af22dde9",
   "metadata": {},
   "outputs": [
    {
     "data": {
      "text/plain": [
       "['gmail', 'gmail']"
      ]
     },
     "execution_count": 49,
     "metadata": {},
     "output_type": "execute_result"
    }
   ],
   "source": [
    "#re.findall(r\"\\w+@(\\w+)\",emails) # only for domain names"
   ]
  },
  {
   "cell_type": "code",
   "execution_count": 50,
   "id": "b188e855",
   "metadata": {},
   "outputs": [
    {
     "data": {
      "text/plain": [
       "['gmail', 'gmail']"
      ]
     },
     "execution_count": 50,
     "metadata": {},
     "output_type": "execute_result"
    }
   ],
   "source": [
    "re.findall(r\"@(\\w+)\",emails)"
   ]
  },
  {
   "cell_type": "code",
   "execution_count": 51,
   "id": "2305a775",
   "metadata": {},
   "outputs": [
    {
     "data": {
      "text/plain": [
       "['com', 'com']"
      ]
     },
     "execution_count": 51,
     "metadata": {},
     "output_type": "execute_result"
    }
   ],
   "source": [
    "re.findall(r\"\\w+.\\w+@\\w+.(\\w+)\",emails) # only for extension "
   ]
  },
  {
   "cell_type": "code",
   "execution_count": 58,
   "id": "6e94a931",
   "metadata": {},
   "outputs": [
    {
     "data": {
      "text/plain": [
       "'My mobile number is 9985162233 and 0123456789'"
      ]
     },
     "execution_count": 58,
     "metadata": {},
     "output_type": "execute_result"
    }
   ],
   "source": [
    "mobile=\"My mobile number is 9985162233 and 0123456789\"\n",
    "mobile "
   ]
  },
  {
   "cell_type": "code",
   "execution_count": 57,
   "id": "01e2f4a6",
   "metadata": {},
   "outputs": [
    {
     "data": {
      "text/plain": [
       "['9985162233']"
      ]
     },
     "execution_count": 57,
     "metadata": {},
     "output_type": "execute_result"
    }
   ],
   "source": [
    "re.findall(r\"\\d{10}\",mobile) "
   ]
  },
  {
   "cell_type": "code",
   "execution_count": 59,
   "id": "63d70ec9",
   "metadata": {},
   "outputs": [
    {
     "data": {
      "text/plain": [
       "['9985162233']"
      ]
     },
     "execution_count": 59,
     "metadata": {},
     "output_type": "execute_result"
    }
   ],
   "source": [
    "re.findall(r\"\\b[6-9]\\d+\",mobile) "
   ]
  },
  {
   "cell_type": "code",
   "execution_count": 60,
   "id": "2295bb38",
   "metadata": {},
   "outputs": [
    {
     "data": {
      "text/plain": [
       "['9985162233']"
      ]
     },
     "execution_count": 60,
     "metadata": {},
     "output_type": "execute_result"
    }
   ],
   "source": [
    "re.findall(r\"\\b[6-9]{1}\\d{9}\",mobile) #{1} indicates 6-9 as first number "
   ]
  },
  {
   "cell_type": "code",
   "execution_count": 61,
   "id": "efb7924f",
   "metadata": {},
   "outputs": [
    {
     "data": {
      "text/plain": [
       "'My mobile number is 9985162233 and 0123456789 and 99851 62233 and 998 516 2233 and +919985162233 and 998-516-2233'"
      ]
     },
     "execution_count": 61,
     "metadata": {},
     "output_type": "execute_result"
    }
   ],
   "source": [
    "mobile=\"\"\"My mobile number is 9985162233 and 0123456789 and 99851 62233 and 998 516 2233 and +919985162233 and 998-516-2233\"\"\"\n",
    "mobile "
   ]
  },
  {
   "cell_type": "code",
   "execution_count": 66,
   "id": "ff4097ac",
   "metadata": {},
   "outputs": [
    {
     "data": {
      "text/plain": [
       "['998-516-2233']"
      ]
     },
     "execution_count": 66,
     "metadata": {},
     "output_type": "execute_result"
    }
   ],
   "source": [
    "re.findall(r\"\\b[6-9]{1}\\d{2}-\\d{3}-\\d{4}\",mobile) # getting 998-516-2233"
   ]
  },
  {
   "cell_type": "code",
   "execution_count": 70,
   "id": "c170a9e5",
   "metadata": {},
   "outputs": [
    {
     "data": {
      "text/plain": [
       "['+919985162233']"
      ]
     },
     "execution_count": 70,
     "metadata": {},
     "output_type": "execute_result"
    }
   ],
   "source": [
    "re.findall(r\"\\+91[6-9]{1}\\d+\",mobile)  # getting +91 following with mobile number "
   ]
  },
  {
   "cell_type": "code",
   "execution_count": 72,
   "id": "b3d7fd8b",
   "metadata": {},
   "outputs": [
    {
     "data": {
      "text/plain": [
       "['+919985162233']"
      ]
     },
     "execution_count": 72,
     "metadata": {},
     "output_type": "execute_result"
    }
   ],
   "source": [
    "re.findall(r\"\\+91[6-9]{1}\\d{9}\",mobile) "
   ]
  },
  {
   "cell_type": "code",
   "execution_count": 73,
   "id": "1d707189",
   "metadata": {},
   "outputs": [
    {
     "data": {
      "text/plain": [
       "['+919985162233']"
      ]
     },
     "execution_count": 73,
     "metadata": {},
     "output_type": "execute_result"
    }
   ],
   "source": [
    "re.findall(r\".91[6-9]{1}\\d{9}\",mobile) # \".\" means all"
   ]
  },
  {
   "cell_type": "code",
   "execution_count": 76,
   "id": "74abd2d5",
   "metadata": {},
   "outputs": [
    {
     "data": {
      "text/plain": [
       "['9985162233', '998 516 2233', '+919985162233', '998-516-2233']"
      ]
     },
     "execution_count": 76,
     "metadata": {},
     "output_type": "execute_result"
    }
   ],
   "source": [
    "# syntax for getting all formats at a time\n",
    "re.findall(r\"\\b[6-9]{1}\\d{9}|\\+91[6-9]{1}\\d{9}|[6-9]{1}\\d{2}-\\d{3}-\\d{4}|[6-9]{1}\\d{2}\\s\\d{3}\\s\\d{4}\",mobile) "
   ]
  },
  {
   "cell_type": "code",
   "execution_count": 77,
   "id": "a6b484c6",
   "metadata": {},
   "outputs": [],
   "source": [
    "a= 12345"
   ]
  },
  {
   "cell_type": "code",
   "execution_count": 81,
   "id": "6352d0a2",
   "metadata": {},
   "outputs": [
    {
     "data": {
      "text/plain": [
       "['3']"
      ]
     },
     "execution_count": 81,
     "metadata": {},
     "output_type": "execute_result"
    }
   ],
   "source": [
    "re.findall(\"3\",str(a)) # converting number into string"
   ]
  },
  {
   "cell_type": "code",
   "execution_count": 83,
   "id": "2742f7c4",
   "metadata": {},
   "outputs": [],
   "source": [
    "config=\"\"\"  Link-local IPv6 Address . . . . . : fe80::fa45:9d63:a724:2773%9\n",
    "   IPv4 Address. . . . . . . . . . . : 192.168.0.193\n",
    "   Subnet Mask . . . . . . . . . . . : 255.255.255.0\n",
    "   Default Gateway . . . . . . . . . : 192.168.0.1\"\"\" "
   ]
  },
  {
   "cell_type": "code",
   "execution_count": 87,
   "id": "51727473",
   "metadata": {},
   "outputs": [
    {
     "data": {
      "text/plain": [
       "['192.168.0.193', '255.255.255.0', '192.168.0.1']"
      ]
     },
     "execution_count": 87,
     "metadata": {},
     "output_type": "execute_result"
    }
   ],
   "source": [
    "re.findall(r\"\\b\\d+\\.\\d+\\.\\d+\\.\\d+\",config) "
   ]
  },
  {
   "cell_type": "code",
   "execution_count": 14,
   "id": "d6114b19",
   "metadata": {},
   "outputs": [
    {
     "data": {
      "text/plain": [
       "'\\ngood : yesterday movie was awesome\\nbad : One of the  worst movie \\ngood : yesterday movie was awesome\\nbad : One of the  worst movie \\ngood : yesterday movie was awesome\\nbad : One of the  worst movie \\ngood : yesterday movie was awesome\\nbad : One of the  worst movie\\n'"
      ]
     },
     "execution_count": 14,
     "metadata": {},
     "output_type": "execute_result"
    }
   ],
   "source": [
    "reviews=\"\"\"\n",
    "good : yesterday movie was awesome\n",
    "bad : One of the  worst movie \n",
    "good : yesterday movie was awesome\n",
    "bad : One of the  worst movie \n",
    "good : yesterday movie was awesome\n",
    "bad : One of the  worst movie \n",
    "good : yesterday movie was awesome\n",
    "bad : One of the  worst movie\n",
    "\"\"\"\n",
    "reviews "
   ]
  },
  {
   "cell_type": "code",
   "execution_count": 24,
   "id": "910ba17a",
   "metadata": {},
   "outputs": [
    {
     "data": {
      "text/plain": [
       "['good : yesterday movie was awesome',\n",
       " 'good : yesterday movie was awesome',\n",
       " 'good : yesterday movie was awesome',\n",
       " 'good : yesterday movie was awesome']"
      ]
     },
     "execution_count": 24,
     "metadata": {},
     "output_type": "execute_result"
    }
   ],
   "source": [
    "re.findall(r\"(good\\s:\\s.*)\\nbad\",reviews)         "
   ]
  },
  {
   "cell_type": "code",
   "execution_count": 25,
   "id": "250d06a1",
   "metadata": {},
   "outputs": [
    {
     "data": {
      "text/plain": [
       "['bad : One of the  worst movie ',\n",
       " 'bad : One of the  worst movie ',\n",
       " 'bad : One of the  worst movie ',\n",
       " 'bad : One of the  worst movie']"
      ]
     },
     "execution_count": 25,
     "metadata": {},
     "output_type": "execute_result"
    }
   ],
   "source": [
    "re.findall(r\"(bad\\s:\\s.*)\\n\",reviews)  "
   ]
  },
  {
   "cell_type": "markdown",
   "id": "c889c73f",
   "metadata": {},
   "source": [
    "### Match()"
   ]
  },
  {
   "cell_type": "code",
   "execution_count": 34,
   "id": "6c7a74d4",
   "metadata": {},
   "outputs": [
    {
     "data": {
      "text/plain": [
       "'Python is object oriented programming language'"
      ]
     },
     "execution_count": 34,
     "metadata": {},
     "output_type": "execute_result"
    }
   ],
   "source": [
    "data = \"Python is object oriented programming language\"\n",
    "data"
   ]
  },
  {
   "cell_type": "code",
   "execution_count": 35,
   "id": "3843152b",
   "metadata": {},
   "outputs": [
    {
     "data": {
      "text/plain": [
       "<re.Match object; span=(0, 6), match='Python'>"
      ]
     },
     "execution_count": 35,
     "metadata": {},
     "output_type": "execute_result"
    }
   ],
   "source": [
    "result=re.match(\"Python\",data)\n",
    "result "
   ]
  },
  {
   "cell_type": "code",
   "execution_count": 36,
   "id": "902a3b89",
   "metadata": {},
   "outputs": [
    {
     "data": {
      "text/plain": [
       "'Python'"
      ]
     },
     "execution_count": 36,
     "metadata": {},
     "output_type": "execute_result"
    }
   ],
   "source": [
    "result.group()"
   ]
  },
  {
   "cell_type": "code",
   "execution_count": 37,
   "id": "f7f15dda",
   "metadata": {},
   "outputs": [
    {
     "data": {
      "text/plain": [
       "0"
      ]
     },
     "execution_count": 37,
     "metadata": {},
     "output_type": "execute_result"
    }
   ],
   "source": [
    "result.start() "
   ]
  },
  {
   "cell_type": "code",
   "execution_count": 38,
   "id": "5c06d3c3",
   "metadata": {},
   "outputs": [
    {
     "data": {
      "text/plain": [
       "6"
      ]
     },
     "execution_count": 38,
     "metadata": {},
     "output_type": "execute_result"
    }
   ],
   "source": [
    "result.end() "
   ]
  },
  {
   "cell_type": "code",
   "execution_count": 39,
   "id": "7f71ac10",
   "metadata": {},
   "outputs": [],
   "source": [
    "result1 = re.match(\"object\",data) # match will returns only 0th index position charecters\n",
    "result1 "
   ]
  },
  {
   "cell_type": "markdown",
   "id": "24c318f1",
   "metadata": {},
   "source": [
    "### search()"
   ]
  },
  {
   "cell_type": "code",
   "execution_count": 40,
   "id": "46c9e1e3",
   "metadata": {},
   "outputs": [
    {
     "data": {
      "text/plain": [
       "<re.Match object; span=(0, 6), match='Python'>"
      ]
     },
     "execution_count": 40,
     "metadata": {},
     "output_type": "execute_result"
    }
   ],
   "source": [
    "res=re.search(\"Python\",data)\n",
    "res "
   ]
  },
  {
   "cell_type": "code",
   "execution_count": 41,
   "id": "18f62250",
   "metadata": {},
   "outputs": [
    {
     "data": {
      "text/plain": [
       "0"
      ]
     },
     "execution_count": 41,
     "metadata": {},
     "output_type": "execute_result"
    }
   ],
   "source": [
    "res.start() "
   ]
  },
  {
   "cell_type": "code",
   "execution_count": 42,
   "id": "4c269a78",
   "metadata": {},
   "outputs": [
    {
     "data": {
      "text/plain": [
       "6"
      ]
     },
     "execution_count": 42,
     "metadata": {},
     "output_type": "execute_result"
    }
   ],
   "source": [
    "res.end() "
   ]
  },
  {
   "cell_type": "code",
   "execution_count": 44,
   "id": "ab65a6aa",
   "metadata": {},
   "outputs": [
    {
     "data": {
      "text/plain": [
       "<re.Match object; span=(10, 16), match='object'>"
      ]
     },
     "execution_count": 44,
     "metadata": {},
     "output_type": "execute_result"
    }
   ],
   "source": [
    "res = re.search(\"object\",data) # search will returns all the values based on condition\n",
    "res "
   ]
  },
  {
   "cell_type": "markdown",
   "id": "37fd71c2",
   "metadata": {},
   "source": [
    "### sub()\n",
    "- syntax:re.sub(old,new,text) "
   ]
  },
  {
   "cell_type": "code",
   "execution_count": 45,
   "id": "375c2f33",
   "metadata": {},
   "outputs": [
    {
     "data": {
      "text/plain": [
       "'Python is object oriented programming language'"
      ]
     },
     "execution_count": 45,
     "metadata": {},
     "output_type": "execute_result"
    }
   ],
   "source": [
    "data "
   ]
  },
  {
   "cell_type": "code",
   "execution_count": 46,
   "id": "777f2768",
   "metadata": {},
   "outputs": [
    {
     "data": {
      "text/plain": [
       "'Python is general purpose programming language'"
      ]
     },
     "execution_count": 46,
     "metadata": {},
     "output_type": "execute_result"
    }
   ],
   "source": [
    "re.sub(\"object oriented\",\"general purpose\",data) # it will replace the values based on condition"
   ]
  },
  {
   "cell_type": "code",
   "execution_count": 49,
   "id": "f17b420b",
   "metadata": {},
   "outputs": [
    {
     "data": {
      "text/plain": [
       "'Pyth@n @s @bj@ct @r@@nt@d pr@gr@mm@ng l@ng@@g@'"
      ]
     },
     "execution_count": 49,
     "metadata": {},
     "output_type": "execute_result"
    }
   ],
   "source": [
    "re.sub(\"[aeiou]\",\"@\",data) "
   ]
  },
  {
   "cell_type": "markdown",
   "id": "918892ae",
   "metadata": {},
   "source": [
    "### split()"
   ]
  },
  {
   "cell_type": "code",
   "execution_count": 50,
   "id": "00e5c1a5",
   "metadata": {},
   "outputs": [
    {
     "data": {
      "text/plain": [
       "'Innomatics### is one of the ----- best institution in hyderabad????'"
      ]
     },
     "execution_count": 50,
     "metadata": {},
     "output_type": "execute_result"
    }
   ],
   "source": [
    "text = \"Innomatics### is one of the ----- best institution in hyderabad????\"\n",
    "text "
   ]
  },
  {
   "cell_type": "code",
   "execution_count": 51,
   "id": "f38a11ba",
   "metadata": {},
   "outputs": [
    {
     "data": {
      "text/plain": [
       "['Innomatics',\n",
       " '',\n",
       " '',\n",
       " ' is one of the ----- best institution in hyderabad????']"
      ]
     },
     "execution_count": 51,
     "metadata": {},
     "output_type": "execute_result"
    }
   ],
   "source": [
    "re.split(\"#\",text) "
   ]
  },
  {
   "cell_type": "code",
   "execution_count": 52,
   "id": "73c870a0",
   "metadata": {},
   "outputs": [
    {
     "data": {
      "text/plain": [
       "['Innomatics',\n",
       " '',\n",
       " '',\n",
       " ' is one of the ',\n",
       " '',\n",
       " '',\n",
       " '',\n",
       " '',\n",
       " ' best institution in hyderabad',\n",
       " '',\n",
       " '',\n",
       " '',\n",
       " '']"
      ]
     },
     "execution_count": 52,
     "metadata": {},
     "output_type": "execute_result"
    }
   ],
   "source": [
    "re.split(\"[#-?]\",text) "
   ]
  },
  {
   "cell_type": "code",
   "execution_count": null,
   "id": "aec7a066",
   "metadata": {},
   "outputs": [],
   "source": []
  }
 ],
 "metadata": {
  "kernelspec": {
   "display_name": "Python 3 (ipykernel)",
   "language": "python",
   "name": "python3"
  },
  "language_info": {
   "codemirror_mode": {
    "name": "ipython",
    "version": 3
   },
   "file_extension": ".py",
   "mimetype": "text/x-python",
   "name": "python",
   "nbconvert_exporter": "python",
   "pygments_lexer": "ipython3",
   "version": "3.9.13"
  }
 },
 "nbformat": 4,
 "nbformat_minor": 5
}
