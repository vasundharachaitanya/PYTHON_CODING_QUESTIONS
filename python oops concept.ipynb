{
 "cells": [
  {
   "cell_type": "markdown",
   "id": "c27b98bb",
   "metadata": {},
   "source": [
    "# Python object-oriented concept"
   ]
  },
  {
   "cell_type": "markdown",
   "id": "7f07f958",
   "metadata": {},
   "source": [
    "# oops concepts\n",
    "- class\n",
    "- object\n",
    "- Inheritence\n",
    "- polymorphism\n",
    "- Encapsulation"
   ]
  },
  {
   "cell_type": "markdown",
   "id": "45a3048a",
   "metadata": {},
   "source": [
    "# class"
   ]
  },
  {
   "cell_type": "code",
   "execution_count": 25,
   "id": "b1264af2",
   "metadata": {},
   "outputs": [],
   "source": [
    "class Dog:\n",
    "    \"\"\"This is a doc string for dog class\"\"\"\n",
    "    att1=\"attribute1\"\n",
    "    att2='attr2'\n",
    "    def bark(self):\n",
    "        print('bark')\n",
    "  # walk method\n",
    "    def walk(self):\n",
    "        print(\"Dog is walking\")\n",
    "\n",
    "  #  pass\n",
    "  #  pass"
   ]
  },
  {
   "cell_type": "code",
   "execution_count": 26,
   "id": "179e7ac5",
   "metadata": {},
   "outputs": [],
   "source": [
    "var=Dog()"
   ]
  },
  {
   "cell_type": "code",
   "execution_count": 27,
   "id": "d32bc5fb",
   "metadata": {},
   "outputs": [
    {
     "name": "stdout",
     "output_type": "stream",
     "text": [
      "Dog is walking\n"
     ]
    }
   ],
   "source": [
    "var.walk()"
   ]
  },
  {
   "cell_type": "code",
   "execution_count": null,
   "id": "b4349960",
   "metadata": {},
   "outputs": [],
   "source": []
  },
  {
   "cell_type": "code",
   "execution_count": 19,
   "id": "afe5b5df",
   "metadata": {},
   "outputs": [
    {
     "name": "stdout",
     "output_type": "stream",
     "text": [
      "bark\n"
     ]
    }
   ],
   "source": [
    "var.bark()"
   ]
  },
  {
   "cell_type": "code",
   "execution_count": 7,
   "id": "c13fc4c2",
   "metadata": {},
   "outputs": [
    {
     "data": {
      "text/plain": [
       "str"
      ]
     },
     "execution_count": 7,
     "metadata": {},
     "output_type": "execute_result"
    }
   ],
   "source": [
    "type('str')"
   ]
  },
  {
   "cell_type": "code",
   "execution_count": 11,
   "id": "735abbc7",
   "metadata": {},
   "outputs": [
    {
     "data": {
      "text/plain": [
       "str"
      ]
     },
     "execution_count": 11,
     "metadata": {},
     "output_type": "execute_result"
    }
   ],
   "source": [
    "str"
   ]
  },
  {
   "cell_type": "code",
   "execution_count": 24,
   "id": "aaec96e3",
   "metadata": {},
   "outputs": [
    {
     "data": {
      "text/plain": [
       "'attribute1'"
      ]
     },
     "execution_count": 24,
     "metadata": {},
     "output_type": "execute_result"
    }
   ],
   "source": [
    "var.att1"
   ]
  },
  {
   "cell_type": "code",
   "execution_count": 112,
   "id": "c3575d6f",
   "metadata": {},
   "outputs": [],
   "source": [
    "class Dog1():\n",
    "    def __init__(self,name): #self parameter is compulsory whether it is name or anything\n",
    "        self.name=name\n",
    "        self.legs=4\n",
    "        "
   ]
  },
  {
   "cell_type": "code",
   "execution_count": 114,
   "id": "afa3bdb8",
   "metadata": {},
   "outputs": [],
   "source": [
    "dog=Dog1(name='Labrador')"
   ]
  },
  {
   "cell_type": "code",
   "execution_count": 116,
   "id": "a68ee805",
   "metadata": {},
   "outputs": [
    {
     "data": {
      "text/plain": [
       "'Labrador'"
      ]
     },
     "execution_count": 116,
     "metadata": {},
     "output_type": "execute_result"
    }
   ],
   "source": [
    "dog1.name='Labrador'\n",
    "dog1.name"
   ]
  },
  {
   "cell_type": "code",
   "execution_count": 117,
   "id": "61302334",
   "metadata": {},
   "outputs": [],
   "source": [
    "dog2=Dog1(name='Husky')"
   ]
  },
  {
   "cell_type": "code",
   "execution_count": 120,
   "id": "a80a8b7f",
   "metadata": {},
   "outputs": [
    {
     "data": {
      "text/plain": [
       "'Husky'"
      ]
     },
     "execution_count": 120,
     "metadata": {},
     "output_type": "execute_result"
    }
   ],
   "source": [
    "dog2.name"
   ]
  },
  {
   "cell_type": "code",
   "execution_count": 30,
   "id": "3c81c77d",
   "metadata": {},
   "outputs": [],
   "source": [
    "class name_of_class():\n",
    "    def __init__(self,name,legs):\n",
    "        self.name=name\n",
    "        self.legs=4"
   ]
  },
  {
   "cell_type": "code",
   "execution_count": 31,
   "id": "7aab817b",
   "metadata": {},
   "outputs": [],
   "source": [
    "clas=name_of_class(name='Object',legs=3)"
   ]
  },
  {
   "cell_type": "code",
   "execution_count": 32,
   "id": "fb3dc9c8",
   "metadata": {},
   "outputs": [
    {
     "data": {
      "text/plain": [
       "3"
      ]
     },
     "execution_count": 32,
     "metadata": {},
     "output_type": "execute_result"
    }
   ],
   "source": [
    "clas.legs=3 \n",
    "clas.legs"
   ]
  },
  {
   "cell_type": "code",
   "execution_count": 40,
   "id": "074440ef",
   "metadata": {},
   "outputs": [],
   "source": [
    "class sparrow():\n",
    "    def __init__(self,name,legs):\n",
    "        self.name=name\n",
    "        self.legs=2\n",
    "    "
   ]
  },
  {
   "cell_type": "code",
   "execution_count": 43,
   "id": "154e830b",
   "metadata": {},
   "outputs": [],
   "source": [
    "clas=name_of_class(name='bird',legs=2)"
   ]
  },
  {
   "cell_type": "code",
   "execution_count": 56,
   "id": "e700c3b4",
   "metadata": {},
   "outputs": [
    {
     "data": {
      "text/plain": [
       "'bird'"
      ]
     },
     "execution_count": 56,
     "metadata": {},
     "output_type": "execute_result"
    }
   ],
   "source": [
    "clas.name\n"
   ]
  },
  {
   "cell_type": "code",
   "execution_count": 69,
   "id": "3900ebfd",
   "metadata": {},
   "outputs": [],
   "source": [
    "#SYntax\n",
    "class person:\n",
    "    def __init__(self,height,gender,age,name):\n",
    "        self.height=height\n",
    "        self.gender=gender\n",
    "        self.age=age\n",
    "        self.name=name\n",
    "    pass\n",
    "    "
   ]
  },
  {
   "cell_type": "code",
   "execution_count": 70,
   "id": "efaad776",
   "metadata": {},
   "outputs": [],
   "source": [
    "var1.name='chaitanya'"
   ]
  },
  {
   "cell_type": "code",
   "execution_count": 71,
   "id": "4fc7a679",
   "metadata": {},
   "outputs": [
    {
     "data": {
      "text/plain": [
       "'chaitanya'"
      ]
     },
     "execution_count": 71,
     "metadata": {},
     "output_type": "execute_result"
    }
   ],
   "source": [
    "var1.name"
   ]
  },
  {
   "cell_type": "code",
   "execution_count": 74,
   "id": "2c0abc86",
   "metadata": {},
   "outputs": [],
   "source": [
    "var1.age+=var1.age"
   ]
  },
  {
   "cell_type": "code",
   "execution_count": 75,
   "id": "d15424ed",
   "metadata": {},
   "outputs": [
    {
     "data": {
      "text/plain": [
       "'2525'"
      ]
     },
     "execution_count": 75,
     "metadata": {},
     "output_type": "execute_result"
    }
   ],
   "source": [
    "var1.age"
   ]
  },
  {
   "cell_type": "code",
   "execution_count": 72,
   "id": "0e944725",
   "metadata": {},
   "outputs": [
    {
     "name": "stdout",
     "output_type": "stream",
     "text": [
      "name of the person is vasundhara\n",
      " \n",
      "age of the person is25\n",
      " gender of the person isF\n",
      " height of the person is5:3\n"
     ]
    }
   ],
   "source": [
    "var1=person(height='5:3',gender='F',name='vasundhara',age='25')\n",
    "print(f'''name of the person is {var1.name}\\n \n",
    "age of the person is{var1.age}\\n gender of the person is{var1.gender}\\n height of the person is{var1.height}''')"
   ]
  },
  {
   "cell_type": "code",
   "execution_count": 47,
   "id": "499797ae",
   "metadata": {},
   "outputs": [],
   "source": [
    "class practicise:\n",
    "    pass"
   ]
  },
  {
   "cell_type": "code",
   "execution_count": 48,
   "id": "b90bdd53",
   "metadata": {},
   "outputs": [],
   "source": [
    "class class_name:\n",
    "    \"\"\"\n",
    "    statement1\n",
    "    statement2\n",
    "    statement3\n",
    "    \"\"\"\n",
    "    pass"
   ]
  },
  {
   "cell_type": "markdown",
   "id": "fdb41a39",
   "metadata": {},
   "source": [
    "# objects"
   ]
  },
  {
   "cell_type": "code",
   "execution_count": 1,
   "id": "48038f0c",
   "metadata": {},
   "outputs": [
    {
     "name": "stdout",
     "output_type": "stream",
     "text": [
      "dog is not barking\n"
     ]
    }
   ],
   "source": [
    "class dog():\n",
    "    def __init__(self):\n",
    "        self.name='Dog'\n",
    "    def bark(bone):\n",
    "       # self.name='dog'\n",
    "        if bone==True:\n",
    "            print(f'dog is barking')\n",
    "        else:\n",
    "            print('dog is not barking')\n",
    "            \n",
    "            \n",
    "Dog=dog()\n",
    "dog.bark(bone=False) "
   ]
  },
  {
   "cell_type": "code",
   "execution_count": 86,
   "id": "7fb416d3",
   "metadata": {},
   "outputs": [
    {
     "name": "stdout",
     "output_type": "stream",
     "text": [
      "dog is not sitting\n"
     ]
    }
   ],
   "source": [
    "class dog():\n",
    "    def __init__(self):\n",
    "        self.name='Dog'\n",
    "    def bark(bone):\n",
    "       # self.name='dog'\n",
    "        if bone==True:\n",
    "            print(f'dog is sitting')\n",
    "        else:\n",
    "            print('dog is not sitting')\n",
    "            \n",
    "            \n",
    "Dog=dog()\n",
    "dog.bark(bone=False)"
   ]
  },
  {
   "cell_type": "code",
   "execution_count": 89,
   "id": "4345449e",
   "metadata": {},
   "outputs": [
    {
     "name": "stdout",
     "output_type": "stream",
     "text": [
      "point(1,2)\n",
      "point(3,4)\n"
     ]
    }
   ],
   "source": [
    "class Point:\n",
    "    def __init__(self,x,y):\n",
    "        self.x=x\n",
    "        self.y=y\n",
    "    def __str__(self):\n",
    "        return 'point({},{})'.format(self.x,self.y)#f\"Point({self.x},{self.y}) we can use this also\n",
    "    def object1():\n",
    "        pass\n",
    "p1=Point(1,2)\n",
    "p2=Point(3,4)\n",
    "print(p1)\n",
    "print(p2)"
   ]
  },
  {
   "cell_type": "code",
   "execution_count": 91,
   "id": "bcbb027e",
   "metadata": {},
   "outputs": [],
   "source": [
    "## bank management system\n"
   ]
  },
  {
   "cell_type": "code",
   "execution_count": 97,
   "id": "64c560b1",
   "metadata": {},
   "outputs": [],
   "source": [
    "class BankAccount:\n",
    "    def __init__(self,name,balance):\n",
    "        self.name=name\n",
    "        self.balance=balance\n",
    "    def deposit(self,amount):\n",
    "        if amount<0:\n",
    "            raise ValueError(\"trying to withdraw\")\n",
    "        else:\n",
    "            self.balance += amount\n",
    "    def withdraw(self,amount):\n",
    "        if amount> self.balance:\n",
    "            raise ArthimaticError(\"Insufficient balance\")\n",
    "        else:\n",
    "            self.balance -= amount\n",
    "    def __str__(self):\n",
    "        return f\"{self.name}'s account balance:${self.balance}\"\n",
    "    "
   ]
  },
  {
   "cell_type": "code",
   "execution_count": 98,
   "id": "b8bf9e8d",
   "metadata": {},
   "outputs": [],
   "source": [
    "acc1=BankAccount(name='chaitanya',balance=50000)"
   ]
  },
  {
   "cell_type": "code",
   "execution_count": 99,
   "id": "0cca322e",
   "metadata": {},
   "outputs": [
    {
     "data": {
      "text/plain": [
       "50000"
      ]
     },
     "execution_count": 99,
     "metadata": {},
     "output_type": "execute_result"
    }
   ],
   "source": [
    "acc1.balance"
   ]
  },
  {
   "cell_type": "code",
   "execution_count": 100,
   "id": "1e744f51",
   "metadata": {},
   "outputs": [],
   "source": [
    "acc1.deposit(200000)"
   ]
  },
  {
   "cell_type": "code",
   "execution_count": 101,
   "id": "e04f99bb",
   "metadata": {},
   "outputs": [
    {
     "data": {
      "text/plain": [
       "250000"
      ]
     },
     "execution_count": 101,
     "metadata": {},
     "output_type": "execute_result"
    }
   ],
   "source": [
    "acc1.balance"
   ]
  },
  {
   "cell_type": "code",
   "execution_count": 104,
   "id": "af5bbf3a",
   "metadata": {},
   "outputs": [],
   "source": [
    "acc1.withdraw(50000)"
   ]
  },
  {
   "cell_type": "code",
   "execution_count": 105,
   "id": "1ccbf3ce",
   "metadata": {},
   "outputs": [
    {
     "data": {
      "text/plain": [
       "200000"
      ]
     },
     "execution_count": 105,
     "metadata": {},
     "output_type": "execute_result"
    }
   ],
   "source": [
    "acc1.balance"
   ]
  },
  {
   "cell_type": "code",
   "execution_count": null,
   "id": "ad6c9d6d",
   "metadata": {},
   "outputs": [],
   "source": []
  },
  {
   "cell_type": "code",
   "execution_count": null,
   "id": "2891bae6",
   "metadata": {},
   "outputs": [],
   "source": [
    "# create a calculator to add div and multiply two value\n",
    "class calculator:\n",
    "    \"\"\"This is a class for calculator\"\"\"\n",
    "    def __init__(self):\n",
    "        self.var1=0\n",
    "        self.var2=0\n",
    "        "
   ]
  },
  {
   "cell_type": "code",
   "execution_count": 28,
   "id": "c9496d46",
   "metadata": {},
   "outputs": [],
   "source": [
    "class cat:\n",
    "    \"\"\"Message\"\"\"\n",
    "    \n",
    "    def meow(self):\n",
    "        print('meow')"
   ]
  },
  {
   "cell_type": "code",
   "execution_count": 29,
   "id": "99aa4b7b",
   "metadata": {},
   "outputs": [],
   "source": [
    "Catt=cat()"
   ]
  },
  {
   "cell_type": "code",
   "execution_count": 30,
   "id": "b4ebaa5d",
   "metadata": {},
   "outputs": [
    {
     "name": "stdout",
     "output_type": "stream",
     "text": [
      "meow\n"
     ]
    }
   ],
   "source": [
    "Catt.meow()"
   ]
  },
  {
   "cell_type": "code",
   "execution_count": 31,
   "id": "e1ce1b7b",
   "metadata": {},
   "outputs": [],
   "source": [
    "class tiger:\n",
    "    \"\"\"Tiger is my favorite animal\"\"\"\n",
    "    \n",
    "    def Tiger(self):\n",
    "        print(\"tiger is sleeping\")"
   ]
  },
  {
   "cell_type": "code",
   "execution_count": 33,
   "id": "41602830",
   "metadata": {},
   "outputs": [],
   "source": [
    "Tiger1=tiger()"
   ]
  },
  {
   "cell_type": "code",
   "execution_count": 34,
   "id": "660e9984",
   "metadata": {},
   "outputs": [
    {
     "name": "stdout",
     "output_type": "stream",
     "text": [
      "tiger is sleeping\n"
     ]
    }
   ],
   "source": [
    "Tiger1.Tiger()"
   ]
  },
  {
   "cell_type": "code",
   "execution_count": 63,
   "id": "84688654",
   "metadata": {},
   "outputs": [],
   "source": [
    "class dog:\n",
    "    def __init__(self,name,breed):\n",
    "        self.legs=4\n",
    "        self.tail=1\n",
    "        self.name=name\n",
    "        self.breed=breed\n",
    "        \n",
    "    def bark(self):\n",
    "        print('bark')"
   ]
  },
  {
   "cell_type": "code",
   "execution_count": 64,
   "id": "57c9147c",
   "metadata": {},
   "outputs": [],
   "source": [
    "dog(name=None,breed=None).legs=2"
   ]
  },
  {
   "cell_type": "code",
   "execution_count": 65,
   "id": "ca3fab39",
   "metadata": {},
   "outputs": [],
   "source": [
    "Dog=dog(name='Alsacian',breed='Husky')"
   ]
  },
  {
   "cell_type": "code",
   "execution_count": 66,
   "id": "be0b90e8",
   "metadata": {},
   "outputs": [
    {
     "data": {
      "text/plain": [
       "2"
      ]
     },
     "execution_count": 66,
     "metadata": {},
     "output_type": "execute_result"
    }
   ],
   "source": [
    "Dog.legs=2\n",
    "Dog.legs"
   ]
  },
  {
   "cell_type": "code",
   "execution_count": 67,
   "id": "c37b9aae",
   "metadata": {},
   "outputs": [
    {
     "ename": "TypeError",
     "evalue": "__init__() missing 1 required positional argument: 'breed'",
     "output_type": "error",
     "traceback": [
      "\u001b[1;31m---------------------------------------------------------------------------\u001b[0m",
      "\u001b[1;31mTypeError\u001b[0m                                 Traceback (most recent call last)",
      "\u001b[1;32m~\\AppData\\Local\\Temp\\ipykernel_23568\\14776885.py\u001b[0m in \u001b[0;36m<module>\u001b[1;34m\u001b[0m\n\u001b[1;32m----> 1\u001b[1;33m \u001b[0mDog\u001b[0m\u001b[1;33m=\u001b[0m\u001b[0mdog\u001b[0m\u001b[1;33m(\u001b[0m\u001b[1;34m\"innomatics\"\u001b[0m\u001b[1;33m)\u001b[0m\u001b[1;33m\u001b[0m\u001b[1;33m\u001b[0m\u001b[0m\n\u001b[0m\u001b[0;32m      2\u001b[0m \u001b[0mDog\u001b[0m\u001b[1;33m.\u001b[0m\u001b[0mbark\u001b[0m\u001b[1;33m\u001b[0m\u001b[1;33m\u001b[0m\u001b[0m\n",
      "\u001b[1;31mTypeError\u001b[0m: __init__() missing 1 required positional argument: 'breed'"
     ]
    }
   ],
   "source": [
    "Dog=dog(\"innomatics\")\n",
    "Dog.bark"
   ]
  },
  {
   "cell_type": "code",
   "execution_count": 68,
   "id": "603afd19",
   "metadata": {},
   "outputs": [],
   "source": [
    "class bird():\n",
    "    def __init__(self,name):\n",
    "        self.legs=2\n",
    "        self.tail=1\n",
    "        self.name=name\n",
    "    def fly(self):\n",
    "        print('fly')"
   ]
  },
  {
   "cell_type": "code",
   "execution_count": 69,
   "id": "d9eceef8",
   "metadata": {},
   "outputs": [],
   "source": [
    "Bird=bird(name='sparrow')"
   ]
  },
  {
   "cell_type": "code",
   "execution_count": 70,
   "id": "00fc00ef",
   "metadata": {},
   "outputs": [
    {
     "data": {
      "text/plain": [
       "1"
      ]
     },
     "execution_count": 70,
     "metadata": {},
     "output_type": "execute_result"
    }
   ],
   "source": [
    "Bird.tail"
   ]
  },
  {
   "cell_type": "code",
   "execution_count": 71,
   "id": "926a56be",
   "metadata": {},
   "outputs": [
    {
     "data": {
      "text/plain": [
       "'parrot'"
      ]
     },
     "execution_count": 71,
     "metadata": {},
     "output_type": "execute_result"
    }
   ],
   "source": [
    "Bird.name=\"parrot\"\n",
    "Bird.name"
   ]
  },
  {
   "cell_type": "markdown",
   "id": "dff61bed",
   "metadata": {},
   "source": [
    "# inheritance"
   ]
  },
  {
   "cell_type": "code",
   "execution_count": null,
   "id": "01aa5ff0",
   "metadata": {},
   "outputs": [],
   "source": [
    "# *args\n",
    "# **kwargs"
   ]
  },
  {
   "cell_type": "code",
   "execution_count": 76,
   "id": "b071825b",
   "metadata": {},
   "outputs": [],
   "source": [
    "def fun(*args):\n",
    "    x=args\n",
    "    for i in x:\n",
    "        print(i)"
   ]
  },
  {
   "cell_type": "code",
   "execution_count": 77,
   "id": "7ea03661",
   "metadata": {},
   "outputs": [
    {
     "name": "stdout",
     "output_type": "stream",
     "text": [
      "1\n",
      "2\n",
      "3\n",
      "4\n",
      "5\n",
      "6\n",
      "7\n",
      "8\n",
      "1\n"
     ]
    }
   ],
   "source": [
    "fun(1,2,3,4,5,6,7,8,1)"
   ]
  },
  {
   "cell_type": "code",
   "execution_count": 99,
   "id": "e811e580",
   "metadata": {},
   "outputs": [],
   "source": [
    "class Animal:\n",
    "    def __init__(self,breed,legs):\n",
    "        self.breed=breed\n",
    "        self.legs=legs\n",
    "        \n",
    "    def details(self):\n",
    "        print(\"I am from parent class\")"
   ]
  },
  {
   "cell_type": "code",
   "execution_count": 100,
   "id": "fb1a7dcc",
   "metadata": {},
   "outputs": [],
   "source": [
    "class Dog(Animal):\n",
    "    def __init__(self,name,breed,legs):\n",
    "        Animal.__init__(self,breed,legs)\n",
    "        self.name=name\n",
    "    def bark(self):\n",
    "        print('bark')\n",
    "        Animal.details(self)"
   ]
  },
  {
   "cell_type": "code",
   "execution_count": 101,
   "id": "16454042",
   "metadata": {},
   "outputs": [],
   "source": [
    "dog=Dog(name='Tiger',breed='Labrador',legs=4)"
   ]
  },
  {
   "cell_type": "code",
   "execution_count": 102,
   "id": "fa5101c1",
   "metadata": {},
   "outputs": [
    {
     "data": {
      "text/plain": [
       "4"
      ]
     },
     "execution_count": 102,
     "metadata": {},
     "output_type": "execute_result"
    }
   ],
   "source": [
    "dog.name\n",
    "dog.breed\n",
    "dog.legs"
   ]
  },
  {
   "cell_type": "code",
   "execution_count": 1,
   "id": "1c139f34",
   "metadata": {},
   "outputs": [
    {
     "ename": "NameError",
     "evalue": "name 'person' is not defined",
     "output_type": "error",
     "traceback": [
      "\u001b[1;31m---------------------------------------------------------------------------\u001b[0m",
      "\u001b[1;31mNameError\u001b[0m                                 Traceback (most recent call last)",
      "\u001b[1;32m~\\AppData\\Local\\Temp\\ipykernel_6828\\699860262.py\u001b[0m in \u001b[0;36m<module>\u001b[1;34m\u001b[0m\n\u001b[0;32m      1\u001b[0m \u001b[1;31m# parent class\u001b[0m\u001b[1;33m\u001b[0m\u001b[1;33m\u001b[0m\u001b[0m\n\u001b[1;32m----> 2\u001b[1;33m \u001b[1;32mclass\u001b[0m \u001b[0mEmployee\u001b[0m\u001b[1;33m(\u001b[0m\u001b[0mperson\u001b[0m\u001b[1;33m)\u001b[0m\u001b[1;33m:\u001b[0m\u001b[1;33m\u001b[0m\u001b[1;33m\u001b[0m\u001b[0m\n\u001b[0m\u001b[0;32m      3\u001b[0m \u001b[1;33m\u001b[0m\u001b[0m\n\u001b[0;32m      4\u001b[0m     \u001b[1;32mdef\u001b[0m \u001b[0m__init__\u001b[0m\u001b[1;33m(\u001b[0m\u001b[0mself\u001b[0m\u001b[1;33m,\u001b[0m\u001b[0mname\u001b[0m\u001b[1;33m,\u001b[0m\u001b[0midnumber\u001b[0m\u001b[1;33m,\u001b[0m\u001b[0msalary\u001b[0m\u001b[1;33m,\u001b[0m\u001b[0mpost\u001b[0m\u001b[1;33m)\u001b[0m\u001b[1;33m:\u001b[0m \u001b[1;31m# __init__ is known as the constructor\u001b[0m\u001b[1;33m\u001b[0m\u001b[1;33m\u001b[0m\u001b[0m\n\u001b[0;32m      5\u001b[0m         \u001b[0mself\u001b[0m\u001b[1;33m.\u001b[0m\u001b[0mname\u001b[0m\u001b[1;33m=\u001b[0m\u001b[0mname\u001b[0m\u001b[1;33m\u001b[0m\u001b[1;33m\u001b[0m\u001b[0m\n",
      "\u001b[1;31mNameError\u001b[0m: name 'person' is not defined"
     ]
    }
   ],
   "source": [
    "# parent class\n",
    "class Employee(person):\n",
    "    \n",
    "    def __init__(self,name,idnumber,salary,post): # __init__ is known as the constructor\n",
    "        self.name=name \n",
    "        self.idnumber=idnumber\n",
    "    def display(self):\n",
    "        print(self.name)\n",
    "        print(self.idnumber)\n",
    "    def details(self):\n",
    "        print(\"My name is {}\".format(self.name))\n",
    "        print(\"My idnumber is {}\".format(self.idnumber))\n",
    "        \n",
    "        Person.__init__(self,name,idnumber)#invoking the__init__ of the parent class\n",
    "    def details(self):\n",
    "        print(\"Post: {}\".format(self.post))\n",
    "        Person.details(self)\n",
    "        \n",
    "a=Employee('chaitanya',880116,200000,\"Intern\")# creation of an object variable or an instance\n",
    "\n",
    "# calling a function of the class person using\n",
    "# its instance\n",
    "a.details()"
   ]
  },
  {
   "cell_type": "code",
   "execution_count": 107,
   "id": "673d35ec",
   "metadata": {},
   "outputs": [],
   "source": [
    "# key word argumetns\n",
    "\n",
    "def my_function():\n",
    "    for key,value in kwargs.items():\n",
    "        print(\"{}:{}\".format(key,value))"
   ]
  },
  {
   "cell_type": "code",
   "execution_count": 111,
   "id": "66d7847f",
   "metadata": {},
   "outputs": [],
   "source": [
    "# Employee class\n",
    "class Employee:\n",
    "    def __init__(self,name,id_number,salary):\n",
    "        self.name=name\n",
    "        self.id_number=id_number\n",
    "        self.salary=salary\n",
    "        \n",
    "class Fulltime(Employee):\n",
    "    def __init__(self,bonus,*args,**kwargs):\n",
    "        super().__init__(*args,**kwargs)\n",
    "        \n",
    "        self.bonus=bonus\n",
    "        \n",
    "class PartTime(Employee):\n",
    "    def __init__(self,name,id_number,hourly_rate):\n",
    "        super().__init__(name,id_number,0)\n",
    "        self.hourly_rate=hourly_rate\n",
    "full_time_employee=Fulltime(name='chaitanya',id_number=12345,salary=50000,bonus=5000)\n",
    "PartTime_employee=PartTime(\"krishna\",67890,20)"
   ]
  },
  {
   "cell_type": "code",
   "execution_count": 116,
   "id": "1ec3bb60",
   "metadata": {},
   "outputs": [
    {
     "data": {
      "text/plain": [
       "'chaitanya'"
      ]
     },
     "execution_count": 116,
     "metadata": {},
     "output_type": "execute_result"
    }
   ],
   "source": [
    "full_time_employee.salary\n",
    "full_time_employee.name"
   ]
  },
  {
   "cell_type": "markdown",
   "id": "32c55cd7",
   "metadata": {},
   "source": [
    "# polymorphism"
   ]
  },
  {
   "cell_type": "code",
   "execution_count": 117,
   "id": "819c9402",
   "metadata": {},
   "outputs": [],
   "source": [
    "# shape class\n",
    "class Shape:\n",
    "    def area(self):\n",
    "        pass\n",
    "    \n",
    "class Cirlce(Shape):\n",
    "    def __init__(self,radius):\n",
    "        self.radius=radius\n",
    "    def area(self):\n",
    "        return 3.14*self.radius*self.radius\n",
    "    \n",
    "class Square(Shape):\n",
    "    def __init__(self,side):\n",
    "        self.side=side\n",
    "    def area(self):\n",
    "        return self.side*self.side\n",
    "\n",
    "class Rectangle(Shape):\n",
    "    def __init__(self,length,width):\n",
    "        self.length=length\n",
    "        self.width=width\n",
    "    def area(self):\n",
    "        return self.length*self.width\n",
    "        "
   ]
  },
  {
   "cell_type": "code",
   "execution_count": 118,
   "id": "e1477f27",
   "metadata": {},
   "outputs": [
    {
     "data": {
      "text/plain": [
       "25"
      ]
     },
     "execution_count": 118,
     "metadata": {},
     "output_type": "execute_result"
    }
   ],
   "source": [
    "square=Square(5)\n",
    "square.area()"
   ]
  },
  {
   "cell_type": "code",
   "execution_count": 119,
   "id": "12502845",
   "metadata": {},
   "outputs": [
    {
     "data": {
      "text/plain": [
       "12"
      ]
     },
     "execution_count": 119,
     "metadata": {},
     "output_type": "execute_result"
    }
   ],
   "source": [
    "rectangle=Rectangle(3,4)\n",
    "rectangle.area()"
   ]
  },
  {
   "cell_type": "code",
   "execution_count": 36,
   "id": "203271cf",
   "metadata": {},
   "outputs": [],
   "source": [
    "# create  class shopping cart that should add product in cart also it should give total items and amout\n",
    "class shopping_cart:\n",
    "    def __init__(self):\n",
    "        self.product_list={}\n",
    "        self.total=0\n",
    "        self.total_items=0\n",
    "        \n",
    "    def add_cart(self,product,price):\n",
    "        self.product_list[product]=price\n",
    "        print(f'Total items in the cart{len(self.product_list)}')\n",
    "        self.total=sum(self.product_list.values())\n",
    "        print(f'Total of all the item {self.total}')\n",
    "  #Increase the total_items      \n",
    "    def remove_product(self,product,price):         \n",
    "        del(self.product_list[product])\n",
    "        self.total=self.total-price\n",
    "        print(f'Total items in the cart{len(self.product_list)}')\n",
    "        self.total=sum(self.product_list.values())\n",
    "        print(\"total cost of itmes(self.total)\")\n",
    "        pass"
   ]
  },
  {
   "cell_type": "code",
   "execution_count": 37,
   "id": "5a068dd5",
   "metadata": {},
   "outputs": [],
   "source": [
    "cart=shopping_cart()"
   ]
  },
  {
   "cell_type": "code",
   "execution_count": 38,
   "id": "8247dfb6",
   "metadata": {},
   "outputs": [
    {
     "name": "stdout",
     "output_type": "stream",
     "text": [
      "Total items in the cart1\n",
      "Total of all the item 250\n",
      "Total items in the cart2\n",
      "Total of all the item 1036\n",
      "Total items in the cart3\n",
      "Total of all the item 1381\n"
     ]
    }
   ],
   "source": [
    "cart.add_cart('deodrant',250)\n",
    "cart.add_cart('perfume',786)\n",
    "cart.add_cart('bangle',345)"
   ]
  },
  {
   "cell_type": "code",
   "execution_count": 31,
   "id": "11dad873",
   "metadata": {},
   "outputs": [
    {
     "name": "stdout",
     "output_type": "stream",
     "text": [
      "Total items in the cart1\n",
      "total cost of itmes(self.total)\n"
     ]
    }
   ],
   "source": [
    "cart.remove_product('perfume',786)"
   ]
  },
  {
   "cell_type": "code",
   "execution_count": null,
   "id": "7fc15f70",
   "metadata": {},
   "outputs": [],
   "source": []
  },
  {
   "cell_type": "code",
   "execution_count": 2,
   "id": "9308c0d7",
   "metadata": {},
   "outputs": [
    {
     "data": {
      "text/plain": [
       "3"
      ]
     },
     "execution_count": 2,
     "metadata": {},
     "output_type": "execute_result"
    }
   ],
   "source": [
    "dic={'1':1,'2':2}\n",
    "sum(dic.values())"
   ]
  },
  {
   "cell_type": "code",
   "execution_count": null,
   "id": "a9723d6c",
   "metadata": {},
   "outputs": [],
   "source": []
  }
 ],
 "metadata": {
  "kernelspec": {
   "display_name": "Python 3 (ipykernel)",
   "language": "python",
   "name": "python3"
  },
  "language_info": {
   "codemirror_mode": {
    "name": "ipython",
    "version": 3
   },
   "file_extension": ".py",
   "mimetype": "text/x-python",
   "name": "python",
   "nbconvert_exporter": "python",
   "pygments_lexer": "ipython3",
   "version": "3.9.13"
  }
 },
 "nbformat": 4,
 "nbformat_minor": 5
}
